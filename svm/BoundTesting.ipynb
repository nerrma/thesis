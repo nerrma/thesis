{
 "cells": [
  {
   "cell_type": "code",
   "execution_count": 9,
   "id": "c226d8c4-dd58-49dd-9361-b346df715535",
   "metadata": {},
   "outputs": [],
   "source": [
    "from sklearn.svm import SVC\n",
    "from sklearn.datasets import load_breast_cancer, make_classification\n",
    "from sklearn.preprocessing import StandardScaler, normalize\n",
    "from sklearn.metrics import accuracy_score\n",
    "from sklearn.model_selection import LeaveOneOut\n",
    "\n",
    "from sampler import sample_from_logreg\n",
    "\n",
    "import numpy as np\n",
    "import matplotlib.pyplot as plt\n",
    "\n",
    "from cv_svm import SVM_smooth\n",
    "\n",
    "#import matplotlib\n",
    "#matplotlib.use(\"pgf\")\n",
    "#matplotlib.rcParams.update({\n",
    "#    \"pgf.texsystem\": \"pdflatex\",\n",
    "#    'font.family': 'serif',\n",
    "#    'text.usetex': True,\n",
    "#    'pgf.rcfonts': False,\n",
    "#})"
   ]
  },
  {
   "cell_type": "code",
   "execution_count": 2,
   "id": "c4086520-17a5-4960-bc9d-403885ee5660",
   "metadata": {},
   "outputs": [],
   "source": [
    "X, y = load_breast_cancer(return_X_y=True)\n",
    "#X, y = make_classification(n_samples=250, n_features=50)\n",
    "#X, _, y = sample_from_logreg(n=250, p=20, seed=120)\n",
    "n = X.shape[0]\n",
    "p = X.shape[1]\n",
    "y[np.where(y == 0)] = -1"
   ]
  },
  {
   "cell_type": "code",
   "execution_count": 3,
   "id": "11f9681e-efa1-4a21-852e-a347a53aaee0",
   "metadata": {},
   "outputs": [
    {
     "name": "stdout",
     "output_type": "stream",
     "text": [
      "(569, 30)\n"
     ]
    }
   ],
   "source": [
    "X = StandardScaler().fit_transform(X)\n",
    "#X_scaled = X\n",
    "print(X.shape)"
   ]
  },
  {
   "cell_type": "code",
   "execution_count": 4,
   "id": "758369ba",
   "metadata": {},
   "outputs": [],
   "source": [
    "sigma = 1e-1\n",
    "lbd = 1"
   ]
  },
  {
   "cell_type": "code",
   "execution_count": 5,
   "id": "30800566",
   "metadata": {},
   "outputs": [
    {
     "name": "stdout",
     "output_type": "stream",
     "text": [
      "0.0\n",
      "76.17939684051998\n"
     ]
    },
    {
     "data": {
      "text/plain": [
       "0.37778591377145715"
      ]
     },
     "execution_count": 5,
     "metadata": {},
     "output_type": "execute_result"
    }
   ],
   "source": [
    "# calculate maximum bound\n",
    "from sklearn.metrics import pairwise_distances\n",
    "m_max = np.min(pairwise_distances(X))\n",
    "print(m_max)\n",
    "\n",
    "C = np.linalg.norm(X.T @ X)/n\n",
    "\n",
    "max_bound = 1 + C/(lbd * sigma) *\\\n",
    "            1/(2 * np.sqrt(1 + (m_max/sigma)**2)**3)\n",
    "print(max_bound)\n",
    "\n",
    "# what lambda do we have to pick?\n",
    "b = 200\n",
    "lbd_pick = C/((b - 1) * sigma) *\\\n",
    "            1/(2 * np.sqrt(1 + (m_max/sigma)**2)**3)\n",
    "lbd_pick"
   ]
  },
  {
   "cell_type": "code",
   "execution_count": 6,
   "id": "020e96b9-28ff-4261-a148-c9e6e061716c",
   "metadata": {
    "scrolled": true
   },
   "outputs": [
    {
     "name": "stdout",
     "output_type": "stream",
     "text": [
      "running experiment for sigma = 0.02 | lbd = 125.29899473419998\n",
      "stopping early at iteration 88\n",
      "\t cond num 1.0000333786010742\n",
      "\t grad 9.831294229105722e-05\n",
      "running experiment for sigma = 0.05 | lbd = 50.11959789367998\n",
      "stopping early at iteration 226\n",
      "\t cond num 1.016272783279419\n",
      "\t grad 9.611735640693198e-05\n",
      "running experiment for sigma = 0.2 | lbd = 12.529899473419995\n",
      "stopping early at iteration 716\n",
      "\t cond num 1.5588079690933228\n",
      "\t grad 9.955789601502103e-05\n",
      "running experiment for sigma = 0.4 | lbd = 6.2649497367099976\n",
      "stopping early at iteration 1306\n",
      "\t cond num 2.1120858192443848\n",
      "\t grad 9.94506161961733e-05\n",
      "running experiment for sigma = 0.8 | lbd = 3.1324748683549988\n",
      "\t cond num 2.3516881465911865\n",
      "\t grad 0.0019318438066021296\n",
      "running experiment for sigma = 1 | lbd = 2.5059798946839993\n",
      "\t cond num 2.395793914794922\n",
      "\t grad 0.0046893482924602135\n",
      "running experiment for sigma = 1.25 | lbd = 2.0047839157471996\n",
      "\t cond num 2.4369888305664062\n",
      "\t grad 0.010369082417052458\n",
      "running experiment for sigma = 20 | lbd = 0.12529899473419998\n",
      "\t cond num 3.4154436588287354\n",
      "\t grad 0.8551106870060343\n",
      "running experiment for sigma = 0.002 | lbd = 417.66331578066655\n",
      "stopping early at iteration 23\n",
      "\t cond num 1.0000001192092896\n",
      "\t grad 7.638747636198114e-05\n",
      "running experiment for sigma = 0.02 | lbd = 41.76633157806666\n",
      "stopping early at iteration 271\n",
      "\t cond num 1.0221407413482666\n",
      "\t grad 9.785912607510925e-05\n",
      "running experiment for sigma = 0.05 | lbd = 16.70653263122666\n",
      "stopping early at iteration 593\n",
      "\t cond num 1.3230270147323608\n",
      "\t grad 9.935023010933158e-05\n",
      "running experiment for sigma = 0.2 | lbd = 4.176633157806665\n",
      "\t cond num 2.7182729244232178\n",
      "\t grad 0.0005731086596887681\n",
      "running experiment for sigma = 0.4 | lbd = 2.0883165789033327\n",
      "\t cond num 3.2600696086883545\n",
      "\t grad 0.00814827212666613\n",
      "running experiment for sigma = 0.8 | lbd = 1.0441582894516663\n",
      "\t cond num 3.8467650413513184\n",
      "\t grad 0.03875172465200918\n",
      "running experiment for sigma = 1 | lbd = 0.8353266315613331\n",
      "\t cond num 4.063790321350098\n",
      "\t grad 0.060117482940481096\n",
      "running experiment for sigma = 1.25 | lbd = 0.6682613052490665\n",
      "\t cond num 4.302590370178223\n",
      "\t grad 0.09015330483768573\n",
      "running experiment for sigma = 20 | lbd = 0.041766331578066654\n",
      "\t cond num 8.202598571777344\n",
      "\t grad 0.9569046520094039\n",
      "running experiment for sigma = 0.002 | lbd = 37.96939234369696\n",
      "stopping early at iteration 301\n",
      "\t cond num 1.0038232803344727\n",
      "\t grad 9.76213881932063e-05\n",
      "running experiment for sigma = 0.02 | lbd = 3.796939234369696\n",
      "\t cond num 2.5637571811676025\n",
      "\t grad 0.0012067651747028104\n",
      "running experiment for sigma = 0.05 | lbd = 1.5187756937478785\n",
      "\t cond num 4.504525661468506\n",
      "\t grad 0.01853128218726548\n",
      "running experiment for sigma = 0.2 | lbd = 0.3796939234369696\n",
      "\t cond num 10.816418647766113\n",
      "\t grad 0.09021644473578454\n",
      "running experiment for sigma = 0.4 | lbd = 0.1898469617184848\n",
      "\t cond num 16.73979949951172\n",
      "\t grad 0.1459327840629458\n",
      "running experiment for sigma = 0.8 | lbd = 0.0949234808592424\n",
      "\t cond num 25.26072120666504\n",
      "\t grad 0.21647150009263988\n",
      "running experiment for sigma = 1 | lbd = 0.07593878468739393\n",
      "\t cond num 28.508928298950195\n",
      "\t grad 0.24435814905888995\n",
      "running experiment for sigma = 1.25 | lbd = 0.060751027749915136\n",
      "\t cond num 31.96698760986328\n",
      "\t grad 0.2757814770926118\n",
      "running experiment for sigma = 20 | lbd = 0.003796939234369696\n",
      "\t cond num 79.94778442382812\n",
      "\t grad 1.0071402612572096\n",
      "running experiment for sigma = 0.002 | lbd = 9.420977047684207\n",
      "stopping early at iteration 968\n",
      "\t cond num 1.6419472694396973\n",
      "\t grad 9.992144225348495e-05\n",
      "running experiment for sigma = 0.02 | lbd = 0.9420977047684208\n",
      "\t cond num 6.6222243309021\n",
      "\t grad 0.03386649919264856\n",
      "running experiment for sigma = 0.05 | lbd = 0.37683908190736826\n",
      "\t cond num 14.07851505279541\n",
      "\t grad 0.08377662212697841\n",
      "running experiment for sigma = 0.2 | lbd = 0.09420977047684206\n",
      "\t cond num 40.819759368896484\n",
      "\t grad 0.15748783463473437\n",
      "running experiment for sigma = 0.4 | lbd = 0.04710488523842103\n",
      "\t cond num 61.94412612915039\n",
      "\t grad 0.1956323734455864\n",
      "running experiment for sigma = 0.8 | lbd = 0.023552442619210516\n",
      "\t cond num 97.19338989257812\n",
      "\t grad 0.24937943625560635\n",
      "running experiment for sigma = 1 | lbd = 0.018841954095368416\n",
      "\t cond num 110.48817443847656\n",
      "\t grad 0.2729516536699783\n",
      "running experiment for sigma = 1.25 | lbd = 0.015073563276294734\n",
      "\t cond num 124.58932495117188\n",
      "\t grad 0.30059367423721495\n",
      "running experiment for sigma = 20 | lbd = 0.0009420977047684208\n",
      "\t cond num 318.3219909667969\n",
      "\t grad 1.0110233938217241\n"
     ]
    }
   ],
   "source": [
    "# can we control the condition number for different sigma?\n",
    "sigmas = [2e-3, 2e-2, 5e-2, 2e-1, 4e-1, 8e-1, 1, 1.25, 20]\n",
    "mean_cond_nums = []\n",
    "lbd_picks = []\n",
    "\n",
    "bounds = [4, 10, 100, 400]\n",
    "for b in bounds:\n",
    "    inter = []\n",
    "    inter_lbd = []\n",
    "    for s in sigmas:\n",
    "        #m_max = s\n",
    "        lbd_pick = C/((b - 1) * s) *\\\n",
    "                    1/(2 * np.sqrt(1 + (m_max/s)**2)**3)\n",
    "        \n",
    "        if lbd_pick > 1e3:\n",
    "            continue\n",
    "\n",
    "        print(f\"running experiment for sigma = {s} | lbd = {lbd_pick}\")\n",
    "        clf = SVM_smooth(sigma=s, lbd=lbd_pick)\n",
    "        clf.fit(X, y, thresh=1e-4, n_iter=1500, eta=0.5/n,\n",
    "                approx_cv=True, log_iter=False, log_iacv=False,\n",
    "                save_cond_nums=True, cv=False,\n",
    "                warm_start=0, normalise=False, adjust_factor=True,\n",
    "                save_hessian_norms=False)\n",
    "        inter.append(np.mean(clf.cond_nums_))\n",
    "        inter_lbd.append(lbd_pick)\n",
    "        print(f\"\\t cond num {np.mean(clf.cond_nums_)}\")\n",
    "        print(f\"\\t grad {np.linalg.norm(clf.nabla_fgd_(clf.weights_, X, y, clf.sigma_, clf.lbd_))}\")\n",
    "    mean_cond_nums.append(inter)\n",
    "    lbd_picks.append(inter_lbd)"
   ]
  },
  {
   "cell_type": "code",
   "execution_count": 10,
   "id": "acf4b1c4",
   "metadata": {},
   "outputs": [
    {
     "name": "stderr",
     "output_type": "stream",
     "text": [
      "/tmp/ipykernel_10452/2716455078.py:18: UserWarning: FigureCanvasPgf is non-interactive, and thus cannot be shown\n",
      "  plt.show()\n",
      "/tmp/ipykernel_10452/2716455078.py:18: UserWarning: FigureCanvasPgf is non-interactive, and thus cannot be shown\n",
      "  plt.show()\n"
     ]
    }
   ],
   "source": [
    "for i, b in enumerate(bounds):\n",
    "    fig, ax = plt.subplots()\n",
    "    fr =  len(sigmas) - len(mean_cond_nums[i])\n",
    "    ax.plot(sigmas[fr:], mean_cond_nums[i], c='blue')\n",
    "\n",
    "    ax.set_title(f'$b$ = {b}')\n",
    "    ax.set_xscale('log')\n",
    "    ax.set_xlabel(\"$\\log(\\sigma)$\")\n",
    "    ax.set_ylabel(\"Condition No.\")\n",
    "    \n",
    "    ax2 = ax.twinx()\n",
    "    ax2.plot(sigmas[fr:], lbd_picks[i], c='purple', alpha=0.4, linestyle='--')\n",
    "    ax2.set_yscale('log')\n",
    "    ax2.set_ylabel(\"$\\log(\\lambda_b)$\")\n",
    "    ws = 1.45 # 1.75\n",
    "    hs = 1.35 # 1.25\n",
    "    fig.set_size_inches(w=5.73/ws, h=3.5/hs)\n",
    "    plt.show()\n",
    "    plt.savefig(f'svm_bound_cond_no_heart_lbd_{b}.pgf', bbox_inches='tight', pad_inches=0)"
   ]
  },
  {
   "cell_type": "code",
   "execution_count": 8,
   "id": "34378843",
   "metadata": {},
   "outputs": [
    {
     "ename": "ValueError",
     "evalue": "x and y must have same first dimension, but have shapes (9,) and (8,)",
     "output_type": "error",
     "traceback": [
      "\u001b[0;31m---------------------------------------------------------------------------\u001b[0m",
      "\u001b[0;31mValueError\u001b[0m                                Traceback (most recent call last)",
      "Cell \u001b[0;32mIn[8], line 3\u001b[0m\n\u001b[1;32m      1\u001b[0m \u001b[38;5;28;01mfor\u001b[39;00m i, b \u001b[38;5;129;01min\u001b[39;00m \u001b[38;5;28menumerate\u001b[39m(bounds):\n\u001b[1;32m      2\u001b[0m     fig, ax \u001b[38;5;241m=\u001b[39m plt\u001b[38;5;241m.\u001b[39msubplots()\n\u001b[0;32m----> 3\u001b[0m     \u001b[43max\u001b[49m\u001b[38;5;241;43m.\u001b[39;49m\u001b[43mplot\u001b[49m\u001b[43m(\u001b[49m\u001b[43msigmas\u001b[49m\u001b[43m,\u001b[49m\u001b[43m \u001b[49m\u001b[43mlbd_picks\u001b[49m\u001b[43m[\u001b[49m\u001b[43mi\u001b[49m\u001b[43m]\u001b[49m\u001b[43m,\u001b[49m\u001b[43m \u001b[49m\u001b[43mc\u001b[49m\u001b[38;5;241;43m=\u001b[39;49m\u001b[38;5;124;43m'\u001b[39;49m\u001b[38;5;124;43mpurple\u001b[39;49m\u001b[38;5;124;43m'\u001b[39;49m\u001b[43m)\u001b[49m\n\u001b[1;32m      5\u001b[0m     ax\u001b[38;5;241m.\u001b[39mset_title(\u001b[38;5;124mf\u001b[39m\u001b[38;5;124m'\u001b[39m\u001b[38;5;124m$b$ = \u001b[39m\u001b[38;5;132;01m{\u001b[39;00mb\u001b[38;5;132;01m}\u001b[39;00m\u001b[38;5;124m'\u001b[39m)\n\u001b[1;32m      6\u001b[0m     ax\u001b[38;5;241m.\u001b[39mset_xscale(\u001b[38;5;124m'\u001b[39m\u001b[38;5;124mlog\u001b[39m\u001b[38;5;124m'\u001b[39m)\n",
      "File \u001b[0;32m/usr/lib/python3.11/site-packages/matplotlib/axes/_axes.py:1721\u001b[0m, in \u001b[0;36mAxes.plot\u001b[0;34m(self, scalex, scaley, data, *args, **kwargs)\u001b[0m\n\u001b[1;32m   1478\u001b[0m \u001b[38;5;250m\u001b[39m\u001b[38;5;124;03m\"\"\"\u001b[39;00m\n\u001b[1;32m   1479\u001b[0m \u001b[38;5;124;03mPlot y versus x as lines and/or markers.\u001b[39;00m\n\u001b[1;32m   1480\u001b[0m \n\u001b[0;32m   (...)\u001b[0m\n\u001b[1;32m   1718\u001b[0m \u001b[38;5;124;03m(``'green'``) or hex strings (``'#008000'``).\u001b[39;00m\n\u001b[1;32m   1719\u001b[0m \u001b[38;5;124;03m\"\"\"\u001b[39;00m\n\u001b[1;32m   1720\u001b[0m kwargs \u001b[38;5;241m=\u001b[39m cbook\u001b[38;5;241m.\u001b[39mnormalize_kwargs(kwargs, mlines\u001b[38;5;241m.\u001b[39mLine2D)\n\u001b[0;32m-> 1721\u001b[0m lines \u001b[38;5;241m=\u001b[39m [\u001b[38;5;241m*\u001b[39m\u001b[38;5;28mself\u001b[39m\u001b[38;5;241m.\u001b[39m_get_lines(\u001b[38;5;28mself\u001b[39m, \u001b[38;5;241m*\u001b[39margs, data\u001b[38;5;241m=\u001b[39mdata, \u001b[38;5;241m*\u001b[39m\u001b[38;5;241m*\u001b[39mkwargs)]\n\u001b[1;32m   1722\u001b[0m \u001b[38;5;28;01mfor\u001b[39;00m line \u001b[38;5;129;01min\u001b[39;00m lines:\n\u001b[1;32m   1723\u001b[0m     \u001b[38;5;28mself\u001b[39m\u001b[38;5;241m.\u001b[39madd_line(line)\n",
      "File \u001b[0;32m/usr/lib/python3.11/site-packages/matplotlib/axes/_base.py:303\u001b[0m, in \u001b[0;36m_process_plot_var_args.__call__\u001b[0;34m(self, axes, data, *args, **kwargs)\u001b[0m\n\u001b[1;32m    301\u001b[0m     this \u001b[38;5;241m+\u001b[39m\u001b[38;5;241m=\u001b[39m args[\u001b[38;5;241m0\u001b[39m],\n\u001b[1;32m    302\u001b[0m     args \u001b[38;5;241m=\u001b[39m args[\u001b[38;5;241m1\u001b[39m:]\n\u001b[0;32m--> 303\u001b[0m \u001b[38;5;28;01myield from\u001b[39;00m \u001b[38;5;28;43mself\u001b[39;49m\u001b[38;5;241;43m.\u001b[39;49m\u001b[43m_plot_args\u001b[49m\u001b[43m(\u001b[49m\n\u001b[1;32m    304\u001b[0m \u001b[43m    \u001b[49m\u001b[43maxes\u001b[49m\u001b[43m,\u001b[49m\u001b[43m \u001b[49m\u001b[43mthis\u001b[49m\u001b[43m,\u001b[49m\u001b[43m \u001b[49m\u001b[43mkwargs\u001b[49m\u001b[43m,\u001b[49m\u001b[43m \u001b[49m\u001b[43mambiguous_fmt_datakey\u001b[49m\u001b[38;5;241;43m=\u001b[39;49m\u001b[43mambiguous_fmt_datakey\u001b[49m\u001b[43m)\u001b[49m\n",
      "File \u001b[0;32m/usr/lib/python3.11/site-packages/matplotlib/axes/_base.py:499\u001b[0m, in \u001b[0;36m_process_plot_var_args._plot_args\u001b[0;34m(self, axes, tup, kwargs, return_kwargs, ambiguous_fmt_datakey)\u001b[0m\n\u001b[1;32m    496\u001b[0m     axes\u001b[38;5;241m.\u001b[39myaxis\u001b[38;5;241m.\u001b[39mupdate_units(y)\n\u001b[1;32m    498\u001b[0m \u001b[38;5;28;01mif\u001b[39;00m x\u001b[38;5;241m.\u001b[39mshape[\u001b[38;5;241m0\u001b[39m] \u001b[38;5;241m!=\u001b[39m y\u001b[38;5;241m.\u001b[39mshape[\u001b[38;5;241m0\u001b[39m]:\n\u001b[0;32m--> 499\u001b[0m     \u001b[38;5;28;01mraise\u001b[39;00m \u001b[38;5;167;01mValueError\u001b[39;00m(\u001b[38;5;124mf\u001b[39m\u001b[38;5;124m\"\u001b[39m\u001b[38;5;124mx and y must have same first dimension, but \u001b[39m\u001b[38;5;124m\"\u001b[39m\n\u001b[1;32m    500\u001b[0m                      \u001b[38;5;124mf\u001b[39m\u001b[38;5;124m\"\u001b[39m\u001b[38;5;124mhave shapes \u001b[39m\u001b[38;5;132;01m{\u001b[39;00mx\u001b[38;5;241m.\u001b[39mshape\u001b[38;5;132;01m}\u001b[39;00m\u001b[38;5;124m and \u001b[39m\u001b[38;5;132;01m{\u001b[39;00my\u001b[38;5;241m.\u001b[39mshape\u001b[38;5;132;01m}\u001b[39;00m\u001b[38;5;124m\"\u001b[39m)\n\u001b[1;32m    501\u001b[0m \u001b[38;5;28;01mif\u001b[39;00m x\u001b[38;5;241m.\u001b[39mndim \u001b[38;5;241m>\u001b[39m \u001b[38;5;241m2\u001b[39m \u001b[38;5;129;01mor\u001b[39;00m y\u001b[38;5;241m.\u001b[39mndim \u001b[38;5;241m>\u001b[39m \u001b[38;5;241m2\u001b[39m:\n\u001b[1;32m    502\u001b[0m     \u001b[38;5;28;01mraise\u001b[39;00m \u001b[38;5;167;01mValueError\u001b[39;00m(\u001b[38;5;124mf\u001b[39m\u001b[38;5;124m\"\u001b[39m\u001b[38;5;124mx and y can be no greater than 2D, but have \u001b[39m\u001b[38;5;124m\"\u001b[39m\n\u001b[1;32m    503\u001b[0m                      \u001b[38;5;124mf\u001b[39m\u001b[38;5;124m\"\u001b[39m\u001b[38;5;124mshapes \u001b[39m\u001b[38;5;132;01m{\u001b[39;00mx\u001b[38;5;241m.\u001b[39mshape\u001b[38;5;132;01m}\u001b[39;00m\u001b[38;5;124m and \u001b[39m\u001b[38;5;132;01m{\u001b[39;00my\u001b[38;5;241m.\u001b[39mshape\u001b[38;5;132;01m}\u001b[39;00m\u001b[38;5;124m\"\u001b[39m)\n",
      "\u001b[0;31mValueError\u001b[0m: x and y must have same first dimension, but have shapes (9,) and (8,)"
     ]
    },
    {
     "data": {
      "image/png": "[encoded data removed]",
      "text/plain": [
       "<Figure size 640x480 with 1 Axes>"
      ]
     },
     "metadata": {},
     "output_type": "display_data"
    }
   ],
   "source": [
    "for i, b in enumerate(bounds):\n",
    "    fig, ax = plt.subplots()\n",
    "    ax.plot(sigmas, lbd_picks[i], c='purple')\n",
    "\n",
    "    ax.set_title(f'$b$ = {b}')\n",
    "    ax.set_xscale('log')\n",
    "    ax.set_xlabel(\"$\\log(\\sigma)$\")\n",
    "    ax.set_ylabel(\"$\\lambda$\")\n",
    "    ws = 1.45 # 1.75\n",
    "    hs = 1.35 # 1.25\n",
    "    fig.set_size_inches(w=5.73/ws, h=3.5/hs)\n",
    "    plt.show()\n",
    "    #plt.savefig(f'svm_bound_cond_no_{b}.pgf', bbox_inches='tight', pad_inches=0)"
   ]
  },
  {
   "cell_type": "code",
   "execution_count": null,
   "id": "eb6b478f",
   "metadata": {
    "scrolled": false
   },
   "outputs": [],
   "source": [
    "fig, ax = plt.subplots()\n",
    "ax.plot(sigmas, mean_cond_nums, c='purple')\n",
    "ax.plot(sigmas, np.ones(len(sigmas)) * b, linestyle='--', c='black')\n",
    "\n",
    "#ax.set_yscale('log')\n",
    "ax.set_xscale('log')\n",
    "ax.set_xlabel(\"$\\sigma$\")\n",
    "ax.set_ylabel(\"Condition No.\")\n",
    "ws = 1.45 # 1.75\n",
    "hs = 1.35 # 1.25\n",
    "fig.set_size_inches(w=5.73/ws, h=3.5/hs)\n",
    "plt.show()"
   ]
  },
  {
   "cell_type": "code",
   "execution_count": null,
   "id": "c680feb5",
   "metadata": {
    "scrolled": false
   },
   "outputs": [],
   "source": [
    "fig, ax = plt.subplots()\n",
    "ax.plot(np.min(clf.cond_nums_, axis=1), label=\"Min Condition Number\", c='b')\n",
    "ax.plot(np.max(clf.cond_nums_, axis=1), label=\"Max Condition Number\", c='r')\n",
    "ax.plot(np.mean(clf.cond_nums_, axis=1), label=\"Mean Condition Number\", c='purple')\n",
    "#ax.plot(clf.cond_num_bound_, label=\"Bound\", c=\"black\", linestyle=\"--\")\n",
    "\n",
    "#ax.set_yscale('log')\n",
    "ax.set_xlabel(\"Iterations\")\n",
    "ax.set_ylabel(\"Condition No.\")\n",
    "ws = 1.45 # 1.75\n",
    "hs = 1.35 # 1.25\n",
    "fig.set_size_inches(w=5.73/ws, h=3.5/hs)\n",
    "fig.legend()\n",
    "plt.show()\n",
    "#plt.savefig('svm_convergence_cond_no.pgf', bbox_inches='tight', pad_inches=0)"
   ]
  },
  {
   "cell_type": "code",
   "execution_count": null,
   "id": "a7a4d407",
   "metadata": {},
   "outputs": [],
   "source": [
    "np.mean(clf.cond_nums_, axis=1)[np.argmax(np.mean(clf.cond_nums_, axis=1))]"
   ]
  },
  {
   "cell_type": "code",
   "execution_count": null,
   "id": "5dbb799e",
   "metadata": {
    "scrolled": false
   },
   "outputs": [],
   "source": [
    "fig, ax = plt.subplots()\n",
    "ax.plot(clf.err_approx_[\"IACV\"], label=\"IACV\", c='black')\n",
    "#ax.plot(clf.err_approx_[\"NS\"], label=\"NS\", c='red', linestyle=\"--\")\n",
    "ax.plot(clf.err_approx_[\"baseline\"], label=\"Baseline\", c='green', linestyle=\"--\")\n",
    "ax.set_yscale('log')\n",
    "ax.set_xscale('log')\n",
    "ax.set_xlabel(\"Iterations (log)\")\n",
    "ax.set_ylabel(\"Err Approx (log)\")\n",
    "ax.legend()\n",
    "ws = 1.45 # 1.75\n",
    "hs = 1.35 # 1.25\n",
    "fig.set_size_inches(w=5.73/ws, h=3.5/hs)\n",
    "plt.show()\n",
    "#plt.savefig('svm_convergence_err_approx_mod.pgf', bbox_inches='tight', pad_inches=0)"
   ]
  },
  {
   "cell_type": "code",
   "execution_count": null,
   "id": "1e39a2f1",
   "metadata": {
    "scrolled": true
   },
   "outputs": [],
   "source": [
    "fig, ax = plt.subplots()\n",
    "ax.plot(clf.err_cv_[\"IACV\"], label=\"IACV\", c='black')\n",
    "ax.plot(clf.err_cv_[\"baseline\"], label=\"Baseline\", c='green', linestyle=\"--\")\n",
    "ax.set_yscale('log')\n",
    "ax.set_xscale('log')\n",
    "ax.set_xlabel(\"Iterations (log)\")\n",
    "ax.set_ylabel(\"Err CV (log)\")\n",
    "ax.legend()\n",
    "ws = 1.45 # 1.75\n",
    "hs = 1.35 # 1.25\n",
    "fig.set_size_inches(w=5.73/ws, h=3.5/hs)\n",
    "plt.show()\n",
    "#plt.savefig('svm_convergence_err_cv_mod.pgf', bbox_inches='tight', pad_inches=0)"
   ]
  }
 ],
 "metadata": {
  "kernelspec": {
   "display_name": "Python 3 (ipykernel)",
   "language": "python",
   "name": "python3"
  },
  "language_info": {
   "codemirror_mode": {
    "name": "ipython",
    "version": 3
   },
   "file_extension": ".py",
   "mimetype": "text/x-python",
   "name": "python",
   "nbconvert_exporter": "python",
   "pygments_lexer": "ipython3",
   "version": "3.11.6"
  }
 },
 "nbformat": 4,
 "nbformat_minor": 5
}
