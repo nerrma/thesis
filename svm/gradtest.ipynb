{
 "cells": [
  {
   "cell_type": "code",
   "execution_count": 1,
   "id": "7b26e970-f16e-43ee-b06c-29bedcc08b73",
   "metadata": {},
   "outputs": [],
   "source": [
    "from sklearn.svm import LinearSVC, SVC\n",
    "from sklearn.datasets import load_breast_cancer, make_classification\n",
    "from sklearn.preprocessing import StandardScaler, normalize\n",
    "from sklearn.metrics import accuracy_score\n",
    "\n",
    "import numpy as np\n",
    "import matplotlib.pyplot as plt\n",
    "\n",
    "from cv_svm import SVM_smooth\n",
    "from kernel_svm import SVM_smooth_kernel\n",
    "from sampler import sample_from_logreg\n",
    "\n",
    "from sklearn.gaussian_process.kernels import RBF\n",
    "\n",
    "#import matplotlib\n",
    "#matplotlib.use(\"pgf\")\n",
    "#matplotlib.rcParams.update({\n",
    "#    \"pgf.texsystem\": \"pdflatex\",\n",
    "#    'font.family': 'serif',\n",
    "#    'text.usetex': True,\n",
    "#    'pgf.rcfonts': False,\n",
    "#})"
   ]
  },
  {
   "cell_type": "code",
   "execution_count": 2,
   "id": "a47d90b2-45d6-480d-82df-ee2cb0145261",
   "metadata": {},
   "outputs": [],
   "source": [
    "#X, y = load_breast_cancer(return_X_y=True)\n",
    "#X, y = make_classification(n_samples=250, n_features=20, random_state=100, class_sep=0.35)\n",
    "#X = np.random.randn(300, 2)\n",
    "#y = np.array(np.logical_xor(X[:, 0] > 0, X[:, 1] > 0), dtype=int)\n",
    "\n",
    "#X, _, y = sample_from_logreg(n=1000, p=20, seed=120)\n",
    "X, _, y = sample_from_logreg(n=1000, p=20, seed=120)\n",
    "n = X.shape[0]\n",
    "p = X.shape[1]\n",
    "y[np.where(y == True)] = 1\n",
    "y[np.where(y == False)] = 0 \n",
    "y[np.where(y == 0)] = -1"
   ]
  },
  {
   "cell_type": "code",
   "execution_count": 3,
   "id": "f6189a76-c888-4094-a79a-bea8f569deb3",
   "metadata": {},
   "outputs": [],
   "source": [
    "from sklearn.model_selection import StratifiedKFold\n",
    "n_splits = 5 \n",
    "scale_data = True"
   ]
  },
  {
   "cell_type": "code",
   "execution_count": 4,
   "id": "a9975596",
   "metadata": {},
   "outputs": [
    {
     "name": "stdout",
     "output_type": "stream",
     "text": [
      "testing for sklearn CV\n",
      "\t running fold 1 train_acc 0.7225 : val_acc 0.65\n",
      "\t running fold 2 train_acc 0.72625 : val_acc 0.65\n",
      "\t running fold 3 train_acc 0.68875 : val_acc 0.75\n",
      "\t running fold 4 train_acc 0.7 : val_acc 0.715\n",
      "\t running fold 5 train_acc 0.6975 : val_acc 0.71\n",
      "0.695\n"
     ]
    }
   ],
   "source": [
    "sv_accs = []\n",
    "skf = StratifiedKFold(n_splits=n_splits)\n",
    "print(\"testing for sklearn CV\")\n",
    "for i, (train_idx, test_idx) in enumerate(skf.split(X, y)):\n",
    "    print(f\"\\t running fold {i + 1}\", end='')\n",
    "    X_cv = X[train_idx]\n",
    "    \n",
    "    if scale_data:\n",
    "        scaler = StandardScaler()\n",
    "        scaler.fit(X_cv)\n",
    "\n",
    "        X_scaled = scaler.transform(X_cv)\n",
    "    else:\n",
    "        X_scaled = X_cv\n",
    "\n",
    "    clf = LinearSVC(loss='hinge', C=1/n, random_state=3)\n",
    "    #clf = SVC()\n",
    "    clf.fit(X_scaled, y[train_idx])\n",
    "\n",
    "    if scale_data:\n",
    "        y_pred = clf.predict(scaler.transform(X[test_idx]))\n",
    "    else:\n",
    "        y_pred = clf.predict(X[test_idx])\n",
    "        \n",
    "    y_pred_train = clf.predict(X_scaled)\n",
    "        \n",
    "    print(f\" train_acc {accuracy_score(y[train_idx], y_pred_train)} : val_acc {accuracy_score(y[test_idx], y_pred)}\")\n",
    "    sv_accs.append(accuracy_score(y[test_idx], y_pred))\n",
    "print(np.mean(sv_accs))"
   ]
  },
  {
   "cell_type": "code",
   "execution_count": 5,
   "id": "dc4e7893-b566-4036-b4f6-d633bbf58416",
   "metadata": {},
   "outputs": [
    {
     "name": "stdout",
     "output_type": "stream",
     "text": [
      "0.0\n"
     ]
    }
   ],
   "source": [
    "# calculate maximum bound\n",
    "from sklearn.metrics import pairwise_distances\n",
    "m_max = np.min(pairwise_distances(X))**2\n",
    "print(m_max)\n",
    "\n",
    "C = np.linalg.norm(X.T @ X)/(n - 1)\n",
    "\n",
    "# what lambda do we have to pick?\n",
    "b = 1000"
   ]
  },
  {
   "cell_type": "code",
   "execution_count": 6,
   "id": "81ac6858-3edf-46f8-8040-0c3e30bb78fd",
   "metadata": {
    "scrolled": true
   },
   "outputs": [
    {
     "name": "stderr",
     "output_type": "stream",
     "text": [
      "2024-04-23 20:45:52.949697: W external/xla/xla/service/platform_util.cc:198] unable to create StreamExecutor for CUDA:0: failed initializing StreamExecutor for CUDA device ordinal 0: INTERNAL: failed call to cuDevicePrimaryCtxRetain: CUDA_ERROR_OUT_OF_MEMORY: out of memory; total memory reported: 6364659712\n",
      "No GPU/TPU found, falling back to CPU. (Set TF_CPP_MIN_LOG_LEVEL=0 and rerun for more info.)\n"
     ]
    },
    {
     "name": "stdout",
     "output_type": "stream",
     "text": [
      "[2e-05, 0.002, 0.02, 0.2, 0.5, 0.7, 1, 1.5, 2, 2.5]\n",
      "112.20913378353632\n",
      "testing for sigma = 2e-05 | lbd = 112.20913378353632\n",
      "\t running fold 1stopping early at iteration 308\n",
      " : acc 0.645 | grad 9.069775130782533e-09\n",
      "\t running fold 2stopping early at iteration 308\n",
      " : acc 0.64 | grad 8.997925950125339e-09\n",
      "\t running fold 3stopping early at iteration 306\n",
      " : acc 0.75 | grad 9.335054846268402e-09\n",
      "\t running fold 4stopping early at iteration 307\n",
      " : acc 0.705 | grad 8.961391254201905e-09\n",
      "\t running fold 5stopping early at iteration 307\n",
      " : acc 0.71 | grad 9.008709192713172e-09\n",
      "mean CV accuracy is 0.6925\n",
      "1.1220913378353632\n",
      "testing for sigma = 0.002 | lbd = 1.1220913378353632\n",
      "\t running fold 1 : acc 0.65 | grad 0.0006753948578821706\n",
      "\t running fold 2 : acc 0.64 | grad 0.0008483918542120776\n",
      "\t running fold 3 : acc 0.755 | grad 0.0006759232005976007\n",
      "\t running fold 4 : acc 0.71 | grad 0.0007898578099788223\n",
      "\t running fold 5 : acc 0.715 | grad 0.0007786374555024285\n",
      "mean CV accuracy is 0.6944999999999999\n",
      "0.11220913378353632\n",
      "testing for sigma = 0.02 | lbd = 1\n",
      "\t running fold 1 : acc 0.65 | grad 0.0007895513389251415\n",
      "\t running fold 2 : acc 0.645 | grad 0.0011559582120819385\n",
      "\t running fold 3 : acc 0.755 | grad 0.0009065928712955559\n",
      "\t running fold 4 : acc 0.71 | grad 0.0011386821642038667\n",
      "\t running fold 5 : acc 0.71 | grad 0.0008959473981281433\n",
      "mean CV accuracy is 0.694\n",
      "0.01122091337835363\n",
      "testing for sigma = 0.2 | lbd = 1\n",
      "\t running fold 1 : acc 0.65 | grad 0.00041715295283964525\n",
      "\t running fold 2 : acc 0.64 | grad 0.0005540081042407277\n",
      "\t running fold 3 : acc 0.755 | grad 0.0005214479971249316\n",
      "\t running fold 4 : acc 0.715 | grad 0.0005129102064005422\n",
      "\t running fold 5 : acc 0.705 | grad 0.00047422333534737467\n",
      "mean CV accuracy is 0.693\n",
      "0.004488365351341453\n",
      "testing for sigma = 0.5 | lbd = 1\n",
      "\t running fold 1 : acc 0.65 | grad 0.00044199876369598485\n",
      "\t running fold 2 : acc 0.645 | grad 0.00046667789844084226\n",
      "\t running fold 3 : acc 0.755 | grad 0.0004535234329747125\n",
      "\t running fold 4 : acc 0.7 | grad 0.0004858173197821097\n",
      "\t running fold 5 : acc 0.715 | grad 0.0004514452346190958\n",
      "mean CV accuracy is 0.693\n",
      "0.0032059752509581807\n",
      "testing for sigma = 0.7 | lbd = 1\n",
      "\t running fold 1 : acc 0.65 | grad 0.0004976733097240283\n",
      "\t running fold 2 : acc 0.645 | grad 0.0005012837938139176\n",
      "\t running fold 3 : acc 0.755 | grad 0.00048500200321245326\n",
      "\t running fold 4 : acc 0.7 | grad 0.0005217274270521488\n",
      "\t running fold 5 : acc 0.715 | grad 0.0004908827788300887\n",
      "mean CV accuracy is 0.693\n",
      "0.0022441826756707263\n",
      "testing for sigma = 1 | lbd = 1\n",
      "\t running fold 1 : acc 0.65 | grad 0.0005881608751039832\n",
      "\t running fold 2 : acc 0.645 | grad 0.0005748370323611234\n",
      "\t running fold 3 : acc 0.755 | grad 0.0005482613470939627\n",
      "\t running fold 4 : acc 0.7 | grad 0.0005853172772094331\n",
      "\t running fold 5 : acc 0.715 | grad 0.0005607125141007443\n",
      "mean CV accuracy is 0.693\n",
      "0.0014961217837804843\n",
      "testing for sigma = 1.5 | lbd = 1\n",
      "\t running fold 1 : acc 0.65 | grad 0.0007280375773612146\n",
      "\t running fold 2 : acc 0.645 | grad 0.0007009180316569693\n",
      "\t running fold 3 : acc 0.755 | grad 0.0006579592187905171\n",
      "\t running fold 4 : acc 0.7 | grad 0.0006946981048474105\n",
      "\t running fold 5 : acc 0.715 | grad 0.0006773895607811622\n",
      "mean CV accuracy is 0.693\n",
      "0.0011220913378353632\n",
      "testing for sigma = 2 | lbd = 1\n",
      "\t running fold 1 : acc 0.65 | grad 0.0008480162696551866\n",
      "\t running fold 2 : acc 0.645 | grad 0.0008147375369820433\n",
      "\t running fold 3 : acc 0.755 | grad 0.0007595395609976001\n",
      "\t running fold 4 : acc 0.7 | grad 0.0007963735517386555\n",
      "\t running fold 5 : acc 0.715 | grad 0.0007834304519996624\n",
      "mean CV accuracy is 0.693\n",
      "0.0008976730702682905\n",
      "testing for sigma = 2.5 | lbd = 1\n",
      "\t running fold 1 : acc 0.65 | grad 0.000948215570725679\n",
      "\t running fold 2 : acc 0.645 | grad 0.0009123194719658797\n",
      "\t running fold 3 : acc 0.755 | grad 0.0008479092067911759\n",
      "\t running fold 4 : acc 0.7 | grad 0.0008848373830882417\n",
      "\t running fold 5 : acc 0.715 | grad 0.0008747686415644296\n",
      "mean CV accuracy is 0.693\n"
     ]
    }
   ],
   "source": [
    "#sigmas = [2e-15, 2e-10, 2e-5, 2e-3, 2e-2, 2e-1, 5e-1, 7e-1, 1, 1.5, 2, 2.5]\n",
    "sigmas = [2e-5, 2e-3, 2e-2, 2e-1, 5e-1, 7e-1, 1, 1.5, 2, 2.5]\n",
    "print(sigmas)\n",
    "accuracies = []\n",
    "all_grads = []\n",
    "lbd = 1\n",
    "\n",
    "for s in sigmas:\n",
    "    accs = []\n",
    "    skf = StratifiedKFold(n_splits=n_splits)\n",
    "    lbd_pick = C/((b - 1) * s) *\\\n",
    "                1/(2 * np.sqrt(1 + (m_max/s)**2)**3)\n",
    "    if lbd_pick > 1e4:\n",
    "        continue\n",
    "        \n",
    "    print(lbd_pick)\n",
    "    lbd_pick = max(lbd_pick, lbd)\n",
    "        \n",
    "    print(f\"testing for sigma = {s} | lbd = {lbd_pick}\")\n",
    "    for i, (train_idx, test_idx) in enumerate(skf.split(X, y)):\n",
    "        print(f\"\\t running fold {i + 1}\", end='')\n",
    "        X_cv = X[train_idx]\n",
    "        if scale_data:\n",
    "            scaler = StandardScaler()\n",
    "            scaler.fit(X_cv)\n",
    "\n",
    "            X_scaled = scaler.transform(X_cv)\n",
    "        else:\n",
    "            X_scaled = X_cv\n",
    "        lr = 0.5/n\n",
    "        \n",
    "        #length_scale = 2\n",
    "        #clf = SVM_smooth_kernel(sigma=s, lbd=1, kernel=RBF(length_scale))\n",
    "        #clf.fit(X_scaled, y[train_idx], thresh=1e-4, n_iter=2500, eta=lr, approx_cv=False, cv=False)\n",
    "\n",
    "        num_iter = 10_000\n",
    "        clf_lbd1 = SVM_smooth(sigma=s, lbd=lbd)\n",
    "        clf_lbd1.fit(X_scaled, y[train_idx], thresh=1e-8, n_iter=num_iter, eta=lr, approx_cv=False, cv=False, save_grads=True, adjust_factor=True)\n",
    "        \n",
    "        clf = SVM_smooth(sigma=s, lbd=lbd_pick)\n",
    "        clf.fit(X_scaled, y[train_idx], thresh=1e-8, n_iter=num_iter, eta=lr, approx_cv=False, cv=False, save_grads=True, adjust_factor=True)\n",
    "        \n",
    "        if scale_data:\n",
    "            y_pred_l1 = clf_lbd1.predict(scaler.transform(X[test_idx]))\n",
    "            y_pred = clf.predict(scaler.transform(X[test_idx]))\n",
    "        else:\n",
    "            y_pred_l1 = clf_lbd1.predict(X[test_idx])\n",
    "            y_pred = clf.predict(X[test_idx])\n",
    "\n",
    "        y_pred_train = clf.predict(X_scaled)\n",
    "            \n",
    "        print(f\" : acc {accuracy_score(y[test_idx], y_pred)} | grad { np.linalg.norm(clf.nabla_fgd_(clf.weights_, X_scaled, y[train_idx], clf.sigma_, clf.lbd_))}\")\n",
    "        #print(f\" train_acc {accuracy_score(y[train_idx], y_pred_train)} : val_acc {accuracy_score(y[test_idx], y_pred)} | grad { np.linalg.norm(clf.nabla_fgd_(clf.u_, clf.gram_, y[train_idx], clf.sigma_, clf.lbd_))}\")\n",
    "        accs.append((accuracy_score(y[test_idx], y_pred_l1), accuracy_score(y[test_idx], y_pred)))\n",
    "\n",
    "    accuracies.append(accs)\n",
    "    print(f\"mean CV accuracy is {np.mean(accs)}\")\n",
    "    #all_grads.append(np.linalg.norm(clf.grads_, axis=1))"
   ]
  },
  {
   "cell_type": "code",
   "execution_count": 7,
   "id": "023b0768-7c0c-40d1-8aa6-a5d9cd040e8e",
   "metadata": {
    "scrolled": true
   },
   "outputs": [
    {
     "data": {
      "text/plain": [
       "array([[0.695, 0.69 ],\n",
       "       [0.695, 0.694],\n",
       "       [0.694, 0.694],\n",
       "       [0.693, 0.693],\n",
       "       [0.693, 0.693],\n",
       "       [0.693, 0.693],\n",
       "       [0.693, 0.693],\n",
       "       [0.693, 0.693],\n",
       "       [0.693, 0.693],\n",
       "       [0.693, 0.693]])"
      ]
     },
     "execution_count": 7,
     "metadata": {},
     "output_type": "execute_result"
    }
   ],
   "source": [
    "means = []\n",
    "means = np.mean(accuracies, axis=1)\n",
    "means = np.asarray(means)\n",
    "means"
   ]
  },
  {
   "cell_type": "code",
   "execution_count": 8,
   "id": "ea8cf346-db4f-49eb-9149-6c7036c39746",
   "metadata": {
    "scrolled": true
   },
   "outputs": [
    {
     "data": {
      "image/png": "[encoded data removed]",
      "text/plain": [
       "<Figure size 395.172x259.259 with 1 Axes>"
      ]
     },
     "metadata": {},
     "output_type": "display_data"
    },
    {
     "data": {
      "text/plain": [
       "<Figure size 640x480 with 0 Axes>"
      ]
     },
     "metadata": {},
     "output_type": "display_data"
    }
   ],
   "source": [
    "fig, ax = plt.subplots()\n",
    "ax.plot(sigmas, means[:, 1], label=\"$\\lambda = \\lambda_b$\", c='skyblue')\n",
    "ax.plot(sigmas, means[:, 0], label=f\"$\\lambda = {lbd}$\", c='salmon', linestyle=\"--\")\n",
    "ax.legend()\n",
    "ax.set_xscale(\"log\")\n",
    "ax.set_xlabel(\"$\\sigma$\")\n",
    "ax.set_ylabel(f\"Mean {n_splits}-Fold CV Accuracy\")\n",
    "\n",
    "ws = 1.45 # 1.75\n",
    "hs = 1.35 # 1.25\n",
    "fig.set_size_inches(w=5.73/ws, h=3.5/hs)\n",
    "plt.show()\n",
    "plt.savefig('svmtest_logreg_sigma_accuracy_comb.pgf', bbox_inches='tight', pad_inches=0)"
   ]
  },
  {
   "cell_type": "code",
   "execution_count": 9,
   "id": "16f97766-c6b3-49e2-ae48-9a3e2d74e0a9",
   "metadata": {
    "scrolled": true
   },
   "outputs": [
    {
     "ename": "IndexError",
     "evalue": "list index out of range",
     "output_type": "error",
     "traceback": [
      "\u001b[0;31m---------------------------------------------------------------------------\u001b[0m",
      "\u001b[0;31mIndexError\u001b[0m                                Traceback (most recent call last)",
      "Cell \u001b[0;32mIn[9], line 4\u001b[0m\n\u001b[1;32m      1\u001b[0m fig, axs \u001b[38;5;241m=\u001b[39m plt\u001b[38;5;241m.\u001b[39msubplots(\u001b[38;5;241m5\u001b[39m, \u001b[38;5;241m2\u001b[39m, figsize\u001b[38;5;241m=\u001b[39m(\u001b[38;5;241m3\u001b[39m, \u001b[38;5;241m7\u001b[39m))\n\u001b[1;32m      3\u001b[0m \u001b[38;5;28;01mfor\u001b[39;00m i, ax \u001b[38;5;129;01min\u001b[39;00m \u001b[38;5;28menumerate\u001b[39m(axs\u001b[38;5;241m.\u001b[39mflat):\n\u001b[0;32m----> 4\u001b[0m     ax\u001b[38;5;241m.\u001b[39mplot(\u001b[43mall_grads\u001b[49m\u001b[43m[\u001b[49m\u001b[43mi\u001b[49m\u001b[43m]\u001b[49m)\n\u001b[1;32m      5\u001b[0m     ax\u001b[38;5;241m.\u001b[39mset_title(\u001b[38;5;124mf\u001b[39m\u001b[38;5;124m\"\u001b[39m\u001b[38;5;124m$\u001b[39m\u001b[38;5;124m\\\u001b[39m\u001b[38;5;124msigma$=\u001b[39m\u001b[38;5;132;01m{\u001b[39;00msigmas[i]\u001b[38;5;132;01m}\u001b[39;00m\u001b[38;5;124m\"\u001b[39m)\n\u001b[1;32m      7\u001b[0m plt\u001b[38;5;241m.\u001b[39mtight_layout()\n",
      "\u001b[0;31mIndexError\u001b[0m: list index out of range"
     ]
    },
    {
     "data": {
      "image/png": "[encoded data removed]",
      "text/plain": [
       "<Figure size 300x700 with 10 Axes>"
      ]
     },
     "metadata": {},
     "output_type": "display_data"
    }
   ],
   "source": [
    "fig, axs = plt.subplots(5, 2, figsize=(3, 7))\n",
    "\n",
    "for i, ax in enumerate(axs.flat):\n",
    "    ax.plot(all_grads[i])\n",
    "    ax.set_title(f\"$\\sigma$={sigmas[i]}\")\n",
    "\n",
    "plt.tight_layout()\n",
    "ws = 1.15 # 1.75\n",
    "hs = 0.55 # 1.25\n",
    "#fig.set_size_inches(w=5.73/ws, h=3.5/hs)\n",
    "plt.tight_layout()\n",
    "plt.show()\n",
    "plt.savefig('svmtest_sigma_grads.pgf', bbox_inches='tight', pad_inches=0)"
   ]
  },
  {
   "cell_type": "markdown",
   "id": "74029439-656d-4c6c-b3b2-ef3fb64088f4",
   "metadata": {},
   "source": [
    "1. Generate data\n",
    "    a. X ~ N(0, 1) iid\n",
    "    b. X ~ N(0, Sigma) where Sigma is tri diagonal\n",
    "    \n",
    "    y = \\sigma(w^T X_i + b) where w is sparse\n",
    "    \n",
    "2. Full CV for SVM for SVM when working well (good performance)\n",
    "3. Full CV for \\sigma-SVM (Soft) with \\sigma \\in {0, \\ldots, 1}\n",
    "4. IACV for \\sigma-SVM with same sigmas - choose lambda\n",
    "\n",
    "Kernel, redo data as Phi(X) for some kernel phi\n",
    "\n",
    "high dim - try l1 reg with sigma svm and IACV\n",
    "Does L_m correspoding to sigma-svm satisfy:\n",
    "1. restricted strong convexity\n",
    "2. \\phi^* curvature"
   ]
  }
 ],
 "metadata": {
  "kernelspec": {
   "display_name": "Python 3 (ipykernel)",
   "language": "python",
   "name": "python3"
  },
  "language_info": {
   "codemirror_mode": {
    "name": "ipython",
    "version": 3
   },
   "file_extension": ".py",
   "mimetype": "text/x-python",
   "name": "python",
   "nbconvert_exporter": "python",
   "pygments_lexer": "ipython3",
   "version": "3.11.7"
  }
 },
 "nbformat": 4,
 "nbformat_minor": 5
}
