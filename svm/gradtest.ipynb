{
 "cells": [
  {
   "cell_type": "code",
   "execution_count": 20,
   "id": "7b26e970-f16e-43ee-b06c-29bedcc08b73",
   "metadata": {},
   "outputs": [],
   "source": [
    "from sklearn.svm import SVC\n",
    "from sklearn.datasets import load_breast_cancer\n",
    "from sklearn.preprocessing import StandardScaler, normalize\n",
    "from sklearn.metrics import accuracy_score\n",
    "\n",
    "import numpy as np\n",
    "import matplotlib.pyplot as plt\n",
    "\n",
    "from cv_svm import SVM_smooth\n",
    "\n",
    "import matplotlib\n",
    "matplotlib.use(\"pgf\")\n",
    "matplotlib.rcParams.update({\n",
    "    \"pgf.texsystem\": \"pdflatex\",\n",
    "    'font.family': 'serif',\n",
    "    'text.usetex': True,\n",
    "    'pgf.rcfonts': False,\n",
    "})"
   ]
  },
  {
   "cell_type": "code",
   "execution_count": 2,
   "id": "a47d90b2-45d6-480d-82df-ee2cb0145261",
   "metadata": {},
   "outputs": [],
   "source": [
    "X, y = load_breast_cancer(return_X_y=True)\n",
    "n = X.shape[0]\n",
    "p = X.shape[1]\n",
    "y[np.where(y == 0)] = -1"
   ]
  },
  {
   "cell_type": "code",
   "execution_count": 3,
   "id": "35d98e7c-214b-4aea-899f-1838a8c665bf",
   "metadata": {},
   "outputs": [
    {
     "name": "stdout",
     "output_type": "stream",
     "text": [
      "(569, 30)\n"
     ]
    }
   ],
   "source": [
    "X = StandardScaler().fit_transform(X)\n",
    "print(X.shape)"
   ]
  },
  {
   "cell_type": "raw",
   "id": "997442bc-21c2-427a-b560-19899171cbe7",
   "metadata": {},
   "source": [
    "clf = SVM_smooth(sigma=40, lbd=1)\n",
    "lr = 0.95/n\n",
    "print(f\"eta is {lr}\")\n",
    "clf.fit(X, y, thresh=1e-4, n_iter=8000, eta=lr, approx_cv=False, log_iter=True, save_grads=True)\n",
    "\n",
    "y_pred = clf.predict(X)\n",
    "accuracy_score(y, y_pred)"
   ]
  },
  {
   "cell_type": "raw",
   "id": "130525c2-5770-4a6c-a339-c2b4c8400e0a",
   "metadata": {},
   "source": [
    "norms = np.linalg.norm(clf.grads_, axis=1)\n",
    "print(norms.shape)\n",
    "plt.plot(norms)"
   ]
  },
  {
   "cell_type": "code",
   "execution_count": 4,
   "id": "f6189a76-c888-4094-a79a-bea8f569deb3",
   "metadata": {},
   "outputs": [],
   "source": [
    "from sklearn.model_selection import StratifiedKFold"
   ]
  },
  {
   "cell_type": "code",
   "execution_count": 5,
   "id": "81ac6858-3edf-46f8-8040-0c3e30bb78fd",
   "metadata": {},
   "outputs": [
    {
     "name": "stdout",
     "output_type": "stream",
     "text": [
      "[2e-15, 2e-10, 2e-05, 0.002, 0.02, 0.2, 0.5, 0.7, 1, 1.5, 2, 3, 5, 10, 20, 40, 2000.0, 200000.0]\n",
      "testing for sigma = 2e-15\n",
      "\t running fold 0 : acc 0.9824561403508771\n",
      "\t running fold 1 : acc 0.9736842105263158\n",
      "\t running fold 2 : acc 0.9912280701754386\n",
      "\t running fold 3 : acc 0.9736842105263158\n",
      "\t running fold 4 : acc 0.9911504424778761\n",
      "mean CV accuracy is 0.9824406148113647\n",
      "testing for sigma = 2e-10\n",
      "\t running fold 0 : acc 0.9824561403508771\n",
      "\t running fold 1 : acc 0.9736842105263158\n",
      "\t running fold 2 : acc 0.9912280701754386\n",
      "\t running fold 3 : acc 0.9736842105263158\n",
      "\t running fold 4 : acc 0.9911504424778761\n",
      "mean CV accuracy is 0.9824406148113647\n",
      "testing for sigma = 2e-05\n",
      "\t running fold 0 : acc 0.9824561403508771\n",
      "\t running fold 1 : acc 0.9736842105263158\n",
      "\t running fold 2 : acc 0.9912280701754386\n",
      "\t running fold 3 : acc 0.9736842105263158\n",
      "\t running fold 4 : acc 0.9911504424778761\n",
      "mean CV accuracy is 0.9824406148113647\n",
      "testing for sigma = 0.002\n",
      "\t running fold 0 : acc 0.9824561403508771\n",
      "\t running fold 1 : acc 0.9736842105263158\n",
      "\t running fold 2 : acc 0.9912280701754386\n",
      "\t running fold 3 : acc 0.9736842105263158\n",
      "\t running fold 4 : acc 0.9911504424778761\n",
      "mean CV accuracy is 0.9824406148113647\n",
      "testing for sigma = 0.02\n",
      "\t running fold 0 : acc 0.9824561403508771\n",
      "\t running fold 1 : acc 0.9736842105263158\n",
      "\t running fold 2 : acc 0.9912280701754386\n",
      "\t running fold 3 : acc 0.9736842105263158\n",
      "\t running fold 4 : acc 0.9911504424778761\n",
      "mean CV accuracy is 0.9824406148113647\n",
      "testing for sigma = 0.2\n",
      "\t running fold 0 : acc 0.9824561403508771\n",
      "\t running fold 1 : acc 0.9736842105263158\n",
      "\t running fold 2 : acc 0.9912280701754386\n",
      "\t running fold 3 : acc 0.9736842105263158\n",
      "\t running fold 4 : acc 0.9911504424778761\n",
      "mean CV accuracy is 0.9824406148113647\n",
      "testing for sigma = 0.5\n",
      "\t running fold 0 : acc 0.956140350877193\n",
      "\t running fold 1 : acc 0.9736842105263158\n",
      "\t running fold 2 : acc 0.9824561403508771\n",
      "\t running fold 3 : acc 0.9736842105263158\n",
      "\t running fold 4 : acc 0.9911504424778761\n",
      "mean CV accuracy is 0.9754230709517155\n",
      "testing for sigma = 0.7\n",
      "\t running fold 0 : acc 0.956140350877193\n",
      "\t running fold 1 : acc 0.9736842105263158\n",
      "\t running fold 2 : acc 0.9824561403508771\n",
      "\t running fold 3 : acc 0.9736842105263158\n",
      "\t running fold 4 : acc 0.9911504424778761\n",
      "mean CV accuracy is 0.9754230709517155\n",
      "testing for sigma = 1\n",
      "\t running fold 0 : acc 0.9473684210526315\n",
      "\t running fold 1 : acc 0.9736842105263158\n",
      "\t running fold 2 : acc 0.9824561403508771\n",
      "\t running fold 3 : acc 0.9649122807017544\n",
      "\t running fold 4 : acc 0.9911504424778761\n",
      "mean CV accuracy is 0.971914299021891\n",
      "testing for sigma = 1.5\n",
      "\t running fold 0 : acc 0.9385964912280702\n",
      "\t running fold 1 : acc 0.9736842105263158\n",
      "\t running fold 2 : acc 0.9824561403508771\n",
      "\t running fold 3 : acc 0.9649122807017544\n",
      "\t running fold 4 : acc 0.9911504424778761\n",
      "mean CV accuracy is 0.9701599130569788\n",
      "testing for sigma = 2\n",
      "\t running fold 0 : acc 0.9298245614035088\n",
      "\t running fold 1 : acc 0.9736842105263158\n",
      "\t running fold 2 : acc 0.9824561403508771\n",
      "\t running fold 3 : acc 0.9649122807017544\n",
      "\t running fold 4 : acc 0.9911504424778761\n",
      "mean CV accuracy is 0.9684055270920664\n",
      "testing for sigma = 3\n",
      "\t running fold 0 : acc 0.9210526315789473\n",
      "\t running fold 1 : acc 0.9736842105263158\n",
      "\t running fold 2 : acc 0.9736842105263158\n",
      "\t running fold 3 : acc 0.956140350877193\n",
      "\t running fold 4 : acc 0.9911504424778761\n",
      "mean CV accuracy is 0.9631423691973297\n",
      "testing for sigma = 5\n",
      "\t running fold 0 : acc 0.9210526315789473\n",
      "\t running fold 1 : acc 0.9649122807017544\n",
      "\t running fold 2 : acc 0.9736842105263158\n",
      "\t running fold 3 : acc 0.956140350877193\n",
      "\t running fold 4 : acc 0.9823008849557522\n",
      "mean CV accuracy is 0.9596180717279925\n",
      "testing for sigma = 10\n",
      "\t running fold 0 : acc 0.9210526315789473\n",
      "\t running fold 1 : acc 0.9736842105263158\n",
      "\t running fold 2 : acc 0.9736842105263158\n",
      "\t running fold 3 : acc 0.9473684210526315\n",
      "\t running fold 4 : acc 0.9646017699115044\n",
      "mean CV accuracy is 0.956078248719143\n",
      "testing for sigma = 20\n",
      "\t running fold 0 : acc 0.9122807017543859\n",
      "\t running fold 1 : acc 0.9649122807017544\n",
      "\t running fold 2 : acc 0.9649122807017544\n",
      "\t running fold 3 : acc 0.9473684210526315\n",
      "\t running fold 4 : acc 0.9557522123893806\n",
      "mean CV accuracy is 0.9490451793199813\n",
      "testing for sigma = 40\n",
      "\t running fold 0 : acc 0.9122807017543859\n",
      "\t running fold 1 : acc 0.956140350877193\n",
      "\t running fold 2 : acc 0.956140350877193\n",
      "\t running fold 3 : acc 0.9473684210526315\n",
      "\t running fold 4 : acc 0.9469026548672567\n",
      "mean CV accuracy is 0.943766495885732\n",
      "testing for sigma = 2000.0\n",
      "\t running fold 0 : acc 0.9035087719298246\n",
      "\t running fold 1 : acc 0.9298245614035088\n",
      "\t running fold 2 : acc 0.9473684210526315\n",
      "\t running fold 3 : acc 0.9298245614035088\n",
      "\t running fold 4 : acc 0.9292035398230089\n",
      "mean CV accuracy is 0.9279459711224964\n",
      "testing for sigma = 200000.0\n",
      "\t running fold 0 : acc 0.9035087719298246\n",
      "\t running fold 1 : acc 0.9298245614035088\n",
      "\t running fold 2 : acc 0.9473684210526315\n",
      "\t running fold 3 : acc 0.9298245614035088\n",
      "\t running fold 4 : acc 0.9292035398230089\n",
      "mean CV accuracy is 0.9279459711224964\n"
     ]
    }
   ],
   "source": [
    "sigmas = [2e-15, 2e-10, 2e-5, 2e-3, 2e-2, 2e-1, 5e-1, 7e-1, 1, 1.5, 2, 3, 5, 10, 20, 40, 2e3, 2e5]\n",
    "print(sigmas)\n",
    "accuracies = []\n",
    "all_grads = []\n",
    "\n",
    "for s in sigmas:\n",
    "    accs = []\n",
    "    skf = StratifiedKFold(n_splits=5)\n",
    "    print(f\"testing for sigma = {s}\")\n",
    "    for i, (train_idx, test_idx) in enumerate(skf.split(X, y)):\n",
    "        print(f\"\\t running fold {i + 1}\", end='')\n",
    "        clf = SVM_smooth(sigma=s, lbd=1e-35)\n",
    "        lr = 0.85/n\n",
    "        clf.fit(X[train_idx], y[train_idx], thresh=1e-3, n_iter=5500, eta=lr, approx_cv=False, cv=False, save_grads=True)\n",
    "        \n",
    "        y_pred = clf.predict(X[test_idx])\n",
    "        print(f\" : acc {accuracy_score(y[test_idx], y_pred)}\")\n",
    "        accs.append(accuracy_score(y[test_idx], y_pred))\n",
    "\n",
    "    accuracies.append(accs)\n",
    "    print(f\"mean CV accuracy is {np.mean(accs)}\")\n",
    "    all_grads.append(np.linalg.norm(clf.grads_, axis=1))"
   ]
  },
  {
   "cell_type": "code",
   "execution_count": 6,
   "id": "023b0768-7c0c-40d1-8aa6-a5d9cd040e8e",
   "metadata": {},
   "outputs": [],
   "source": [
    "means = []\n",
    "for a in accuracies:\n",
    "    means.append(np.mean(a))"
   ]
  },
  {
   "cell_type": "code",
   "execution_count": 7,
   "id": "ea8cf346-db4f-49eb-9149-6c7036c39746",
   "metadata": {},
   "outputs": [
    {
     "data": {
      "image/png": "[encoded data removed]",
      "text/plain": [
       "<Figure size 395.172x259.259 with 1 Axes>"
      ]
     },
     "metadata": {},
     "output_type": "display_data"
    }
   ],
   "source": [
    "fig, ax = plt.subplots()\n",
    "ax.plot(np.log2(sigmas), means)\n",
    "ax.set_xlabel(\"$\\log_2(\\sigma)$\")\n",
    "ax.set_ylabel(\"Mean 5-Fold CV Accuracy\")\n",
    "\n",
    "ws = 1.45 # 1.75\n",
    "hs = 1.35 # 1.25\n",
    "fig.set_size_inches(w=5.73/ws, h=3.5/hs)\n",
    "plt.show()\n",
    "#plt.savefig('svmtest_sigma_accuracy.pgf', bbox_inches='tight', pad_inches=0)"
   ]
  },
  {
   "cell_type": "code",
   "execution_count": 21,
   "id": "16f97766-c6b3-49e2-ae48-9a3e2d74e0a9",
   "metadata": {},
   "outputs": [
    {
     "name": "stderr",
     "output_type": "stream",
     "text": [
      "/tmp/ipykernel_15070/3094595528.py:12: UserWarning: FigureCanvasPgf is non-interactive, and thus cannot be shown\n",
      "  plt.show()\n"
     ]
    }
   ],
   "source": [
    "fig, axs = plt.subplots(5, 3, figsize=(6, 7))\n",
    "\n",
    "for i, ax in enumerate(axs.flat):\n",
    "    ax.plot(all_grads[i])\n",
    "    ax.set_title(f\"$\\sigma$={sigmas[i]}\")\n",
    "\n",
    "plt.tight_layout()\n",
    "ws = 1.15 # 1.75\n",
    "hs = 0.55 # 1.25\n",
    "fig.set_size_inches(w=5.73/ws, h=3.5/hs)\n",
    "plt.tight_layout()\n",
    "plt.show()\n",
    "plt.savefig('svmtest_sigma_grads.pgf', bbox_inches='tight', pad_inches=0)"
   ]
  }
 ],
 "metadata": {
  "kernelspec": {
   "display_name": "Python 3 (ipykernel)",
   "language": "python",
   "name": "python3"
  },
  "language_info": {
   "codemirror_mode": {
    "name": "ipython",
    "version": 3
   },
   "file_extension": ".py",
   "mimetype": "text/x-python",
   "name": "python",
   "nbconvert_exporter": "python",
   "pygments_lexer": "ipython3",
   "version": "3.11.6"
  }
 },
 "nbformat": 4,
 "nbformat_minor": 5
}
