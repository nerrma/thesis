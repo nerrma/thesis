{
 "cells": [
  {
   "cell_type": "code",
   "execution_count": 13,
   "id": "4389fc59-9487-4ea6-ac54-1f1b7a48dcc9",
   "metadata": {},
   "outputs": [],
   "source": [
    "from sklearn.svm import LinearSVC\n",
    "from sklearn.metrics import accuracy_score\n",
    "from sklearn.gaussian_process.kernels import RBF\n",
    "\n",
    "import numpy as np\n",
    "import matplotlib.pyplot as plt\n",
    "\n",
    "from cv_svm import SVM_smooth\n",
    "from kernel_svm import SVM_smooth_kernel\n",
    "from sampler import sample_from_logreg\n",
    "\n",
    "import time\n",
    "\n",
    "import matplotlib\n",
    "matplotlib.use(\"pgf\")\n",
    "matplotlib.rcParams.update({\n",
    "    \"pgf.texsystem\": \"pdflatex\",\n",
    "    'font.family': 'serif',\n",
    "    'text.usetex': True,\n",
    "    'pgf.rcfonts': False,\n",
    "})"
   ]
  },
  {
   "cell_type": "code",
   "execution_count": 2,
   "id": "9170f1e2-dba3-4c56-9d4e-bb1d29a7758f",
   "metadata": {},
   "outputs": [],
   "source": [
    "sigma = 1e-1\n",
    "lbd = 1\n",
    "experiment_sizes = np.arange(10, 1600, 130)\n",
    "\n",
    "time_taken = {\n",
    "    \"IACV\": np.ones(len(experiment_sizes)),\n",
    "    \"true\": np.ones(len(experiment_sizes))\n",
    "}"
   ]
  },
  {
   "cell_type": "code",
   "execution_count": 3,
   "id": "f40b4020-c785-4b02-ace8-7a23d4ef5de9",
   "metadata": {},
   "outputs": [
    {
     "name": "stdout",
     "output_type": "stream",
     "text": [
      "running experiments for size 10\n",
      "\t true CV: 0.2095470428466797s\n",
      "\t approx CV: 3.2065327167510986s\n",
      "running experiments for size 140\n",
      "\t true CV: 8.256447792053223s\n",
      "\t approx CV: 2.1469523906707764s\n",
      "running experiments for size 270\n",
      "\t true CV: 44.441614389419556s\n",
      "\t approx CV: 2.37011456489563s\n",
      "running experiments for size 400\n",
      "\t true CV: 137.010169506073s\n",
      "\t approx CV: 2.201307773590088s\n",
      "running experiments for size 530\n",
      "\t true CV: 309.31474447250366s\n",
      "\t approx CV: 2.179039239883423s\n",
      "running experiments for size 660\n",
      "\t true CV: 594.9166464805603s\n",
      "\t approx CV: 2.432981252670288s\n",
      "running experiments for size 790\n",
      "\t true CV: 1063.8350574970245s\n",
      "\t approx CV: 2.29306960105896s\n",
      "running experiments for size 920\n"
     ]
    },
    {
     "ename": "KeyboardInterrupt",
     "evalue": "",
     "output_type": "error",
     "traceback": [
      "\u001b[0;31m---------------------------------------------------------------------------\u001b[0m",
      "\u001b[0;31mKeyboardInterrupt\u001b[0m                         Traceback (most recent call last)",
      "Cell \u001b[0;32mIn[3], line 8\u001b[0m\n\u001b[1;32m      6\u001b[0m clf \u001b[38;5;241m=\u001b[39m SVM_smooth_kernel(sigma\u001b[38;5;241m=\u001b[39msigma, lbd\u001b[38;5;241m=\u001b[39mlbd, kernel\u001b[38;5;241m=\u001b[39mRBF(\u001b[38;5;241m2.5\u001b[39m))\n\u001b[1;32m      7\u001b[0m true_start \u001b[38;5;241m=\u001b[39m time\u001b[38;5;241m.\u001b[39mtime()\n\u001b[0;32m----> 8\u001b[0m \u001b[43mclf\u001b[49m\u001b[38;5;241;43m.\u001b[39;49m\u001b[43mfit\u001b[49m\u001b[43m(\u001b[49m\u001b[43mX\u001b[49m\u001b[43m,\u001b[49m\u001b[43m \u001b[49m\u001b[43my\u001b[49m\u001b[43m,\u001b[49m\u001b[43m \u001b[49m\u001b[43mcv\u001b[49m\u001b[38;5;241;43m=\u001b[39;49m\u001b[38;5;28;43;01mTrue\u001b[39;49;00m\u001b[43m)\u001b[49m\n\u001b[1;32m      9\u001b[0m true_end \u001b[38;5;241m=\u001b[39m time\u001b[38;5;241m.\u001b[39mtime()\n\u001b[1;32m     10\u001b[0m \u001b[38;5;28mprint\u001b[39m(\u001b[38;5;124mf\u001b[39m\u001b[38;5;124m\"\u001b[39m\u001b[38;5;130;01m\\t\u001b[39;00m\u001b[38;5;124m true CV: \u001b[39m\u001b[38;5;132;01m{\u001b[39;00mtrue_end\u001b[38;5;250m \u001b[39m\u001b[38;5;241m-\u001b[39m\u001b[38;5;250m \u001b[39mtrue_start\u001b[38;5;132;01m}\u001b[39;00m\u001b[38;5;124ms\u001b[39m\u001b[38;5;124m\"\u001b[39m)\n",
      "File \u001b[0;32m~/Projects/thesis/svm/kernel_svm.py:266\u001b[0m, in \u001b[0;36mSVM_smooth_kernel.fit\u001b[0;34m(self, X, y, eta, n_iter, thresh, init_u, **kwargs)\u001b[0m\n\u001b[1;32m    263\u001b[0m     \u001b[38;5;28mself\u001b[39m\u001b[38;5;241m.\u001b[39mu_ \u001b[38;5;241m=\u001b[39m init_u\n\u001b[1;32m    265\u001b[0m \u001b[38;5;28mself\u001b[39m\u001b[38;5;241m.\u001b[39mfactor \u001b[38;5;241m=\u001b[39m \u001b[38;5;241m1\u001b[39m \u001b[38;5;241m/\u001b[39m (\u001b[38;5;28mself\u001b[39m\u001b[38;5;241m.\u001b[39mn \u001b[38;5;241m-\u001b[39m \u001b[38;5;241m1\u001b[39m)\n\u001b[0;32m--> 266\u001b[0m \u001b[38;5;28;43mself\u001b[39;49m\u001b[38;5;241;43m.\u001b[39;49m\u001b[43mfit_gd_\u001b[49m\u001b[43m(\u001b[49m\n\u001b[1;32m    267\u001b[0m \u001b[43m    \u001b[49m\u001b[43mX\u001b[49m\u001b[43m,\u001b[49m\n\u001b[1;32m    268\u001b[0m \u001b[43m    \u001b[49m\u001b[43my\u001b[49m\u001b[43m,\u001b[49m\n\u001b[1;32m    269\u001b[0m \u001b[43m    \u001b[49m\u001b[43meta\u001b[49m\u001b[38;5;241;43m=\u001b[39;49m\u001b[43meta\u001b[49m\u001b[43m,\u001b[49m\n\u001b[1;32m    270\u001b[0m \u001b[43m    \u001b[49m\u001b[43mn_iter\u001b[49m\u001b[38;5;241;43m=\u001b[39;49m\u001b[43mn_iter\u001b[49m\u001b[43m,\u001b[49m\n\u001b[1;32m    271\u001b[0m \u001b[43m    \u001b[49m\u001b[38;5;241;43m*\u001b[39;49m\u001b[38;5;241;43m*\u001b[39;49m\u001b[43mkwargs\u001b[49m\u001b[43m,\u001b[49m\n\u001b[1;32m    272\u001b[0m \u001b[43m\u001b[49m\u001b[43m)\u001b[49m\n",
      "File \u001b[0;32m~/Projects/thesis/svm/kernel_svm.py:203\u001b[0m, in \u001b[0;36mSVM_smooth_kernel.fit_gd_\u001b[0;34m(self, X, y, eta, n_iter, warm_start, cv, approx_cv, log_iacv, log_accuracy, log_iter, save_err_approx, save_err_cv)\u001b[0m\n\u001b[1;32m    200\u001b[0m     \u001b[38;5;28mself\u001b[39m\u001b[38;5;241m.\u001b[39mapprox_cv_obj\u001b[38;5;241m.\u001b[39mstep_gd(\u001b[38;5;28mself\u001b[39m\u001b[38;5;241m.\u001b[39mu_, \u001b[38;5;28mself\u001b[39m\u001b[38;5;241m.\u001b[39mgram_, y, kernel\u001b[38;5;241m=\u001b[39m\u001b[38;5;28;01mFalse\u001b[39;00m)\n\u001b[1;32m    202\u001b[0m \u001b[38;5;28;01mif\u001b[39;00m cv \u001b[38;5;241m==\u001b[39m \u001b[38;5;28;01mTrue\u001b[39;00m:\n\u001b[0;32m--> 203\u001b[0m     \u001b[38;5;28;43mself\u001b[39;49m\u001b[38;5;241;43m.\u001b[39;49m\u001b[43mtrue_cv_obj\u001b[49m\u001b[38;5;241;43m.\u001b[39;49m\u001b[43mstep_gd_kernel\u001b[49m\u001b[43m(\u001b[49m\u001b[38;5;28;43mself\u001b[39;49m\u001b[38;5;241;43m.\u001b[39;49m\u001b[43mgram_\u001b[49m\u001b[43m,\u001b[49m\u001b[43m \u001b[49m\u001b[43my\u001b[49m\u001b[43m)\u001b[49m\n\u001b[1;32m    205\u001b[0m f_grad \u001b[38;5;241m=\u001b[39m \u001b[38;5;28mself\u001b[39m\u001b[38;5;241m.\u001b[39mnabla_fgd_(\u001b[38;5;28mself\u001b[39m\u001b[38;5;241m.\u001b[39mu_, \u001b[38;5;28mself\u001b[39m\u001b[38;5;241m.\u001b[39mgram_, y, \u001b[38;5;28mself\u001b[39m\u001b[38;5;241m.\u001b[39msigma_, \u001b[38;5;28mself\u001b[39m\u001b[38;5;241m.\u001b[39mlbd_)\n\u001b[1;32m    206\u001b[0m \u001b[38;5;28mself\u001b[39m\u001b[38;5;241m.\u001b[39mu_ \u001b[38;5;241m=\u001b[39m \u001b[38;5;28mself\u001b[39m\u001b[38;5;241m.\u001b[39mu_ \u001b[38;5;241m-\u001b[39m eta \u001b[38;5;241m*\u001b[39m f_grad\n",
      "File \u001b[0;32m~/Projects/thesis/svm/true_cv.py:33\u001b[0m, in \u001b[0;36mTrueCV.step_gd_kernel\u001b[0;34m(self, gram, y)\u001b[0m\n\u001b[1;32m     31\u001b[0m y_temp \u001b[38;5;241m=\u001b[39m y\u001b[38;5;241m.\u001b[39mcopy()\n\u001b[1;32m     32\u001b[0m y_temp[i] \u001b[38;5;241m=\u001b[39m \u001b[38;5;241m0\u001b[39m\n\u001b[0;32m---> 33\u001b[0m \u001b[38;5;28mself\u001b[39m\u001b[38;5;241m.\u001b[39miterates[i] \u001b[38;5;241m=\u001b[39m \u001b[38;5;28mself\u001b[39m\u001b[38;5;241m.\u001b[39miterates[i] \u001b[38;5;241m-\u001b[39m \u001b[38;5;28mself\u001b[39m\u001b[38;5;241m.\u001b[39meta \u001b[38;5;241m*\u001b[39m \u001b[38;5;28mself\u001b[39m\u001b[38;5;241m.\u001b[39mnabla_function(\n\u001b[1;32m     34\u001b[0m     \u001b[38;5;28mself\u001b[39m\u001b[38;5;241m.\u001b[39miterates[i], gram, y_temp\n\u001b[1;32m     35\u001b[0m )\n",
      "\u001b[0;31mKeyboardInterrupt\u001b[0m: "
     ]
    }
   ],
   "source": [
    "for i, e in enumerate(experiment_sizes):\n",
    "    X, _, y = sample_from_logreg(n=e, p=20)\n",
    "\n",
    "    print(f\"running experiments for size {e}\")\n",
    "    #clf = SVM_smooth(sigma=sigma, lbd=lbd)\n",
    "    clf = SVM_smooth_kernel(sigma=sigma, lbd=lbd, kernel=RBF(2.5))\n",
    "    true_start = time.time()\n",
    "    clf.fit(X, y, cv=True)\n",
    "    true_end = time.time()\n",
    "    print(f\"\\t true CV: {true_end - true_start}s\")\n",
    "    \n",
    "    clf = SVM_smooth(sigma=sigma, lbd=lbd)\n",
    "    approx_start = time.time()\n",
    "    clf.fit(X, y, cv=False, approx_cv=True)\n",
    "    approx_end = time.time()\n",
    "    print(f\"\\t approx CV: {approx_end - approx_start}s\")\n",
    "\n",
    "    time_taken[\"true\"][i] = true_end - true_start\n",
    "    time_taken[\"IACV\"][i] = approx_end - approx_start"
   ]
  },
  {
   "cell_type": "code",
   "execution_count": 14,
   "id": "4229b69a-06ad-4808-ac9b-01a774e95383",
   "metadata": {},
   "outputs": [
    {
     "name": "stderr",
     "output_type": "stream",
     "text": [
      "/tmp/ipykernel_22068/3502412378.py:12: UserWarning: FigureCanvasPgf is non-interactive, and thus cannot be shown\n",
      "  plt.show()\n"
     ]
    }
   ],
   "source": [
    "fig, ax = plt.subplots()\n",
    "last_index = 7\n",
    "ax.plot(experiment_sizes[:last_index], time_taken[\"IACV\"][:last_index], label=\"IACV\", c='black')\n",
    "ax.plot(experiment_sizes[:last_index], time_taken[\"true\"][:last_index], label=\"True\", c='green')\n",
    "ax.set_xlabel(\"Dataset size\")\n",
    "ax.set_ylabel(\"Time taken (s)\")\n",
    "\n",
    "ws = 1.45 # 1.75\n",
    "hs = 1.35 # 1.25\n",
    "fig.set_size_inches(w=5.73/ws, h=3.5/hs)\n",
    "ax.legend()\n",
    "plt.show()\n",
    "plt.savefig('kernel_smoothsvm_cv_benchmark.pgf', bbox_inches='tight', pad_inches=0)"
   ]
  }
 ],
 "metadata": {
  "kernelspec": {
   "display_name": "Python 3 (ipykernel)",
   "language": "python",
   "name": "python3"
  },
  "language_info": {
   "codemirror_mode": {
    "name": "ipython",
    "version": 3
   },
   "file_extension": ".py",
   "mimetype": "text/x-python",
   "name": "python",
   "nbconvert_exporter": "python",
   "pygments_lexer": "ipython3",
   "version": "3.11.7"
  }
 },
 "nbformat": 4,
 "nbformat_minor": 5
}
