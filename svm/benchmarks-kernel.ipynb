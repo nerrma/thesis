{
 "cells": [
  {
   "cell_type": "code",
   "execution_count": 1,
   "id": "da04b683-4864-45ca-bf8f-c5033dde0339",
   "metadata": {},
   "outputs": [],
   "source": [
    "from sklearn.svm import SVC\n",
    "from sklearn.metrics import accuracy_score\n",
    "from sklearn.datasets import make_classification\n",
    "from sklearn.gaussian_process.kernels import RBF\n",
    "\n",
    "import numpy as np\n",
    "import matplotlib.pyplot as plt\n",
    "\n",
    "from cv_svm import SVM_smooth\n",
    "from kernel_svm import SVM_smooth_kernel\n",
    "from sampler import sample_from_logreg\n",
    "\n",
    "from sklearn.preprocessing import normalize\n",
    "\n",
    "import time\n",
    "\n",
    "import matplotlib"
   ]
  },
  {
   "cell_type": "code",
   "execution_count": 9,
   "id": "85e640a1-fc6e-4067-b3ce-a7a9d08b9ce6",
   "metadata": {},
   "outputs": [],
   "source": [
    "matplotlib.use(\"pgf\")\n",
    "matplotlib.rcParams.update({\n",
    "    \"pgf.texsystem\": \"pdflatex\",\n",
    "    'font.family': 'serif',\n",
    "    'text.usetex': True,\n",
    "    'pgf.rcfonts': False,\n",
    "})"
   ]
  },
  {
   "cell_type": "code",
   "execution_count": 3,
   "id": "9170f1e2-dba3-4c56-9d4e-bb1d29a7758f",
   "metadata": {},
   "outputs": [],
   "source": [
    "sigma = 1e-5\n",
    "lbd = 1\n",
    "gamma = 0.1\n",
    "length_scale = np.sqrt(1/(2*gamma))\n",
    "experiment_sizes = np.linspace(10, 550, 8)\n",
    "\n",
    "time_taken = {\n",
    "    \"IACV\": np.ones(len(experiment_sizes)),\n",
    "    \"true\": np.ones(len(experiment_sizes))\n",
    "}\n",
    "\n",
    "err_approx = []\n",
    "err_cv = []"
   ]
  },
  {
   "cell_type": "code",
   "execution_count": 4,
   "id": "374bc3b6-d5b9-45fb-8055-ad07e5d53747",
   "metadata": {},
   "outputs": [],
   "source": [
    "def Phi_m(v):\n",
    "    return (1 + v / np.sqrt(1 + v**2)) / 2\n",
    "\n",
    "def Phi_m_prime(v):\n",
    "    return 1 / 2 * 1 / (np.sqrt(v**2 + 1) ** 3)\n",
    "\n",
    "def phi_m(v):\n",
    "    return 1 / (2 * np.sqrt(1 + v**3))\n",
    "\n",
    "def Psi_m(alpha, sigma):\n",
    "    return (\n",
    "        Phi_m((1 - alpha) / sigma) * (1 - alpha)\n",
    "        + phi_m((1 - alpha) / sigma) * sigma\n",
    "    )\n",
    "\n",
    "def loss(w, X, y, sigma):\n",
    "    return Psi_m(y * (X @ w), sigma)\n",
    "\n",
    "\n",
    "def SSVM_objective(w, X, y, sigma, lbd):\n",
    "    return 1 / 2 * np.linalg.norm(w)**2 * lbd + loss(w, X, y, sigma)\n",
    "\n",
    "\n",
    "def SVM_objective(w, X, y, C):\n",
    "    return 1 / 2 * np.linalg.norm(w)**2 + C * max(0, 1 - y * (X @ w))"
   ]
  },
  {
   "cell_type": "code",
   "execution_count": 5,
   "id": "f40b4020-c785-4b02-ace8-7a23d4ef5de9",
   "metadata": {},
   "outputs": [
    {
     "name": "stdout",
     "output_type": "stream",
     "text": [
      "running experiments for size 10 | max_iter = 12\n",
      "\t true CV: 0.00418400764465332s\n",
      "\t approx CV: 0.5723116397857666s\n",
      "\t err approx 1.4325933644605107 | err cv 0.01759728860548459\n",
      "running experiments for size 87 | max_iter = 108\n",
      "\t true CV: 0.05027937889099121s\n",
      "\t approx CV: 0.5454885959625244s\n",
      "\t err approx 1.4170434259434204 | err cv 0.0004942058868850663\n",
      "running experiments for size 164 | max_iter = 205\n",
      "\t true CV: 0.1879284381866455s\n",
      "\t approx CV: 1.0302565097808838s\n",
      "\t err approx 1.4154841699060456 | err cv 0.0003867414508754939\n",
      "running experiments for size 241 | max_iter = 301\n",
      "\t true CV: 0.536768913269043s\n",
      "\t approx CV: 2.5979039669036865s\n",
      "\t err approx 1.4152041914085962 | err cv 0.0003300114438845315\n",
      "running experiments for size 318 | max_iter = 397\n",
      "\t true CV: 1.038933277130127s\n",
      "\t approx CV: 6.325984954833984s\n",
      "\t err approx 1.415295350905124 | err cv 0.00033463958987868867\n",
      "running experiments for size 395 | max_iter = 493\n",
      "\t true CV: 1.9239602088928223s\n",
      "\t approx CV: 13.174010276794434s\n",
      "\t err approx 1.4149318511032374 | err cv 0.0002587293242819072\n",
      "running experiments for size 472 | max_iter = 590\n",
      "\t true CV: 3.1331605911254883s\n",
      "\t approx CV: 26.69571352005005s\n",
      "\t err approx 1.414933018195427 | err cv 0.00029598262310781803\n",
      "running experiments for size 550 | max_iter = 687\n",
      "\t true CV: 5.039016008377075s\n",
      "\t approx CV: 50.03838491439819s\n",
      "\t err approx 1.4147611491174155 | err cv 0.0003961595176598159\n"
     ]
    }
   ],
   "source": [
    "# TODO, technically incorrect but who cares\n",
    "for i, n in enumerate(experiment_sizes):\n",
    "    n = int(n)\n",
    "    X, _, y = sample_from_logreg(n=n, p=20)\n",
    "    gram = RBF(length_scale)(X, X)\n",
    "\n",
    "    max_iter = int(n * 1.25)\n",
    "    print(f\"running experiments for size {n} | max_iter = {max_iter}\")\n",
    "    c_val = 1/n\n",
    "    clf = SVC(kernel='rbf', gamma=gamma, C=c_val)\n",
    "    true_start = time.time()\n",
    "    true_params = []\n",
    "    true_loss = []\n",
    "    for j in range(n):\n",
    "        X_temp = np.delete(X, (j), axis=0)\n",
    "        y_temp = np.delete(y, (j), axis=0)\n",
    "        coef_z = np.zeros(n)\n",
    "        clf.fit(X_temp, y_temp)\n",
    "        coef_z[clf.support_] = clf.dual_coef_[0]\n",
    "        true_params.append(coef_z)\n",
    "        true_loss.append(SVM_objective(coef_z, gram[j, :], y[j], c_val))\n",
    "    true_end = time.time()\n",
    "    print(f\"\\t true CV: {true_end - true_start}s\")\n",
    "    \n",
    "    clf = SVM_smooth_kernel(sigma=sigma, lbd=lbd, kernel=RBF(length_scale))\n",
    "    approx_start = time.time()\n",
    "    clf.fit(X, y, thresh=1e-3, n_iter=max_iter, cv=False, approx_cv=True)\n",
    "    approx_end = time.time()\n",
    "    print(f\"\\t approx CV: {approx_end - approx_start}s\")\n",
    "\n",
    "    approx_loss = []\n",
    "    for j in range(n):\n",
    "        approx_loss.append(SSVM_objective(clf.approx_cv_obj.iterates[j], gram[j, :], y[j], sigma, lbd))\n",
    "\n",
    "    time_taken[\"true\"][i] = true_end - true_start\n",
    "    time_taken[\"IACV\"][i] = approx_end - approx_start\n",
    "\n",
    "    true_params_norm = normalize(true_params, axis=1)\n",
    "    approx_params_norm = normalize(clf.approx_cv_obj.iterates.T, axis=1)\n",
    "    err_approx.append(np.linalg.norm(true_params_norm - approx_params_norm, 2, axis=1).mean())\n",
    "    \n",
    "    true_loss_norm = normalize(np.asarray(true_loss).reshape(-1, 1), axis=0)\n",
    "    approx_loss_norm = normalize(np.asarray(approx_loss).reshape(-1, 1), axis=0)\n",
    "    err_cv.append(np.abs(true_loss_norm - approx_loss_norm).mean())\n",
    "    print(f\"\\t err approx {err_approx[-1]} | err cv {err_cv[-1]}\")"
   ]
  },
  {
   "cell_type": "code",
   "execution_count": 15,
   "id": "4229b69a-06ad-4808-ac9b-01a774e95383",
   "metadata": {},
   "outputs": [
    {
     "name": "stderr",
     "output_type": "stream",
     "text": [
      "/tmp/ipykernel_3618/2535686745.py:11: UserWarning: FigureCanvasPgf is non-interactive, and thus cannot be shown\n",
      "  plt.show()\n"
     ]
    }
   ],
   "source": [
    "fig, ax = plt.subplots()\n",
    "ax.plot(experiment_sizes, time_taken[\"IACV\"], label=\"IACV\", c='black')\n",
    "ax.plot(experiment_sizes, time_taken[\"true\"], label=\"True\", c='green')\n",
    "ax.set_xlabel(\"Dataset size\")\n",
    "ax.set_ylabel(\"Time taken (s)\")\n",
    "\n",
    "ws = 1.45 # 1.75\n",
    "hs = 1.35 # 1.25\n",
    "fig.set_size_inches(w=5.73/ws, h=3.5/hs)\n",
    "ax.legend()\n",
    "plt.show()\n",
    "plt.savefig('kernel_true_iacv_benchmark.pgf', bbox_inches='tight', pad_inches=0)"
   ]
  },
  {
   "cell_type": "code",
   "execution_count": 13,
   "id": "7cbf46c8-a835-4c5e-a62f-3423ba898cf0",
   "metadata": {},
   "outputs": [
    {
     "name": "stderr",
     "output_type": "stream",
     "text": [
      "/tmp/ipykernel_3618/2779509920.py:9: UserWarning: FigureCanvasPgf is non-interactive, and thus cannot be shown\n",
      "  plt.show()\n"
     ]
    }
   ],
   "source": [
    "fig, ax = plt.subplots()\n",
    "ax.plot(experiment_sizes, err_approx, label=\"IACV\", c='black')\n",
    "ax.set_xlabel(\"Dataset size\")\n",
    "ax.set_ylabel(\"Err Approx\")\n",
    "\n",
    "ws = 1.45 # 1.75\n",
    "hs = 1.35 # 1.25\n",
    "fig.set_size_inches(w=5.73/ws, h=3.5/hs)\n",
    "plt.show()\n",
    "plt.savefig('kernel_iacv_err_approx_benchmark.pgf', bbox_inches='tight', pad_inches=0)"
   ]
  },
  {
   "cell_type": "code",
   "execution_count": 14,
   "id": "be257945-ff32-4ae2-b1cc-26e0945bc6f5",
   "metadata": {},
   "outputs": [
    {
     "name": "stderr",
     "output_type": "stream",
     "text": [
      "/tmp/ipykernel_3618/229302137.py:9: UserWarning: FigureCanvasPgf is non-interactive, and thus cannot be shown\n",
      "  plt.show()\n"
     ]
    }
   ],
   "source": [
    "fig, ax = plt.subplots()\n",
    "ax.plot(experiment_sizes, err_cv, label=\"IACV\", c='black')\n",
    "ax.set_xlabel(\"Dataset size\")\n",
    "ax.set_ylabel(\"Err CV\")\n",
    "\n",
    "ws = 1.45 # 1.75\n",
    "hs = 1.35 # 1.25\n",
    "fig.set_size_inches(w=5.73/ws, h=3.5/hs)\n",
    "plt.show()\n",
    "plt.savefig('kernel_iacv_err_cv_benchmark.pgf', bbox_inches='tight', pad_inches=0)"
   ]
  },
  {
   "cell_type": "code",
   "execution_count": 16,
   "id": "a962633e-da7d-47dd-a91d-610a18c47a21",
   "metadata": {},
   "outputs": [
    {
     "data": {
      "text/plain": [
       "2.23606797749979"
      ]
     },
     "execution_count": 16,
     "metadata": {},
     "output_type": "execute_result"
    }
   ],
   "source": [
    "length_scale"
   ]
  }
 ],
 "metadata": {
  "kernelspec": {
   "display_name": "Python 3 (ipykernel)",
   "language": "python",
   "name": "python3"
  },
  "language_info": {
   "codemirror_mode": {
    "name": "ipython",
    "version": 3
   },
   "file_extension": ".py",
   "mimetype": "text/x-python",
   "name": "python",
   "nbconvert_exporter": "python",
   "pygments_lexer": "ipython3",
   "version": "3.11.7"
  }
 },
 "nbformat": 4,
 "nbformat_minor": 5
}
