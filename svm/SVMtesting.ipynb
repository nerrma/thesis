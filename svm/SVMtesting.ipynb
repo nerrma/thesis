{
 "cells": [
  {
   "cell_type": "code",
   "execution_count": 1,
   "id": "c226d8c4-dd58-49dd-9361-b346df715535",
   "metadata": {},
   "outputs": [],
   "source": [
    "from sklearn.svm import SVC\n",
    "from sklearn.datasets import load_breast_cancer, make_classification\n",
    "from sklearn.preprocessing import StandardScaler, normalize\n",
    "from sklearn.metrics import accuracy_score\n",
    "from sklearn.model_selection import LeaveOneOut\n",
    "\n",
    "from sampler import sample_from_logreg\n",
    "\n",
    "from sklearn.gaussian_process.kernels import RBF\n",
    "\n",
    "import numpy as np\n",
    "import matplotlib.pyplot as plt\n",
    "\n",
    "from cv_svm import SVM_smooth\n",
    "from kernel_svm import SVM_smooth_kernel\n",
    "\n",
    "#import matplotlib\n",
    "#matplotlib.use(\"pgf\")\n",
    "#matplotlib.rcParams.update({\n",
    "#    \"pgf.texsystem\": \"pdflatex\",\n",
    "#    'font.family': 'serif',\n",
    "#    'text.usetex': True,\n",
    "#    'pgf.rcfonts': False,\n",
    "#})"
   ]
  },
  {
   "cell_type": "code",
   "execution_count": 2,
   "id": "c4086520-17a5-4960-bc9d-403885ee5660",
   "metadata": {},
   "outputs": [],
   "source": [
    "#X, y = load_breast_cancer(return_X_y=True)\n",
    "#X, y = make_classification(n_samples=250, n_features=50)\n",
    "X, _, y = sample_from_logreg(n=250, p=20, seed=120)\n",
    "n = X.shape[0]\n",
    "p = X.shape[1]\n",
    "y[np.where(y == 0)] = -1"
   ]
  },
  {
   "cell_type": "code",
   "execution_count": 3,
   "id": "11f9681e-efa1-4a21-852e-a347a53aaee0",
   "metadata": {},
   "outputs": [
    {
     "name": "stdout",
     "output_type": "stream",
     "text": [
      "(250, 20)\n"
     ]
    }
   ],
   "source": [
    "X_scaled = StandardScaler().fit_transform(X)\n",
    "#X_scaled = X\n",
    "print(X_scaled.shape)"
   ]
  },
  {
   "cell_type": "code",
   "execution_count": 4,
   "id": "68e904eb-5471-4af8-835b-4960f1e68a30",
   "metadata": {},
   "outputs": [
    {
     "name": "stdout",
     "output_type": "stream",
     "text": [
      "[[ 1.44119178e+00 -2.29122060e-01 -4.73133921e-01 -5.71197691e-01\n",
      "  -9.23568038e-02 -4.16302288e-01  2.29394113e-01 -2.91213658e-02\n",
      "  -1.85803923e-01  1.53175947e-01  2.37632445e-01  1.26117844e-01\n",
      "   1.51192806e-01 -1.06962035e-03  1.36621515e-02  4.48711746e-01\n",
      "   1.74007771e+00  2.70215171e-02 -2.03117321e+00  3.15806682e-02]]\n",
      "[-0.02560786]\n"
     ]
    }
   ],
   "source": [
    "clf = SVC(kernel='linear')\n",
    "clf.fit(X_scaled, y)\n",
    "sk_coef_og = clf.coef_.flatten()\n",
    "sk_coef = clf.coef_/np.linalg.norm(clf.coef_)\n",
    "print(clf.coef_)\n",
    "print(clf.intercept_)"
   ]
  },
  {
   "cell_type": "code",
   "execution_count": 5,
   "id": "6165d874-8e27-4943-9dd5-283606193551",
   "metadata": {},
   "outputs": [
    {
     "data": {
      "text/plain": [
       "0.88"
      ]
     },
     "execution_count": 5,
     "metadata": {},
     "output_type": "execute_result"
    }
   ],
   "source": [
    "y_pred = clf.predict(X_scaled)\n",
    "accuracy_score(y, y_pred)"
   ]
  },
  {
   "cell_type": "code",
   "execution_count": 6,
   "id": "758369ba",
   "metadata": {},
   "outputs": [],
   "source": [
    "#sigma = 1e-5\n",
    "#lbd = 1e-4\n",
    "sigma = 5e-1\n",
    "lbd = 1"
   ]
  },
  {
   "cell_type": "code",
   "execution_count": 7,
   "id": "3ab6168c",
   "metadata": {},
   "outputs": [
    {
     "name": "stdout",
     "output_type": "stream",
     "text": [
      "0.0\n",
      "5.625677341209748\n"
     ]
    },
    {
     "data": {
      "text/plain": [
       "4.6256773416723155e-10"
      ]
     },
     "execution_count": 7,
     "metadata": {},
     "output_type": "execute_result"
    }
   ],
   "source": [
    "# calculate maximum bound\n",
    "from sklearn.metrics import pairwise_distances\n",
    "m_max = np.min(pairwise_distances(X))**2\n",
    "print(m_max)\n",
    "\n",
    "C = np.linalg.norm(X.T @ X)/(n - 1)\n",
    "\n",
    "max_bound = 1 + C/(lbd * sigma) *\\\n",
    "            1/(2 * np.sqrt(1 + (m_max/sigma)**2)**3)\n",
    "print(max_bound)\n",
    "\n",
    "# what lambda do we have to pick?\n",
    "b = 1e10\n",
    "lbd_pick = C/((b - 1) * sigma) *\\\n",
    "            1/(2 * np.sqrt(1 + (m_max/sigma)**2)**3)\n",
    "lbd_pick"
   ]
  },
  {
   "cell_type": "code",
   "execution_count": 8,
   "id": "020e96b9-28ff-4261-a148-c9e6e061716c",
   "metadata": {},
   "outputs": [
    {
     "name": "stdout",
     "output_type": "stream",
     "text": [
      "iter 0 | grad 0.67138 | objective 1.05879 | NS: 0.00133780 | IACV: 0.00000537 | baseline: 0.00003349\n",
      "iter 1 | grad 0.66992 | objective 1.05856 | NS: 0.00267268 | IACV: 0.00001073 | baseline: 0.00006690\n",
      "iter 2 | grad 0.66846 | objective 1.05833 | NS: 0.00400465 | IACV: 0.00001608 | baseline: 0.00010024\n",
      "iter 3 | grad 0.66700 | objective 1.05810 | NS: 0.00533372 | IACV: 0.00002142 | baseline: 0.00013350\n",
      "iter 4 | grad 0.66554 | objective 1.05787 | NS: 0.00665988 | IACV: 0.00002674 | baseline: 0.00016669\n",
      "iter 5 | grad 0.66409 | objective 1.05765 | NS: 0.00798315 | IACV: 0.00003205 | baseline: 0.00019980\n",
      "iter 6 | grad 0.66264 | objective 1.05742 | NS: 0.00930353 | IACV: 0.00003735 | baseline: 0.00023284\n",
      "iter 7 | grad 0.66119 | objective 1.05720 | NS: 0.01062103 | IACV: 0.00004263 | baseline: 0.00026580\n",
      "iter 8 | grad 0.65974 | objective 1.05697 | NS: 0.01193564 | IACV: 0.00004790 | baseline: 0.00029868\n",
      "iter 9 | grad 0.65830 | objective 1.05675 | NS: 0.01324737 | IACV: 0.00005316 | baseline: 0.00033149\n",
      "iter 10 | grad 0.65686 | objective 1.05652 | NS: 0.01455624 | IACV: 0.00005841 | baseline: 0.00036423\n",
      "iter 11 | grad 0.65542 | objective 1.05630 | NS: 0.01586224 | IACV: 0.00006365 | baseline: 0.00039689\n",
      "iter 12 | grad 0.65398 | objective 1.05608 | NS: 0.01716538 | IACV: 0.00006887 | baseline: 0.00042947\n",
      "iter 13 | grad 0.65255 | objective 1.05586 | NS: 0.01846566 | IACV: 0.00007408 | baseline: 0.00046198\n",
      "iter 14 | grad 0.65112 | objective 1.05564 | NS: 0.01976309 | IACV: 0.00007928 | baseline: 0.00049442\n",
      "iter 15 | grad 0.64969 | objective 1.05542 | NS: 0.02105768 | IACV: 0.00008446 | baseline: 0.00052679\n",
      "iter 16 | grad 0.64826 | objective 1.05520 | NS: 0.02234942 | IACV: 0.00008964 | baseline: 0.00055907\n",
      "iter 17 | grad 0.64684 | objective 1.05498 | NS: 0.02363833 | IACV: 0.00009480 | baseline: 0.00059129\n",
      "iter 18 | grad 0.64542 | objective 1.05476 | NS: 0.02492441 | IACV: 0.00009995 | baseline: 0.00062343\n",
      "iter 19 | grad 0.64400 | objective 1.05454 | NS: 0.02620766 | IACV: 0.00010508 | baseline: 0.00065550\n",
      "iter 20 | grad 0.64258 | objective 1.05432 | NS: 0.02748808 | IACV: 0.00011021 | baseline: 0.00068749\n",
      "iter 21 | grad 0.64117 | objective 1.05411 | NS: 0.02876569 | IACV: 0.00011532 | baseline: 0.00071941\n",
      "iter 22 | grad 0.63975 | objective 1.05389 | NS: 0.03004049 | IACV: 0.00012042 | baseline: 0.00075126\n",
      "iter 23 | grad 0.63834 | objective 1.05368 | NS: 0.03131248 | IACV: 0.00012551 | baseline: 0.00078303\n",
      "iter 24 | grad 0.63694 | objective 1.05346 | NS: 0.03258167 | IACV: 0.00013058 | baseline: 0.00081473\n",
      "iter 25 | grad 0.63553 | objective 1.05325 | NS: 0.03384806 | IACV: 0.00013564 | baseline: 0.00084636\n",
      "iter 26 | grad 0.63413 | objective 1.05304 | NS: 0.03511166 | IACV: 0.00014069 | baseline: 0.00087792\n",
      "iter 27 | grad 0.63273 | objective 1.05282 | NS: 0.03637246 | IACV: 0.00014573 | baseline: 0.00090940\n",
      "iter 28 | grad 0.63133 | objective 1.05261 | NS: 0.03763049 | IACV: 0.00015076 | baseline: 0.00094081\n",
      "iter 29 | grad 0.62994 | objective 1.05240 | NS: 0.03888573 | IACV: 0.00015577 | baseline: 0.00097214\n",
      "iter 30 | grad 0.62855 | objective 1.05219 | NS: 0.04013820 | IACV: 0.00016077 | baseline: 0.00100341\n",
      "iter 31 | grad 0.62715 | objective 1.05198 | NS: 0.04138790 | IACV: 0.00016576 | baseline: 0.00103460\n",
      "iter 32 | grad 0.62577 | objective 1.05177 | NS: 0.04263484 | IACV: 0.00017074 | baseline: 0.00106572\n",
      "iter 33 | grad 0.62438 | objective 1.05156 | NS: 0.04387902 | IACV: 0.00017571 | baseline: 0.00109677\n",
      "iter 34 | grad 0.62300 | objective 1.05135 | NS: 0.04512043 | IACV: 0.00018066 | baseline: 0.00112774\n",
      "iter 35 | grad 0.62162 | objective 1.05115 | NS: 0.04635910 | IACV: 0.00018560 | baseline: 0.00115865\n",
      "iter 36 | grad 0.62024 | objective 1.05094 | NS: 0.04759502 | IACV: 0.00019053 | baseline: 0.00118948\n",
      "iter 37 | grad 0.61886 | objective 1.05073 | NS: 0.04882820 | IACV: 0.00019544 | baseline: 0.00122024\n",
      "iter 38 | grad 0.61749 | objective 1.05053 | NS: 0.05005865 | IACV: 0.00020035 | baseline: 0.00125093\n",
      "iter 39 | grad 0.61611 | objective 1.05032 | NS: 0.05128636 | IACV: 0.00020524 | baseline: 0.00128155\n",
      "iter 40 | grad 0.61474 | objective 1.05012 | NS: 0.05251134 | IACV: 0.00021012 | baseline: 0.00131210\n",
      "iter 41 | grad 0.61338 | objective 1.04992 | NS: 0.05373360 | IACV: 0.00021499 | baseline: 0.00134257\n",
      "iter 42 | grad 0.61201 | objective 1.04971 | NS: 0.05495314 | IACV: 0.00021984 | baseline: 0.00137298\n",
      "iter 43 | grad 0.61065 | objective 1.04951 | NS: 0.05616996 | IACV: 0.00022469 | baseline: 0.00140331\n",
      "iter 44 | grad 0.60929 | objective 1.04931 | NS: 0.05738407 | IACV: 0.00022952 | baseline: 0.00143358\n",
      "iter 45 | grad 0.60793 | objective 1.04911 | NS: 0.05859548 | IACV: 0.00023434 | baseline: 0.00146377\n",
      "iter 46 | grad 0.60657 | objective 1.04891 | NS: 0.05980419 | IACV: 0.00023915 | baseline: 0.00149389\n",
      "iter 47 | grad 0.60522 | objective 1.04871 | NS: 0.06101020 | IACV: 0.00024394 | baseline: 0.00152394\n",
      "iter 48 | grad 0.60387 | objective 1.04851 | NS: 0.06221352 | IACV: 0.00024873 | baseline: 0.00155392\n",
      "iter 49 | grad 0.60252 | objective 1.04831 | NS: 0.06341415 | IACV: 0.00025350 | baseline: 0.00158383\n",
      "diff 0.04298818197566556 | pct 0.015464362241232009\n"
     ]
    },
    {
     "data": {
      "text/plain": [
       "0.844"
      ]
     },
     "execution_count": 8,
     "metadata": {},
     "output_type": "execute_result"
    }
   ],
   "source": [
    "clf = SVM_smooth(sigma=sigma, lbd=lbd)\n",
    "clf.fit(X_scaled, y, thresh=1e-7, n_iter=50, eta=0.5/n,\n",
    "        approx_cv=True, cv=True, log_iter=True, log_iacv=True,\n",
    "        save_cond_nums=True, save_err_approx=True, save_err_cv=True,\n",
    "        warm_start=0, normalise=False, adjust_factor=True,\n",
    "        save_hessian_norms=True)\n",
    "#clf = SVM_smooth_kernel(sigma=sigma, lbd=lbd, kernel=RBF(3.5))\n",
    "#clf.fit(X_scaled, y, n_iter=2500, eta=0.5/n, approx_cv=True, cv=True, log_iacv=True, save_err_approx=True, save_err_cv=True)\n",
    "\n",
    "#print(f\"grad {np.linalg.norm(clf.nabla_fgd_(clf.weights_, X_scaled, y, clf.sigma_, clf.lbd_))}\")\n",
    "#coef = clf.weights_/np.linalg.norm(clf.weights_)\n",
    "#print(f\"diff {np.mean(np.abs(coef - sk_coef))} | pct {np.mean(np.abs(coef - sk_coef))/np.sum(np.abs(coef))}\")\n",
    "\n",
    "coef = clf.weights_/np.linalg.norm(clf.weights_)\n",
    "print(f\"diff {np.mean(np.abs(coef - sk_coef))} | pct {np.mean(np.abs(coef - sk_coef))/np.sum(np.abs(coef))}\")\n",
    "\n",
    "y_pred = clf.predict(X_scaled)\n",
    "accuracy_score(y, y_pred)"
   ]
  },
  {
   "cell_type": "code",
   "execution_count": 9,
   "id": "8c5978e9",
   "metadata": {},
   "outputs": [
    {
     "name": "stdout",
     "output_type": "stream",
     "text": [
      "5.794877341932314e-05\n",
      "0.024332993483787032\n"
     ]
    }
   ],
   "source": [
    "iacv_coef = normalize(clf.approx_cv_obj.iterates, axis=1)\n",
    "true_coef = normalize(clf.true_cv_obj.iterates, axis=1)\n",
    "print(np.mean(np.linalg.norm(iacv_coef - true_coef, 2, axis=1)))\n",
    "print(np.mean(np.linalg.norm(coef - true_coef, 2, axis=1)))"
   ]
  },
  {
   "cell_type": "raw",
   "id": "b5fd013e",
   "metadata": {},
   "source": [
    "print(iacv_coef)\n",
    "print(true_coef)\n",
    "print(clf.weights_)"
   ]
  },
  {
   "cell_type": "code",
   "execution_count": 10,
   "id": "fce1cc19",
   "metadata": {},
   "outputs": [
    {
     "name": "stdout",
     "output_type": "stream",
     "text": [
      "0.014142724\n",
      "0.014086420126138794\n"
     ]
    }
   ],
   "source": [
    "print(np.std(clf.approx_cv_obj.iterates))\n",
    "print(np.std(clf.true_cv_obj.iterates))"
   ]
  },
  {
   "cell_type": "code",
   "execution_count": 11,
   "id": "c4248bf7",
   "metadata": {},
   "outputs": [
    {
     "name": "stdout",
     "output_type": "stream",
     "text": [
      "[ 0.02974267 -0.0033911  -0.00701181 -0.01248579  0.00408329 -0.00320509\n",
      "  0.00229407  0.00195869 -0.0034562   0.00015381  0.0052792   0.00971928\n",
      "  0.00418167  0.00104167 -0.00192039  0.00610113  0.03751649 -0.00487331\n",
      " -0.03579743  0.00271758]\n",
      "[ 0.02962438 -0.00337752 -0.00698372 -0.01243627  0.00406728 -0.00319223\n",
      "  0.00228489  0.00195106 -0.00344244  0.00015312  0.00525803  0.00968083\n",
      "  0.00416504  0.00103764 -0.00191277  0.00607661  0.03736708 -0.00485405\n",
      " -0.03565494  0.00270668]\n"
     ]
    }
   ],
   "source": [
    "print(np.mean(clf.approx_cv_obj.iterates, axis=0))\n",
    "print(np.mean(clf.true_cv_obj.iterates, axis=0))"
   ]
  },
  {
   "cell_type": "code",
   "execution_count": 12,
   "id": "6e967fc8-10df-43d6-a5d3-8797efbd8f3f",
   "metadata": {
    "scrolled": true
   },
   "outputs": [
    {
     "data": {
      "text/plain": [
       "<matplotlib.legend.Legend at 0x7835011c5f90>"
      ]
     },
     "execution_count": 12,
     "metadata": {},
     "output_type": "execute_result"
    },
    {
     "data": {
      "image/png": "[encoded data removed]",
      "text/plain": [
       "<Figure size 640x480 with 1 Axes>"
      ]
     },
     "metadata": {},
     "output_type": "display_data"
    }
   ],
   "source": [
    "plt.hist(np.mean(clf.approx_cv_obj.iterates, axis=0), alpha=0.5, bins=40, label=\"IACV\")\n",
    "plt.hist(np.mean(clf.true_cv_obj.iterates, axis=0), alpha=0.5, bins=40, label=\"true\")\n",
    "plt.legend()"
   ]
  },
  {
   "cell_type": "code",
   "execution_count": 13,
   "id": "5587965f",
   "metadata": {
    "scrolled": true
   },
   "outputs": [
    {
     "data": {
      "text/plain": [
       "<matplotlib.legend.Legend at 0x7834f439c350>"
      ]
     },
     "execution_count": 13,
     "metadata": {},
     "output_type": "execute_result"
    },
    {
     "data": {
      "image/png": "[encoded data removed]",
      "text/plain": [
       "<Figure size 640x480 with 1 Axes>"
      ]
     },
     "metadata": {},
     "output_type": "display_data"
    }
   ],
   "source": [
    "plt.hist(np.linalg.norm(clf.approx_cv_obj.iterates - clf.true_cv_obj.iterates, axis=1), bins=60, label=\"diffs\")\n",
    "plt.legend()"
   ]
  },
  {
   "cell_type": "code",
   "execution_count": 14,
   "id": "94a0b15e",
   "metadata": {
    "scrolled": true
   },
   "outputs": [
    {
     "data": {
      "image/png": "[encoded data removed]",
      "text/plain": [
       "<Figure size 640x480 with 1 Axes>"
      ]
     },
     "metadata": {},
     "output_type": "display_data"
    }
   ],
   "source": [
    "plt.hist(np.linalg.norm(clf.weights_ - clf.true_cv_obj.iterates, axis=1), bins=60, label=\"diffs\")\n",
    "plt.show()"
   ]
  },
  {
   "cell_type": "code",
   "execution_count": 15,
   "id": "8abf333b-c0f5-4604-a415-85fc609e9d66",
   "metadata": {},
   "outputs": [
    {
     "name": "stdout",
     "output_type": "stream",
     "text": [
      "diff 0.042987577617168427 | pct 0.015464148484170437\n"
     ]
    }
   ],
   "source": [
    "iacv_mean = np.mean(clf.approx_cv_obj.iterates, axis=0)\n",
    "coef = iacv_mean/np.linalg.norm(iacv_mean)\n",
    "print(f\"diff {np.mean(np.abs(coef - sk_coef))} | pct {np.mean(np.abs(coef - sk_coef))/np.sum(np.abs(coef))}\")"
   ]
  },
  {
   "cell_type": "code",
   "execution_count": 16,
   "id": "14858532-d33a-4609-8573-facfb9ea915b",
   "metadata": {},
   "outputs": [
    {
     "name": "stdout",
     "output_type": "stream",
     "text": [
      "diff 0.04298883009211541 | pct 0.015464593547709465\n"
     ]
    }
   ],
   "source": [
    "true_cv_mean = np.mean(clf.true_cv_obj.iterates, axis=0)\n",
    "coef = true_cv_mean/np.linalg.norm(true_cv_mean)\n",
    "print(f\"diff {np.mean(np.abs(coef - sk_coef))} | pct {np.mean(np.abs(coef - sk_coef))/np.sum(np.abs(coef))}\")"
   ]
  },
  {
   "cell_type": "code",
   "execution_count": 17,
   "id": "ac08fcb0-5563-44ba-b790-c61f040a5608",
   "metadata": {},
   "outputs": [
    {
     "data": {
      "image/png": "[encoded data removed]",
      "text/plain": [
       "<Figure size 640x480 with 1 Axes>"
      ]
     },
     "metadata": {},
     "output_type": "display_data"
    }
   ],
   "source": [
    "coef = clf.weights_/np.linalg.norm(clf.weights_)\n",
    "nbin = 100\n",
    "plt.hist(coef, bins=nbin, label=\"FGD\", alpha=0.3)\n",
    "plt.hist(sk_coef.flatten(), bins=nbin, label=\"sklearn\", alpha=0.3)\n",
    "plt.legend()\n",
    "plt.show()"
   ]
  },
  {
   "cell_type": "code",
   "execution_count": 18,
   "id": "eb6b478f",
   "metadata": {},
   "outputs": [
    {
     "data": {
      "image/png": "[encoded data removed]",
      "text/plain": [
       "<Figure size 293.846x189.189 with 1 Axes>"
      ]
     },
     "metadata": {},
     "output_type": "display_data"
    },
    {
     "data": {
      "text/plain": [
       "<Figure size 640x480 with 0 Axes>"
      ]
     },
     "metadata": {},
     "output_type": "display_data"
    }
   ],
   "source": [
    "fig, ax = plt.subplots()\n",
    "#ax.plot(np.min(clf.approx_cv_obj.cond_nums, axis=1), label=\"Min Condition Number\", c='b')\n",
    "#ax.plot(np.max(clf.approx_cv_obj.cond_nums, axis=1), label=\"Max Condition Number\", c='r')\n",
    "ax.plot(np.mean(clf.approx_cv_obj.cond_nums, axis=1), label=\"Mean Condition Number\", c='purple')\n",
    "#ax.plot(clf.cond_num_bound_, label=\"Bound\", c=\"black\", linestyle=\"--\")\n",
    "\n",
    "#ax.set_yscale('log')\n",
    "ax.set_xlabel(\"Iterations\")\n",
    "ax.set_ylabel(\"Condition No.\")\n",
    "ws = 1.95 # 1.75\n",
    "hs = 1.85 # 1.25\n",
    "fig.set_size_inches(w=5.73/ws, h=3.5/hs)\n",
    "#plt.legend(bbox_to_anchor=(1.1, 1.1), bbox_transform=ax.transAxes)\n",
    "plt.show()\n",
    "plt.savefig('svm_controlled_cond_no.pgf', bbox_inches='tight', pad_inches=0)"
   ]
  },
  {
   "cell_type": "raw",
   "id": "a96ffb05",
   "metadata": {},
   "source": [
    "# fig, ax = plt.subplots()\n",
    "hess_norms = np.asarray(clf.hess_norms_)\n",
    "ax.plot(hess_norms[:, 0], label=\"Full Hessian\")\n",
    "ax.plot(hess_norms[:, 1], label=\"Per-Sample Hessian\", alpha=0.3)\n",
    "\n",
    "#ax.set_yscale('log')\n",
    "ax.set_xlabel(\"Iterations\")\n",
    "ax.set_ylabel(\"Norm\")\n",
    "ws = 1.45 # 1.75\n",
    "hs = 1.35 # 1.25\n",
    "fig.set_size_inches(w=5.73/ws, h=3.5/hs)\n",
    "fig.legend()\n",
    "plt.show()"
   ]
  },
  {
   "cell_type": "code",
   "execution_count": 19,
   "id": "5dbb799e",
   "metadata": {},
   "outputs": [
    {
     "data": {
      "image/png": "[encoded data removed]",
      "text/plain": [
       "<Figure size 395.172x259.259 with 1 Axes>"
      ]
     },
     "metadata": {},
     "output_type": "display_data"
    },
    {
     "data": {
      "text/plain": [
       "<Figure size 640x480 with 0 Axes>"
      ]
     },
     "metadata": {},
     "output_type": "display_data"
    }
   ],
   "source": [
    "fig, ax = plt.subplots()\n",
    "ax.plot(clf.err_approx_[\"IACV\"], label=\"IACV\", c='black')\n",
    "ax.plot(clf.err_approx_[\"NS\"], label=\"NS\", c='red')\n",
    "ax.plot(clf.err_approx_[\"IJ\"], label=\"IJ\", c='blue')\n",
    "ax.plot(clf.err_approx_[\"baseline\"], label=\"Baseline\", c='green', linestyle=\"--\")\n",
    "ax.set_yscale('log')\n",
    "ax.set_xscale('log')\n",
    "ax.set_xlabel(\"Iterations (log)\")\n",
    "ax.set_ylabel(\"Err Approx (log)\")\n",
    "ax.legend()\n",
    "ws = 1.45 # 1.75\n",
    "hs = 1.35 # 1.25\n",
    "fig.set_size_inches(w=5.73/ws, h=3.5/hs)\n",
    "plt.show()\n",
    "plt.savefig('svm_convergence_err_approx_comb.pgf', bbox_inches='tight', pad_inches=0)"
   ]
  },
  {
   "cell_type": "code",
   "execution_count": 20,
   "id": "1e39a2f1",
   "metadata": {
    "scrolled": true
   },
   "outputs": [
    {
     "data": {
      "image/png": "[encoded data removed]",
      "text/plain": [
       "<Figure size 395.172x259.259 with 1 Axes>"
      ]
     },
     "metadata": {},
     "output_type": "display_data"
    },
    {
     "data": {
      "text/plain": [
       "<Figure size 640x480 with 0 Axes>"
      ]
     },
     "metadata": {},
     "output_type": "display_data"
    }
   ],
   "source": [
    "fig, ax = plt.subplots()\n",
    "ax.plot(clf.err_cv_[\"IACV\"], label=\"IACV\", c='black')\n",
    "ax.plot(clf.err_cv_[\"NS\"], label=\"NS\", c='red')\n",
    "ax.plot(clf.err_cv_[\"IJ\"], label=\"IJ\", c='blue')\n",
    "ax.plot(clf.err_cv_[\"baseline\"], label=\"Baseline\", c='green', linestyle=\"--\")\n",
    "ax.set_yscale('log')\n",
    "ax.set_xscale('log')\n",
    "ax.set_xlabel(\"Iterations (log)\")\n",
    "ax.set_ylabel(\"Err CV (log)\")\n",
    "ax.legend()\n",
    "ws = 1.45 # 1.75\n",
    "hs = 1.35 # 1.25\n",
    "fig.set_size_inches(w=5.73/ws, h=3.5/hs)\n",
    "plt.show()\n",
    "plt.savefig('svm_convergence_err_cv_comb.pgf', bbox_inches='tight', pad_inches=0)"
   ]
  },
  {
   "cell_type": "code",
   "execution_count": 34,
   "id": "39b8d9eb-caaa-47e9-80e5-a068e6e0ec59",
   "metadata": {},
   "outputs": [
    {
     "name": "stdout",
     "output_type": "stream",
     "text": [
      "running experiment for sigma = 2e-15\n",
      "\tsigma 2e-15 | score 0.836\n",
      "\tErr_Approx IACV: 0.024775100871920586 | baseline: 0.02380314344144278\n",
      "\tErr_CV     IACV: 0.05565023049712181 | baseline: 0.089569590985775\n",
      "running experiment for sigma = 2e-12\n",
      "\tsigma 2e-12 | score 0.836\n",
      "\tErr_Approx IACV: 0.024775100871920586 | baseline: 0.023803143441444793\n",
      "\tErr_CV     IACV: 0.05565023049712181 | baseline: 0.089569590985775\n",
      "running experiment for sigma = 2e-10\n",
      "\tsigma 2e-10 | score 0.836\n",
      "\tErr_Approx IACV: 0.024775097146630287 | baseline: 0.02380314346149277\n",
      "\tErr_CV     IACV: 0.05565020814538002 | baseline: 0.089569590985775\n",
      "running experiment for sigma = 2e-08\n",
      "\tsigma 2e-08 | score 0.836\n",
      "\tErr_Approx IACV: 0.024810252711176872 | baseline: 0.02380317819707202\n",
      "\tErr_CV     IACV: 0.05549117550253868 | baseline: 0.0895695611834526\n",
      "running experiment for sigma = 2e-05\n",
      "\tsigma 2e-05 | score 0.836\n",
      "\tErr_Approx IACV: 0.022018924355506897 | baseline: 0.023802554397202576\n",
      "\tErr_CV     IACV: 0.04174203425645828 | baseline: 0.08957065641880035\n",
      "running experiment for sigma = 0.002\n",
      "\tsigma 0.002 | score 0.836\n",
      "\tErr_Approx IACV: 0.010068908333778381 | baseline: 0.023809246051706933\n",
      "\tErr_CV     IACV: 0.007448461372405291 | baseline: 0.08955113589763641\n",
      "running experiment for sigma = 0.2\n",
      "\tsigma 0.2 | score 0.84\n",
      "\tErr_Approx IACV: 0.006907050497829914 | baseline: 0.02174572296600317\n",
      "\tErr_CV     IACV: 0.002927960827946663 | baseline: 0.07927142828702927\n",
      "running experiment for sigma = 0.5\n",
      "\tsigma 0.5 | score 0.84\n",
      "\tErr_Approx IACV: 0.006482248660176992 | baseline: 0.020813696480200337\n",
      "\tErr_CV     IACV: 0.005542295519262552 | baseline: 0.06922078132629395\n",
      "running experiment for sigma = 0.8\n",
      "\tsigma 0.8 | score 0.836\n",
      "\tErr_Approx IACV: 0.006180152762681246 | baseline: 0.020762836420808065\n",
      "\tErr_CV     IACV: 0.006752185057848692 | baseline: 0.06419476121664047\n",
      "running experiment for sigma = 1\n",
      "\tsigma 1 | score 0.84\n",
      "\tErr_Approx IACV: 0.0059593371115624905 | baseline: 0.020872354269543144\n",
      "\tErr_CV     IACV: 0.006913287099450827 | baseline: 0.06214015185832977\n",
      "174.8020725250244\n"
     ]
    }
   ],
   "source": [
    "# test different sigma values\n",
    "import time\n",
    "#sigmas = [2e-30, 2e-25, 2e-15, 2e-10, 2e-5, 2e-1]\n",
    "#sigmas = [2e-15, 2e-10, 2e-5, 2e-3, 2e-1, 5e-1, 7e-1, 8e-1, 1, 1.25, 1.5, 2]\n",
    "sigmas = [2e-15, 2e-12, 2e-10, 2e-8, 2e-5, 2e-3, 2e-1, 5e-1, 8e-1, 1]\n",
    "last_err_approx = np.empty((len(sigmas), 2))\n",
    "last_err_cv = np.empty((len(sigmas), 2))\n",
    "cond_nums = np.empty(len(sigmas))\n",
    "\n",
    "start = time.time()\n",
    "for i, s in enumerate(sigmas):\n",
    "    if s == 0:\n",
    "        continue\n",
    "    clf = SVM_smooth(sigma=s, lbd=0.5)\n",
    "    #clf = SVM_smooth_kernel(sigma=s, lbd=1, kernel=RBF(2.5))\n",
    "    print(f\"running experiment for sigma = {s}\")\n",
    "    clf.fit(X_scaled, y, n_iter=1500, eta=0.5/n, approx_cv=True, cv=True, log_iacv=False, log_iter=False,\n",
    "           save_err_cv=True, save_err_approx=True)\n",
    "    y_pred = clf.predict(X_scaled)\n",
    "    score = accuracy_score(y, y_pred)\n",
    "    print(f\"\\tsigma {s} | score {score}\")\n",
    "    #print(clf.weights_)\n",
    "    print(f\"\\tErr_Approx IACV: {clf.err_approx_['IACV'][-1]} | baseline: {clf.err_approx_['baseline'][-1]}\" )\n",
    "    print(f\"\\tErr_CV     IACV: {clf.err_cv_['IACV'][-1]} | baseline: {clf.err_cv_['baseline'][-1]}\" )\n",
    "    last_err_approx[i] = [clf.err_approx_[\"IACV\"][-1], clf.err_approx_[\"baseline\"][-1]]\n",
    "    last_err_cv[i] = [clf.err_cv_[\"IACV\"][-1], clf.err_cv_[\"baseline\"][-1]]\n",
    "    #cond_nums[i] = np.mean(clf.cond_nums_)\n",
    "\n",
    "end = time.time()\n",
    "print(end - start)"
   ]
  },
  {
   "cell_type": "code",
   "execution_count": 35,
   "id": "8bd7ac2f",
   "metadata": {},
   "outputs": [],
   "source": [
    "last_err_cv = np.asarray(last_err_cv)\n",
    "last_err_approx = np.asarray(last_err_approx)\n",
    "\n",
    "last_err_cv = np.nan_to_num(last_err_cv, nan=1e2)\n",
    "last_err_approx = np.nan_to_num(last_err_approx, nan=1e2)\n",
    "\n",
    "last_err_cv = np.clip(last_err_cv, 0, 1e2)\n",
    "last_err_approx = np.clip(last_err_approx, 0, 1e2)"
   ]
  },
  {
   "cell_type": "code",
   "execution_count": 36,
   "id": "ec9d38da",
   "metadata": {
    "scrolled": true
   },
   "outputs": [
    {
     "data": {
      "image/png": "[encoded data removed]",
      "text/plain": [
       "<Figure size 395.172x259.259 with 1 Axes>"
      ]
     },
     "metadata": {},
     "output_type": "display_data"
    }
   ],
   "source": [
    "fig, ax = plt.subplots()\n",
    "ax.plot(sigmas, last_err_approx[:, 0], label=\"IACV\", c='black')\n",
    "ax.plot(sigmas, last_err_approx[:, 1], label=\"Baseline\", c='green', linestyle=\"--\")\n",
    "ax.set_xscale('log')\n",
    "#ax.set_yscale('log')\n",
    "ax.set_xlabel(\"$\\log(\\sigma)$\")\n",
    "ax.set_ylabel(\"Err Approx\")\n",
    "ax.legend()\n",
    "ws = 1.45 # 1.75\n",
    "hs = 1.35 # 1.25\n",
    "fig.set_size_inches(w=5.73/ws, h=3.5/hs)\n",
    "plt.show()\n",
    "#plt.savefig('kernel_svmtest_sigma_err_approx_mod.pgf', bbox_inches='tight', pad_inches=0)"
   ]
  },
  {
   "cell_type": "code",
   "execution_count": 37,
   "id": "9d7bbfcd",
   "metadata": {},
   "outputs": [
    {
     "data": {
      "image/png": "[encoded data removed]",
      "text/plain": [
       "<Figure size 395.172x259.259 with 1 Axes>"
      ]
     },
     "metadata": {},
     "output_type": "display_data"
    }
   ],
   "source": [
    "fig, ax = plt.subplots()\n",
    "ax.plot(sigmas, last_err_cv[:, 0], label=\"IACV\", c='black')\n",
    "ax.plot(sigmas, last_err_cv[:, 1], label=\"Baseline\", c='green', linestyle=\"--\")\n",
    "ax.set_xscale('log')\n",
    "#ax.set_yscale('log')\n",
    "ax.set_xlabel(\"$\\log(\\sigma)$\")\n",
    "ax.set_ylabel(\"Err CV\")\n",
    "ax.legend()\n",
    "ws = 1.45 # 1.75\n",
    "hs = 1.35 # 1.25\n",
    "fig.set_size_inches(w=5.73/ws, h=3.5/hs)\n",
    "plt.show()\n",
    "#plt.savefig('kernel_svmtest_sigma_err_cv_mod.pgf', bbox_inches='tight', pad_inches=0)"
   ]
  },
  {
   "cell_type": "code",
   "execution_count": null,
   "id": "accc36de",
   "metadata": {},
   "outputs": [],
   "source": [
    "fig, ax = plt.subplots()\n",
    "ax.plot(sigmas, cond_nums)\n",
    "ax.set_xscale('log')\n",
    "#ax.set_yscale('log')\n",
    "ax.set_xlabel(\"$\\log(\\sigma)$\")\n",
    "ax.set_ylabel(\"Condition Number\")\n",
    "ws = 1.45 # 1.75\n",
    "hs = 1.35 # 1.25\n",
    "fig.set_size_inches(w=5.73/ws, h=3.5/hs)\n",
    "plt.show()\n",
    "#plt.savefig('svmtest_sigma_err_cv_mod.pgf', bbox_inches='tight', pad_inches=0)"
   ]
  },
  {
   "cell_type": "code",
   "execution_count": null,
   "id": "59f32447",
   "metadata": {},
   "outputs": [],
   "source": [
    "# test different lambda values\n",
    "import time\n",
    "#lambdas = np.linspace(0, 2.5, 12)\n",
    "lambdas = np.linspace(0, 2.5, 4)\n",
    "print(lambdas)\n",
    "last_err_approx = []\n",
    "last_err_cv = []\n",
    "condition_nos = []\n",
    "iacv_iterates = []\n",
    "true_iterates = []\n",
    "\n",
    "start = time.time()\n",
    "for l in lambdas:\n",
    "    #clf = SVM_smooth_kernel(sigma=0.25, lbd=l, kernel=RBF(2.5))\n",
    "    #clf.fit(X_scaled, y, n_iter=1000, eta=0.5/n, approx_cv=True, cv=True,\n",
    "    #        save_err_approx=True, save_err_cv=True, log_iacv=False, log_iter=False)\n",
    "    print(f\"running experiment for lambda = {l}\")\n",
    "    clf = SVM_smooth(sigma=1e-10, lbd=l)\n",
    "    clf.fit(X_scaled, y, thresh=1e-7, n_iter=2000, eta=0.5/n, approx_cv=True, cv=True,\n",
    "            save_err_approx=True, save_err_cv=True, save_cond_nums=True,\n",
    "            log_iacv=False, log_iter=False, normalise=False, adjust_factor=True)\n",
    "    y_pred = clf.predict(X_scaled)\n",
    "    score = accuracy_score(y, y_pred)\n",
    "    \n",
    "    condition_nos.append(clf.approx_cv_obj.cond_nums)\n",
    "    iacv_iterates.append(clf.approx_cv_obj.iterates)\n",
    "    true_iterates.append(clf.true_cv_obj.iterates)\n",
    "\n",
    "    #coef = clf.weights_/np.linalg.norm(clf.weights_)\n",
    "\n",
    "    #print(clf.weights_)\n",
    "    #print(f\"\\tlambda {l} | score {score} | grad {np.linalg.norm(clf.nabla_fgd_(clf.weights_, X_scaled, y, clf.sigma_, clf.lbd_))} | sklearn diff {np.mean(np.abs(coef- sk_coef))}\")\n",
    "    print(f\"\\tlambda {l} | score {score}\")\n",
    "    print(f\"\\tIACV: {clf.err_approx_['IACV'][-1]} | baseline: {clf.err_approx_['baseline'][-1]}\" )\n",
    "    last_err_approx.append([clf.err_approx_[\"IACV\"][-1], clf.err_approx_[\"baseline\"][-1]])\n",
    "    last_err_cv.append([clf.err_cv_[\"IACV\"][-1], clf.err_cv_[\"baseline\"][-1]])\n",
    "\n",
    "end = time.time()\n",
    "print(end - start)"
   ]
  },
  {
   "cell_type": "code",
   "execution_count": null,
   "id": "4e968651",
   "metadata": {},
   "outputs": [],
   "source": [
    "last_err_approx = np.asarray(last_err_approx)\n",
    "last_err_cv = np.asarray(last_err_cv)\n",
    "condition_nos = np.asarray(condition_nos)\n",
    "iacv_iterates = np.asarray(iacv_iterates)\n",
    "true_iterates = np.asarray(true_iterates)"
   ]
  },
  {
   "cell_type": "code",
   "execution_count": null,
   "id": "53eb43b6",
   "metadata": {},
   "outputs": [],
   "source": [
    "fig, ax = plt.subplots()\n",
    "ax.plot(lambdas, last_err_approx[:, 0], label=\"IACV\", c='black')\n",
    "ax.plot(lambdas, last_err_approx[:, 1], label=\"Baseline\", c='green', linestyle=\"--\")\n",
    "#ax.set_yscale('log')\n",
    "ax.set_xlabel(\"$\\lambda$\")\n",
    "ax.set_ylabel(\"Err Approx\")\n",
    "ax.legend()\n",
    "ws = 1.45 # 1.75\n",
    "hs = 1.35 # 1.25\n",
    "fig.set_size_inches(w=5.73/ws, h=3.5/hs)\n",
    "plt.show()\n",
    "#plt.savefig('kernel_svmtest_lambda_err_approx_mod.pgf', bbox_inches='tight', pad_inches=0)"
   ]
  },
  {
   "cell_type": "code",
   "execution_count": null,
   "id": "56e78974",
   "metadata": {},
   "outputs": [],
   "source": [
    "fig, ax = plt.subplots()\n",
    "ax.plot(lambdas, last_err_cv[:, 0], label=\"IACV\", c='black')\n",
    "ax.plot(lambdas, last_err_cv[:, 1], label=\"Baseline\", c='green', linestyle=\"--\")\n",
    "#ax.set_yscale('log')\n",
    "ax.set_xlabel(\"$\\lambda$\")\n",
    "ax.set_ylabel(\"Err CV\")\n",
    "ax.legend()\n",
    "ws = 1.45 # 1.75\n",
    "hs = 1.35 # 1.25\n",
    "fig.set_size_inches(w=5.73/ws, h=3.5/hs)\n",
    "plt.show()\n",
    "#plt.savefig('kernel_svmtest_lambda_err_cv_mod.pgf', bbox_inches='tight', pad_inches=0)"
   ]
  },
  {
   "cell_type": "code",
   "execution_count": null,
   "id": "e6e624ce-a611-4f25-af5d-f88f68f3f26f",
   "metadata": {},
   "outputs": [],
   "source": [
    "mean_cond = np.mean(np.mean(condition_nos, axis=1), axis=1)\n",
    "mean_cond.shape"
   ]
  },
  {
   "cell_type": "code",
   "execution_count": null,
   "id": "2baaef42-2b35-43aa-a96d-48b75ed54300",
   "metadata": {
    "scrolled": true
   },
   "outputs": [],
   "source": [
    "fig, ax = plt.subplots()\n",
    "ax.plot(lambdas, mean_cond)\n",
    "ax.set_xlabel(\"$\\lambda$\")\n",
    "ax.set_ylabel(\"Mean Condition Number\")\n",
    "ws = 1.45 # 1.75\n",
    "hs = 1.35 # 1.25\n",
    "fig.set_size_inches(w=5.73/ws, h=3.5/hs)\n",
    "plt.show()\n",
    "plt.savefig('svmtest_lambda_cond_no_mod.pgf', bbox_inches='tight', pad_inches=0)"
   ]
  },
  {
   "cell_type": "raw",
   "id": "e0d4a086",
   "metadata": {},
   "source": [
    "np.mean(np.mean(iacv_iterates, axis=1), axis=1).shape\n",
    "iacv_means = np.mean(np.mean(iacv_iterates, axis=1), axis=1)\n",
    "true_means = np.mean(np.mean(true_iterates, axis=1), axis=1)"
   ]
  },
  {
   "cell_type": "markdown",
   "id": "aac187e3",
   "metadata": {},
   "source": [
    "## fig, ax = plt.subplots()\n",
    "start = 0\n",
    "ax.plot(lambdas[start:], iacv_means[start:], label=\"IACV\")\n",
    "ax.plot(lambdas[start:], true_means[start:], label=\"true\", linestyle=\"--\")\n",
    "ax.set_xlabel(\"$\\lambda$\")\n",
    "ax.set_ylabel(\"Mean of CV Iterates\")\n",
    "ax.legend()\n",
    "ws = 1.45 # 1.75\n",
    "hs = 1.35 # 1.25\n",
    "fig.set_size_inches(w=5.73/ws, h=3.5/hs)\n",
    "plt.show()\n",
    "#plt.savefig('svmtest_lambda_coef_mod.pgf', bbox_inches='tight', pad_inches=0)"
   ]
  }
 ],
 "metadata": {
  "kernelspec": {
   "display_name": "Python 3 (ipykernel)",
   "language": "python",
   "name": "python3"
  },
  "language_info": {
   "codemirror_mode": {
    "name": "ipython",
    "version": 3
   },
   "file_extension": ".py",
   "mimetype": "text/x-python",
   "name": "python",
   "nbconvert_exporter": "python",
   "pygments_lexer": "ipython3",
   "version": "3.11.7"
  }
 },
 "nbformat": 4,
 "nbformat_minor": 5
}
