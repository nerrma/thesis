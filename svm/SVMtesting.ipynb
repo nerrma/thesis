{
 "cells": [
  {
   "cell_type": "code",
   "execution_count": 1,
   "id": "c226d8c4-dd58-49dd-9361-b346df715535",
   "metadata": {},
   "outputs": [],
   "source": [
    "from sklearn.svm import SVC\n",
    "from sklearn.datasets import load_breast_cancer\n",
    "from sklearn.preprocessing import StandardScaler, normalize\n",
    "from sklearn.metrics import accuracy_score\n",
    "\n",
    "import numpy as np\n",
    "import matplotlib.pyplot as plt\n",
    "\n",
    "from cv_svm import SVM_smooth"
   ]
  },
  {
   "cell_type": "code",
   "execution_count": 2,
   "id": "c4086520-17a5-4960-bc9d-403885ee5660",
   "metadata": {},
   "outputs": [],
   "source": [
    "X, y = load_breast_cancer(return_X_y=True)\n",
    "n = X.shape[0]\n",
    "p = X.shape[1]\n",
    "y[np.where(y == 0)] = -1"
   ]
  },
  {
   "cell_type": "code",
   "execution_count": 3,
   "id": "11f9681e-efa1-4a21-852e-a347a53aaee0",
   "metadata": {},
   "outputs": [
    {
     "name": "stdout",
     "output_type": "stream",
     "text": [
      "(569, 30)\n"
     ]
    }
   ],
   "source": [
    "X = StandardScaler().fit_transform(X)\n",
    "print(X.shape)"
   ]
  },
  {
   "cell_type": "code",
   "execution_count": 4,
   "id": "68e904eb-5471-4af8-835b-4960f1e68a30",
   "metadata": {},
   "outputs": [
    {
     "name": "stdout",
     "output_type": "stream",
     "text": [
      "[[-0.32157975 -0.0963414  -0.29618472 -0.27044914  0.0145657   0.61925944\n",
      "  -0.75749079 -0.90968508 -0.07847361  0.34800574 -0.84095245  0.30550603\n",
      "  -0.23541953 -0.89135374 -0.35509455  0.39115374  0.37739417 -0.46041889\n",
      "   0.10093298  0.88583541 -0.59013908 -0.97190388 -0.33349947 -0.71227359\n",
      "  -0.42708268  0.1721726  -1.03818882 -0.09378355 -0.44679874 -0.85526809]]\n",
      "[0.04438971]\n"
     ]
    }
   ],
   "source": [
    "clf = SVC(kernel='linear')\n",
    "clf.fit(X, y)\n",
    "sk_coef = clf.coef_/np.linalg.norm(clf.coef_)\n",
    "print(clf.coef_)\n",
    "print(clf.intercept_)"
   ]
  },
  {
   "cell_type": "code",
   "execution_count": 5,
   "id": "6165d874-8e27-4943-9dd5-283606193551",
   "metadata": {},
   "outputs": [
    {
     "data": {
      "text/plain": [
       "0.9876977152899824"
      ]
     },
     "execution_count": 5,
     "metadata": {},
     "output_type": "execute_result"
    }
   ],
   "source": [
    "y_pred = clf.predict(X)\n",
    "accuracy_score(y, y_pred)"
   ]
  },
  {
   "cell_type": "code",
   "execution_count": 6,
   "id": "020e96b9-28ff-4261-a148-c9e6e061716c",
   "metadata": {},
   "outputs": [
    {
     "name": "stdout",
     "output_type": "stream",
     "text": [
      "IACV: 3.811821898125345e-06 | baseline: 0.0024778386848001988\n",
      "IACV: 9.028679414768703e-06 | baseline: 0.002471319873095643\n",
      "IACV: 1.6067393517005257e-05 | baseline: 0.0024648196583519247\n",
      "IACV: 2.5108382033067755e-05 | baseline: 0.0024583381856246034\n",
      "IACV: 3.622827716753818e-05 | baseline: 0.002451875601578655\n",
      "IACV: 4.946253829984926e-05 | baseline: 0.0024454320545208557\n",
      "IACV: 6.482942990260199e-05 | baseline: 0.002439007694432006\n",
      "IACV: 8.233902917709202e-05 | baseline: 0.0024326026729988496\n",
      "IACV: 0.00010199700045632198 | baseline: 0.002426217143645544\n",
      "IACV: 0.00012380641419440508 | baseline: 0.0024198512615645216\n",
      "IACV: 0.0001477688638260588 | baseline: 0.0024135051837465807\n",
      "IACV: 0.0001738848368404433 | baseline: 0.002407179069010041\n",
      "IACV: 0.00020215430413372815 | baseline: 0.0024008730780287623\n",
      "IACV: 0.00023257663997355849 | baseline: 0.0023945873733588518\n",
      "IACV: 0.0002651510003488511 | baseline: 0.002388322119463851\n",
      "IACV: 0.00029987626476213336 | baseline: 0.002382077482738198\n",
      "IACV: 0.0003367512545082718 | baseline: 0.0023758536315287375\n",
      "IACV: 0.0003757743979804218 | baseline: 0.0023696507361540505\n",
      "IACV: 0.00041694429819472134 | baseline: 0.002363468968921367\n",
      "IACV: 0.0004602593253366649 | baseline: 0.002357308504140813\n",
      "IACV: 0.0005057179369032383 | baseline: 0.002351169518136719\n",
      "IACV: 0.0005533183575607836 | baseline: 0.0023450521892557376\n",
      "IACV: 0.0006030588410794735 | baseline: 0.0023389566978714712\n",
      "IACV: 0.0006549377576448023 | baseline: 0.002332883226385336\n",
      "IACV: 0.0007089533610269427 | baseline: 0.0023268319592233506\n",
      "IACV: 0.000765052973292768 | baseline: 0.002295656792438401\n",
      "IACV: 0.0008232637774199247 | baseline: 0.00228971149261954\n",
      "IACV: 0.0008835844928398728 | baseline: 0.002283788530804357\n",
      "IACV: 0.0009460128494538367 | baseline: 0.002277888079493167\n",
      "IACV: 0.0010105471592396498 | baseline: 0.0022720103125180835\n",
      "IACV: 0.0010771857341751456 | baseline: 0.0022661554050260797\n",
      "IACV: 0.0011459264205768704 | baseline: 0.0022603235334611883\n",
      "IACV: 0.0012167677050456405 | baseline: 0.0022545148755460038\n",
      "IACV: 0.0012896726839244366 | baseline: 0.0022296102567547966\n",
      "IACV: 0.0013646576553583145 | baseline: 0.0022239029226059923\n",
      "IACV: 0.0014416779158636928 | baseline: 0.0022002073733992686\n",
      "IACV: 0.0015207233373075724 | baseline: 0.0021768995332068493\n",
      "IACV: 0.0016017811140045524 | baseline: 0.0021541966188848567\n",
      "IACV: 0.001684834947809577 | baseline: 0.0021321304194935084\n",
      "IACV: 0.0017698665615171194 | baseline: 0.002110591152578847\n",
      "IACV: 0.0018568921368569136 | baseline: 0.002105231344637511\n",
      "IACV: 0.0019458526512607932 | baseline: 0.002068628732361344\n",
      "IACV: 0.002036775927990675 | baseline: 0.002063406439356453\n",
      "IACV: 0.002129660453647375 | baseline: 0.0020582083725018446\n",
      "IACV: 0.0022245035506784916 | baseline: 0.0020530347000791613\n",
      "IACV: 0.002321304054930806 | baseline: 0.0020478855916629467\n",
      "IACV: 0.002420060569420457 | baseline: 0.002042761218128033\n",
      "IACV: 0.0025206957943737507 | baseline: 0.0019965886211065526\n",
      "IACV: 0.002623222069814801 | baseline: 0.0019781701861694314\n",
      "IACV: 0.0027276258915662766 | baseline: 0.001960368184239638\n",
      "IACV: 0.0028338944539427757 | baseline: 0.0019427229781260199\n",
      "IACV: 0.002942014252766967 | baseline: 0.001925327862358618\n",
      "IACV: 0.0030519962310791016 | baseline: 0.0019206294511277277\n",
      "IACV: 0.0031638385262340307 | baseline: 0.0019159573271016102\n",
      "IACV: 0.0032775180879980326 | baseline: 0.001899258958205528\n",
      "IACV: 0.003392999293282628 | baseline: 0.0018712311748627884\n",
      "IACV: 0.003510261420160532 | baseline: 0.001843868394433445\n",
      "IACV: 0.0036292611621320248 | baseline: 0.0018054885839150576\n",
      "IACV: 0.0037500301841646433 | baseline: 0.0018012163707113373\n",
      "IACV: 0.003872567554935813 | baseline: 0.0017969714991539689\n",
      "IACV: 0.003996870014816523 | baseline: 0.0017927541341449592\n",
      "IACV: 0.004122918471693993 | baseline: 0.0017780255131736888\n",
      "IACV: 0.004250698257237673 | baseline: 0.0017637775645574292\n",
      "IACV: 0.004380200989544392 | baseline: 0.0017493406783005336\n",
      "IACV: 0.004511416889727116 | baseline: 0.001735367960757751\n",
      "IACV: 0.004644353874027729 | baseline: 0.001731408290165815\n",
      "IACV: 0.004779010079801083 | baseline: 0.0017274771043386853\n",
      "IACV: 0.00491531053557992 | baseline: 0.0016851276711058194\n",
      "IACV: 0.005053292028605938 | baseline: 0.0016813731017142261\n",
      "IACV: 0.005192935466766357 | baseline: 0.0016680796506470766\n",
      "IACV: 0.005334247834980488 | baseline: 0.0016644166134822664\n",
      "IACV: 0.0054772282019257545 | baseline: 0.001660783086397677\n",
      "IACV: 0.005621823016554117 | baseline: 0.0016299374290031018\n",
      "IACV: 0.005768041126430035 | baseline: 0.0016174632454855344\n",
      "IACV: 0.005915889050811529 | baseline: 0.001614038589292975\n",
      "IACV: 0.006065348628908396 | baseline: 0.001602104467450822\n",
      "IACV: 0.006216426845639944 | baseline: 0.0015987579321907006\n",
      "IACV: 0.006369086913764477 | baseline: 0.0015780352903949158\n",
      "IACV: 0.006523332558572292 | baseline: 0.001566291516962687\n",
      "IACV: 0.006679135840386152 | baseline: 0.0015464407299939184\n",
      "IACV: 0.006836480461061001 | baseline: 0.0015270998108923716\n",
      "IACV: 0.006995383650064468 | baseline: 0.0015240359752930214\n",
      "IACV: 0.007155796978622675 | baseline: 0.0014966501833549107\n",
      "IACV: 0.007317729294300079 | baseline: 0.0014857775366822921\n",
      "IACV: 0.007481185253709555 | baseline: 0.0014829255871975737\n",
      "IACV: 0.007646090351045132 | baseline: 0.0014410561423207633\n",
      "IACV: 0.007812466472387314 | baseline: 0.0014306863782971662\n",
      "IACV: 0.007980289869010448 | baseline: 0.0014133749793198722\n",
      "IACV: 0.008149555884301662 | baseline: 0.0014037429927090802\n",
      "IACV: 0.008320275694131851 | baseline: 0.0014012852900477887\n",
      "IACV: 0.00849238783121109 | baseline: 0.0013696079945278484\n",
      "IACV: 0.008665921166539192 | baseline: 0.0013673066154465746\n",
      "IACV: 0.0088408337906003 | baseline: 0.0013433916320713434\n",
      "IACV: 0.00901711918413639 | baseline: 0.0013269589668859078\n",
      "IACV: 0.009194773621857166 | baseline: 0.0013178126339975951\n",
      "IACV: 0.009373790584504604 | baseline: 0.0013087954046600591\n",
      "IACV: 0.009554162621498108 | baseline: 0.0012999192026007852\n",
      "IACV: 0.009735855273902416 | baseline: 0.001277827285317093\n",
      "IACV: 0.009918886236846447 | baseline: 0.0012760617887037943\n",
      "IACV: 0.010103254579007626 | baseline: 0.0012743311399554605\n",
      "IACV: 0.010288961231708527 | baseline: 0.001272635484191153\n",
      "IACV: 0.010475990362465382 | baseline: 0.0012644970061234434\n",
      "IACV: 0.010664321482181549 | baseline: 0.0012501535559741176\n",
      "IACV: 0.010853966698050499 | baseline: 0.0012486493013873334\n",
      "IACV: 0.011044912971556187 | baseline: 0.001240858669137967\n",
      "IACV: 0.011237124912440777 | baseline: 0.0012210976365332436\n",
      "IACV: 0.011430584825575352 | baseline: 0.0012012033945652317\n",
      "IACV: 0.011625285260379314 | baseline: 0.0011884430544672202\n"
     ]
    },
    {
     "ename": "KeyboardInterrupt",
     "evalue": "",
     "output_type": "error",
     "traceback": [
      "\u001b[0;31m---------------------------------------------------------------------------\u001b[0m",
      "\u001b[0;31mKeyboardInterrupt\u001b[0m                         Traceback (most recent call last)",
      "Cell \u001b[0;32mIn[6], line 2\u001b[0m\n\u001b[1;32m      1\u001b[0m clf \u001b[38;5;241m=\u001b[39m SVM_smooth(sigma\u001b[38;5;241m=\u001b[39m\u001b[38;5;241m2e-35\u001b[39m, lbd\u001b[38;5;241m=\u001b[39m\u001b[38;5;241m1\u001b[39m)\n\u001b[0;32m----> 2\u001b[0m \u001b[43mclf\u001b[49m\u001b[38;5;241;43m.\u001b[39;49m\u001b[43mfit\u001b[49m\u001b[43m(\u001b[49m\u001b[43mX\u001b[49m\u001b[43m,\u001b[49m\u001b[43m \u001b[49m\u001b[43my\u001b[49m\u001b[43m,\u001b[49m\u001b[43m \u001b[49m\u001b[43mthresh\u001b[49m\u001b[38;5;241;43m=\u001b[39;49m\u001b[38;5;241;43m1e-3\u001b[39;49m\u001b[43m,\u001b[49m\u001b[43m \u001b[49m\u001b[43mn_iter\u001b[49m\u001b[38;5;241;43m=\u001b[39;49m\u001b[38;5;241;43m8000\u001b[39;49m\u001b[43m,\u001b[49m\u001b[43m \u001b[49m\u001b[43meta\u001b[49m\u001b[38;5;241;43m=\u001b[39;49m\u001b[38;5;241;43m0.5\u001b[39;49m\u001b[38;5;241;43m/\u001b[39;49m\u001b[43mn\u001b[49m\u001b[43m,\u001b[49m\u001b[43m \u001b[49m\u001b[43mapprox_cv\u001b[49m\u001b[38;5;241;43m=\u001b[39;49m\u001b[38;5;28;43;01mTrue\u001b[39;49;00m\u001b[43m,\u001b[49m\u001b[43m \u001b[49m\u001b[43mcv\u001b[49m\u001b[38;5;241;43m=\u001b[39;49m\u001b[38;5;28;43;01mTrue\u001b[39;49;00m\u001b[43m,\u001b[49m\u001b[43m \u001b[49m\u001b[43mlog_iacv\u001b[49m\u001b[38;5;241;43m=\u001b[39;49m\u001b[38;5;28;43;01mTrue\u001b[39;49;00m\u001b[43m)\u001b[49m\n\u001b[1;32m      3\u001b[0m \u001b[38;5;28mprint\u001b[39m(\u001b[38;5;124mf\u001b[39m\u001b[38;5;124m\"\u001b[39m\u001b[38;5;124mgrad \u001b[39m\u001b[38;5;132;01m{\u001b[39;00mnp\u001b[38;5;241m.\u001b[39mlinalg\u001b[38;5;241m.\u001b[39mnorm(clf\u001b[38;5;241m.\u001b[39mnabla_fgd_(X,\u001b[38;5;250m \u001b[39my,\u001b[38;5;250m \u001b[39mclf\u001b[38;5;241m.\u001b[39mweights_,\u001b[38;5;250m \u001b[39mclf\u001b[38;5;241m.\u001b[39msigma_,\u001b[38;5;250m \u001b[39mclf\u001b[38;5;241m.\u001b[39mlbd_))\u001b[38;5;132;01m}\u001b[39;00m\u001b[38;5;124m\"\u001b[39m)\n\u001b[1;32m      4\u001b[0m coef \u001b[38;5;241m=\u001b[39m clf\u001b[38;5;241m.\u001b[39mweights_\u001b[38;5;241m/\u001b[39mnp\u001b[38;5;241m.\u001b[39mlinalg\u001b[38;5;241m.\u001b[39mnorm(clf\u001b[38;5;241m.\u001b[39mweights_)\n",
      "File \u001b[0;32m~/Projects/thesis/svm/cv_svm.py:216\u001b[0m, in \u001b[0;36mSVM_smooth.fit\u001b[0;34m(self, X, y, eta, cv, approx_cv, n_iter, thresh, init_w, **kwargs)\u001b[0m\n\u001b[1;32m    213\u001b[0m \u001b[38;5;28mself\u001b[39m\u001b[38;5;241m.\u001b[39mloo_true_ \u001b[38;5;241m=\u001b[39m np\u001b[38;5;241m.\u001b[39mzeros((\u001b[38;5;28mself\u001b[39m\u001b[38;5;241m.\u001b[39mn, \u001b[38;5;28mself\u001b[39m\u001b[38;5;241m.\u001b[39mp))\n\u001b[1;32m    214\u001b[0m \u001b[38;5;28mself\u001b[39m\u001b[38;5;241m.\u001b[39mloo_iacv_ \u001b[38;5;241m=\u001b[39m np\u001b[38;5;241m.\u001b[39mzeros((\u001b[38;5;28mself\u001b[39m\u001b[38;5;241m.\u001b[39mn, \u001b[38;5;28mself\u001b[39m\u001b[38;5;241m.\u001b[39mp))\n\u001b[0;32m--> 216\u001b[0m \u001b[38;5;28;43mself\u001b[39;49m\u001b[38;5;241;43m.\u001b[39;49m\u001b[43mfit_gd_\u001b[49m\u001b[43m(\u001b[49m\n\u001b[1;32m    217\u001b[0m \u001b[43m    \u001b[49m\u001b[43mX\u001b[49m\u001b[43m,\u001b[49m\n\u001b[1;32m    218\u001b[0m \u001b[43m    \u001b[49m\u001b[43my\u001b[49m\u001b[43m,\u001b[49m\n\u001b[1;32m    219\u001b[0m \u001b[43m    \u001b[49m\u001b[43meta\u001b[49m\u001b[38;5;241;43m=\u001b[39;49m\u001b[43meta\u001b[49m\u001b[43m,\u001b[49m\n\u001b[1;32m    220\u001b[0m \u001b[43m    \u001b[49m\u001b[43mcv\u001b[49m\u001b[38;5;241;43m=\u001b[39;49m\u001b[43mcv\u001b[49m\u001b[43m,\u001b[49m\n\u001b[1;32m    221\u001b[0m \u001b[43m    \u001b[49m\u001b[43mapprox_cv\u001b[49m\u001b[38;5;241;43m=\u001b[39;49m\u001b[43mapprox_cv\u001b[49m\u001b[43m,\u001b[49m\n\u001b[1;32m    222\u001b[0m \u001b[43m    \u001b[49m\u001b[43mn_iter\u001b[49m\u001b[38;5;241;43m=\u001b[39;49m\u001b[43mn_iter\u001b[49m\u001b[43m,\u001b[49m\n\u001b[1;32m    223\u001b[0m \u001b[43m    \u001b[49m\u001b[43mthresh\u001b[49m\u001b[38;5;241;43m=\u001b[39;49m\u001b[43mthresh\u001b[49m\u001b[43m,\u001b[49m\n\u001b[1;32m    224\u001b[0m \u001b[43m    \u001b[49m\u001b[38;5;241;43m*\u001b[39;49m\u001b[38;5;241;43m*\u001b[39;49m\u001b[43mkwargs\u001b[49m\u001b[43m,\u001b[49m\n\u001b[1;32m    225\u001b[0m \u001b[43m\u001b[49m\u001b[43m)\u001b[49m\n",
      "File \u001b[0;32m~/Projects/thesis/svm/cv_svm.py:168\u001b[0m, in \u001b[0;36mSVM_smooth.fit_gd_\u001b[0;34m(self, X, y, eta, cv, approx_cv, n_iter, thresh, log_iacv, log_iter, save_grads)\u001b[0m\n\u001b[1;32m    166\u001b[0m     X_temp \u001b[38;5;241m=\u001b[39m np\u001b[38;5;241m.\u001b[39mdelete(X, (i), axis\u001b[38;5;241m=\u001b[39m\u001b[38;5;241m0\u001b[39m)\n\u001b[1;32m    167\u001b[0m     y_temp \u001b[38;5;241m=\u001b[39m np\u001b[38;5;241m.\u001b[39mdelete(y, (i), axis\u001b[38;5;241m=\u001b[39m\u001b[38;5;241m0\u001b[39m)\n\u001b[0;32m--> 168\u001b[0m     \u001b[38;5;28mself\u001b[39m\u001b[38;5;241m.\u001b[39mloo_true_[i] \u001b[38;5;241m=\u001b[39m \u001b[38;5;28mself\u001b[39m\u001b[38;5;241m.\u001b[39mloo_true_[i] \u001b[38;5;241m-\u001b[39m eta \u001b[38;5;241m*\u001b[39m \u001b[38;5;28;43mself\u001b[39;49m\u001b[38;5;241;43m.\u001b[39;49m\u001b[43mnabla_fgd_\u001b[49m\u001b[43m(\u001b[49m\n\u001b[1;32m    169\u001b[0m \u001b[43m        \u001b[49m\u001b[43mX_temp\u001b[49m\u001b[43m,\u001b[49m\u001b[43m \u001b[49m\u001b[43my_temp\u001b[49m\u001b[43m,\u001b[49m\u001b[43m \u001b[49m\u001b[38;5;28;43mself\u001b[39;49m\u001b[38;5;241;43m.\u001b[39;49m\u001b[43mweights_\u001b[49m\u001b[43m,\u001b[49m\u001b[43m \u001b[49m\u001b[38;5;28;43mself\u001b[39;49m\u001b[38;5;241;43m.\u001b[39;49m\u001b[43msigma_\u001b[49m\u001b[43m,\u001b[49m\u001b[43m \u001b[49m\u001b[38;5;28;43mself\u001b[39;49m\u001b[38;5;241;43m.\u001b[39;49m\u001b[43mlbd_\u001b[49m\n\u001b[1;32m    170\u001b[0m \u001b[43m    \u001b[49m\u001b[43m)\u001b[49m\n\u001b[1;32m    171\u001b[0m end \u001b[38;5;241m=\u001b[39m time\u001b[38;5;241m.\u001b[39mtime()\n\u001b[1;32m    172\u001b[0m \u001b[38;5;66;03m# print(f\"true CV time {end - start}\")\u001b[39;00m\n\u001b[1;32m    173\u001b[0m \n\u001b[1;32m    174\u001b[0m \u001b[38;5;66;03m# self.loo_true_ /= np.asarray(\u001b[39;00m\n\u001b[1;32m    175\u001b[0m \u001b[38;5;66;03m#    [np.linalg.norm(self.loo_true_, axis=0)] * self.n\u001b[39;00m\n\u001b[1;32m    176\u001b[0m \u001b[38;5;66;03m# )\u001b[39;00m\n",
      "File \u001b[0;32m~/Projects/thesis/svm/cv_svm.py:43\u001b[0m, in \u001b[0;36mSVM_smooth.nabla_fgd_\u001b[0;34m(self, X, y, w, sigma, lbd)\u001b[0m\n\u001b[1;32m     35\u001b[0m \u001b[38;5;28;01mdef\u001b[39;00m \u001b[38;5;21mnabla_fgd_\u001b[39m(\n\u001b[1;32m     36\u001b[0m     \u001b[38;5;28mself\u001b[39m,\n\u001b[1;32m     37\u001b[0m     X: np\u001b[38;5;241m.\u001b[39mndarray,\n\u001b[0;32m   (...)\u001b[0m\n\u001b[1;32m     41\u001b[0m     lbd: np\u001b[38;5;241m.\u001b[39mfloat64,\n\u001b[1;32m     42\u001b[0m ):\n\u001b[0;32m---> 43\u001b[0m     \u001b[38;5;28;01mreturn\u001b[39;00m lbd \u001b[38;5;241m*\u001b[39m w \u001b[38;5;241m-\u001b[39m \u001b[38;5;241m1\u001b[39m \u001b[38;5;241m/\u001b[39m \u001b[38;5;28mself\u001b[39m\u001b[38;5;241m.\u001b[39mn \u001b[38;5;241m*\u001b[39m \u001b[38;5;28;43mself\u001b[39;49m\u001b[38;5;241;43m.\u001b[39;49m\u001b[43mPhi_m\u001b[49m\u001b[43m(\u001b[49m\u001b[43m(\u001b[49m\u001b[38;5;241;43m1\u001b[39;49m\u001b[43m \u001b[49m\u001b[38;5;241;43m-\u001b[39;49m\u001b[43m \u001b[49m\u001b[43my\u001b[49m\u001b[43m \u001b[49m\u001b[38;5;241;43m*\u001b[39;49m\u001b[43m \u001b[49m\u001b[43m(\u001b[49m\u001b[43mX\u001b[49m\u001b[43m \u001b[49m\u001b[38;5;241;43m@\u001b[39;49m\u001b[43m \u001b[49m\u001b[43mw\u001b[49m\u001b[43m)\u001b[49m\u001b[43m)\u001b[49m\u001b[43m \u001b[49m\u001b[38;5;241;43m/\u001b[39;49m\u001b[43m \u001b[49m\u001b[43msigma\u001b[49m\u001b[43m)\u001b[49m \u001b[38;5;241m*\u001b[39m y \u001b[38;5;241m@\u001b[39m X\n",
      "File \u001b[0;32m~/Projects/thesis/svm/cv_svm.py:20\u001b[0m, in \u001b[0;36mSVM_smooth.Phi_m\u001b[0;34m(self, v)\u001b[0m\n\u001b[1;32m     17\u001b[0m     \u001b[38;5;28mself\u001b[39m\u001b[38;5;241m.\u001b[39mweights_ \u001b[38;5;241m=\u001b[39m np\u001b[38;5;241m.\u001b[39mzeros(\u001b[38;5;241m0\u001b[39m)\n\u001b[1;32m     18\u001b[0m     \u001b[38;5;28mself\u001b[39m\u001b[38;5;241m.\u001b[39mgrads_ \u001b[38;5;241m=\u001b[39m []\n\u001b[0;32m---> 20\u001b[0m \u001b[38;5;28;01mdef\u001b[39;00m \u001b[38;5;21mPhi_m\u001b[39m(\u001b[38;5;28mself\u001b[39m, v):\n\u001b[1;32m     21\u001b[0m     \u001b[38;5;28;01mreturn\u001b[39;00m (\u001b[38;5;241m1\u001b[39m \u001b[38;5;241m+\u001b[39m v \u001b[38;5;241m/\u001b[39m np\u001b[38;5;241m.\u001b[39msqrt(\u001b[38;5;241m1\u001b[39m \u001b[38;5;241m+\u001b[39m v\u001b[38;5;241m*\u001b[39m\u001b[38;5;241m*\u001b[39m\u001b[38;5;241m2\u001b[39m)) \u001b[38;5;241m/\u001b[39m \u001b[38;5;241m2\u001b[39m\n\u001b[1;32m     23\u001b[0m \u001b[38;5;28;01mdef\u001b[39;00m \u001b[38;5;21mPhi_m_prime\u001b[39m(\u001b[38;5;28mself\u001b[39m, v):\n",
      "\u001b[0;31mKeyboardInterrupt\u001b[0m: "
     ]
    }
   ],
   "source": [
    "clf = SVM_smooth(sigma=2e-35, lbd=1)\n",
    "clf.fit(X, y, thresh=1e-3, n_iter=8000, eta=0.5/n, approx_cv=True, cv=True, log_iacv=True)\n",
    "print(f\"grad {np.linalg.norm(clf.nabla_fgd_(X, y, clf.weights_, clf.sigma_, clf.lbd_))}\")\n",
    "coef = clf.weights_/np.linalg.norm(clf.weights_)\n",
    "print(f\"diff {np.mean(np.abs(coef - sk_coef))} | pct {np.mean(np.abs(coef - sk_coef))/np.sum(np.abs(coef))}\")\n",
    "\n",
    "y_pred = clf.predict(X)\n",
    "accuracy_score(y, y_pred)"
   ]
  },
  {
   "cell_type": "code",
   "execution_count": null,
   "id": "8c5978e9",
   "metadata": {},
   "outputs": [],
   "source": [
    "iacv_coef = normalize(clf.loo_iacv_, axis=1)\n",
    "true_coef = normalize(clf.loo_true_, axis=1)\n",
    "print(np.mean(np.linalg.norm(iacv_coef - true_coef, 2, axis=1)))\n",
    "print(np.mean(np.linalg.norm(coef - true_coef, 2, axis=1)))"
   ]
  },
  {
   "cell_type": "code",
   "execution_count": null,
   "id": "869e4a92",
   "metadata": {},
   "outputs": [],
   "source": [
    "print(iacv_coef)\n",
    "print(true_coef)"
   ]
  },
  {
   "cell_type": "code",
   "execution_count": null,
   "id": "fce1cc19",
   "metadata": {},
   "outputs": [],
   "source": [
    "print(np.std(clf.loo_iacv_))\n",
    "print(np.std(clf.loo_true_))"
   ]
  },
  {
   "cell_type": "code",
   "execution_count": null,
   "id": "c4248bf7",
   "metadata": {},
   "outputs": [],
   "source": [
    "print(np.mean(clf.loo_iacv_, axis=0))\n",
    "print(np.mean(clf.loo_true_, axis=0))"
   ]
  },
  {
   "cell_type": "code",
   "execution_count": null,
   "id": "6e967fc8-10df-43d6-a5d3-8797efbd8f3f",
   "metadata": {},
   "outputs": [],
   "source": [
    "plt.hist(np.mean(clf.loo_iacv_, axis=0), alpha=0.5, bins=30, label=\"IACV\")\n",
    "plt.hist(np.mean(clf.loo_true_, axis=0), alpha=0.5, bins=30, label=\"true\")\n",
    "plt.legend()"
   ]
  },
  {
   "cell_type": "code",
   "execution_count": null,
   "id": "82840422-3376-4ab8-9826-7b7bd8c5687e",
   "metadata": {},
   "outputs": [],
   "source": [
    "clf.loo_iacv_"
   ]
  },
  {
   "cell_type": "code",
   "execution_count": null,
   "id": "ffe9b6d5-2ffb-4add-8e22-da59aea696ad",
   "metadata": {},
   "outputs": [],
   "source": [
    "clf.loo_true_"
   ]
  },
  {
   "cell_type": "code",
   "execution_count": null,
   "id": "8abf333b-c0f5-4604-a415-85fc609e9d66",
   "metadata": {},
   "outputs": [],
   "source": [
    "iacv_mean = np.mean(clf.loo_iacv_, axis=0)\n",
    "coef = iacv_mean/np.linalg.norm(iacv_mean)\n",
    "print(f\"diff {np.mean(np.abs(coef - sk_coef))} | pct {np.mean(np.abs(coef - sk_coef))/np.sum(np.abs(coef))}\")"
   ]
  },
  {
   "cell_type": "code",
   "execution_count": null,
   "id": "14858532-d33a-4609-8573-facfb9ea915b",
   "metadata": {},
   "outputs": [],
   "source": [
    "true_cv_mean = np.mean(clf.loo_true_, axis=0)\n",
    "coef = true_cv_mean/np.linalg.norm(true_cv_mean)\n",
    "print(f\"diff {np.mean(np.abs(coef - sk_coef))} | pct {np.mean(np.abs(coef - sk_coef))/np.sum(np.abs(coef))}\")"
   ]
  },
  {
   "cell_type": "code",
   "execution_count": null,
   "id": "ac08fcb0-5563-44ba-b790-c61f040a5608",
   "metadata": {},
   "outputs": [],
   "source": [
    "coef = clf.weights_/np.linalg.norm(clf.weights_)\n",
    "nbin = 100\n",
    "plt.hist(coef, bins=nbin, label=\"FGD\", alpha=0.3)\n",
    "plt.hist(sk_coef.flatten(), bins=nbin, label=\"sklearn\", alpha=0.3)\n",
    "plt.legend()\n",
    "plt.show()"
   ]
  },
  {
   "cell_type": "code",
   "execution_count": 14,
   "id": "4e860349-18a5-441a-b11d-3cde070c55f0",
   "metadata": {},
   "outputs": [
    {
     "name": "stdout",
     "output_type": "stream",
     "text": [
      "running experiment for sigma = 2e-15\n",
      "\tsigma 2e-15 | score 0.9701230228471002 | grad 0.1317288866614811 | sklearn diff 0.10986756025474256\n",
      "\tIACV: 0.013989453203976154 | baseline: 0.004962279792076099\n",
      "running experiment for sigma = 2e-10\n",
      "\tsigma 2e-10 | score 0.9701230228471002 | grad 0.1317288866614811 | sklearn diff 0.10986756025473787\n",
      "\tIACV: 0.01398945227265358 | baseline: 0.004962279792075701\n",
      "running experiment for sigma = 2e-05\n",
      "\tsigma 2e-05 | score 0.9701230228471002 | grad 0.13172917585980934 | sklearn diff 0.10986753675300025\n",
      "\tIACV: 0.009550102055072784 | baseline: 0.004962286831599039\n",
      "running experiment for sigma = 0.002\n",
      "\tsigma 0.002 | score 0.9701230228471002 | grad 0.13262090717831454 | sklearn diff 0.10987422223279326\n",
      "\tIACV: 0.009169481694698334 | baseline: 0.004963060996883863\n",
      "running experiment for sigma = 0.2\n",
      "\tsigma 0.2 | score 0.9701230228471002 | grad 0.13661403366970407 | sklearn diff 0.11148062303261001\n",
      "\tIACV: 0.008397694677114487 | baseline: 0.005014377188963046\n",
      "running experiment for sigma = 0.5\n",
      "\tsigma 0.5 | score 0.968365553602812 | grad 0.15740826959325466 | sklearn diff 0.11409484265143842\n",
      "\tIACV: 0.007489774376153946 | baseline: 0.0050624456282686225\n",
      "running experiment for sigma = 0.7\n",
      "\tsigma 0.7 | score 0.9666080843585237 | grad 0.17406495476173584 | sklearn diff 0.11556037136813956\n",
      "\tIACV: 0.0069228485226631165 | baseline: 0.005110340180647856\n",
      "running experiment for sigma = 0.8\n",
      "\tsigma 0.8 | score 0.9648506151142355 | grad 0.1824605515207705 | sklearn diff 0.11620613434421559\n",
      "\tIACV: 0.006662710104137659 | baseline: 0.00513809455731359\n",
      "running experiment for sigma = 1\n",
      "\tsigma 1 | score 0.9648506151142355 | grad 0.1988811356139508 | sklearn diff 0.11734444849508095\n",
      "\tIACV: 0.006195587106049061 | baseline: 0.005199032837371556\n",
      "running experiment for sigma = 1.25\n",
      "\tsigma 1.25 | score 0.9630931458699473 | grad 0.21846546244588935 | sklearn diff 0.11852468867774825\n",
      "\tIACV: 0.0057027386501431465 | baseline: 0.005281699660433045\n",
      "running experiment for sigma = 1.5\n",
      "\tsigma 1.5 | score 0.9648506151142355 | grad 0.23703366198370635 | sklearn diff 0.11949185799313462\n",
      "\tIACV: 0.005293012131005526 | baseline: 0.00536773713223013\n",
      "running experiment for sigma = 2\n",
      "\tsigma 2 | score 0.9595782073813708 | grad 0.27160345013270304 | sklearn diff 0.12096965768447838\n",
      "\tIACV: 0.0046573602594435215 | baseline: 0.005540282414448014\n",
      "running experiment for sigma = 2.5\n",
      "\tsigma 2.5 | score 0.9578207381370826 | grad 0.3033991149844451 | sklearn diff 0.12203908773144229\n",
      "\tIACV: 0.004188446328043938 | baseline: 0.005705821427527087\n",
      "running experiment for sigma = 5\n",
      "\tsigma 5 | score 0.9525483304042179 | grad 0.434822907493135 | sklearn diff 0.12474797158904373\n",
      "\tIACV: 0.002934810472652316 | baseline: 0.00637800225562779\n",
      "1188.685425043106\n"
     ]
    }
   ],
   "source": [
    "# test different sigma values\n",
    "import time\n",
    "#sigmas = [2e-30, 2e-25, 2e-15, 2e-10, 2e-5, 2e-1]\n",
    "sigmas = [2e-15, 2e-10, 2e-5, 2e-3, 2e-1, 5e-1, 7e-1, 8e-1, 1, 1.25, 1.5, 2, 2.5, 5]\n",
    "scores = []\n",
    "\n",
    "start = time.time()\n",
    "for s in sigmas:\n",
    "    if s == 0:\n",
    "        continue\n",
    "    clf = SVM_smooth(sigma=s, lbd=1e-10)\n",
    "    #clf.fit(X, y, thresh=5e-3, n_iter=1000, eta=0.5 * s, cv=False, approx_cv=True, log_iacv=False, log_iter=True)\n",
    "    print(f\"running experiment for sigma = {s}\")\n",
    "    clf.fit(X, y, thresh=1e-3, n_iter=2500, eta=0.5/n, approx_cv=True, cv=True, log_iacv=False, log_iter=False)\n",
    "    y_pred = clf.predict(X)\n",
    "    score = accuracy_score(y, y_pred)\n",
    "\n",
    "    coef = clf.weights_/np.linalg.norm(clf.weights_)\n",
    "\n",
    "    #print(clf.weights_)\n",
    "    print(f\"\\tsigma {s} | score {score} | grad {np.linalg.norm(clf.nabla_fgd_(X, y, clf.weights_, clf.sigma_, clf.lbd_))} | sklearn diff {np.mean(np.abs(coef- sk_coef))}\")\n",
    "    print(f\"\\tIACV: {np.mean(np.linalg.norm(clf.loo_iacv_ - clf.loo_true_, 2, axis=1))} | baseline: {np.mean(np.linalg.norm(clf.weights_ - clf.loo_true_, 2, axis=1))}\" )\n",
    "    scores.append([np.mean(np.linalg.norm(clf.loo_iacv_ - clf.loo_true_, 2, axis=1)), np.mean(np.linalg.norm(clf.weights_ - clf.loo_true_, 2, axis=1))])\n",
    "\n",
    "end = time.time()\n",
    "print(end - start)"
   ]
  },
  {
   "cell_type": "code",
   "execution_count": 15,
   "id": "b6684278-b1b7-41b0-9647-ebdae87e3040",
   "metadata": {},
   "outputs": [
    {
     "name": "stdout",
     "output_type": "stream",
     "text": [
      "[[0.013989453, 0.004962279792076099], [0.013989452, 0.004962279792075701], [0.009550102, 0.004962286831599039], [0.009169482, 0.004963060996883863], [0.008397695, 0.005014377188963046], [0.0074897744, 0.0050624456282686225], [0.0069228485, 0.005110340180647856], [0.00666271, 0.00513809455731359], [0.006195587, 0.005199032837371556], [0.0057027387, 0.005281699660433045], [0.005293012, 0.00536773713223013], [0.0046573603, 0.005540282414448014], [0.0041884463, 0.005705821427527087], [0.0029348105, 0.00637800225562779]]\n"
     ]
    }
   ],
   "source": [
    "print(scores)\n",
    "scores = np.asarray(scores)"
   ]
  },
  {
   "cell_type": "code",
   "execution_count": 20,
   "id": "cfeadbdd-6ff1-4159-90e4-64468572e8e2",
   "metadata": {},
   "outputs": [
    {
     "data": {
      "image/png": "[encoded data removed]",
      "text/plain": [
       "<Figure size 640x480 with 1 Axes>"
      ]
     },
     "metadata": {},
     "output_type": "display_data"
    }
   ],
   "source": [
    "fig, ax = plt.subplots()\n",
    "ax.plot(np.log(sigmas), scores[:, 0], label=\"IACV\", c='black')\n",
    "ax.plot(np.log(sigmas), scores[:, 1], label=\"baseline\", c='green', linestyle=\"--\")\n",
    "ax.set_xlabel(\"$\\log(\\sigma)$\")\n",
    "ax.set_ylabel(\"$\\log(\\\\text{Err}_\\\\text{Approx})$\")\n",
    "ax.legend()\n",
    "plt.show()"
   ]
  },
  {
   "cell_type": "code",
   "execution_count": 10,
   "id": "83435a80-a88a-419f-bb5a-3efbafb61fb8",
   "metadata": {},
   "outputs": [
    {
     "data": {
      "image/png": "[encoded data removed]",
      "text/plain": [
       "<Figure size 640x480 with 1 Axes>"
      ]
     },
     "metadata": {},
     "output_type": "display_data"
    }
   ],
   "source": [
    "fig, ax = plt.subplots()\n",
    "ax.plot(sigmas, scores[:, 0] - scores[:, 1])\n",
    "plt.show()"
   ]
  }
 ],
 "metadata": {
  "kernelspec": {
   "display_name": "Python 3 (ipykernel)",
   "language": "python",
   "name": "python3"
  },
  "language_info": {
   "codemirror_mode": {
    "name": "ipython",
    "version": 3
   },
   "file_extension": ".py",
   "mimetype": "text/x-python",
   "name": "python",
   "nbconvert_exporter": "python",
   "pygments_lexer": "ipython3",
   "version": "3.11.6"
  }
 },
 "nbformat": 4,
 "nbformat_minor": 5
}
