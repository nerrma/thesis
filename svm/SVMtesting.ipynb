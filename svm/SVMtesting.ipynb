{
 "cells": [
  {
   "cell_type": "code",
   "execution_count": 1,
   "id": "c226d8c4-dd58-49dd-9361-b346df715535",
   "metadata": {},
   "outputs": [],
   "source": [
    "from sklearn.svm import SVC\n",
    "from sklearn.datasets import load_breast_cancer, make_classification\n",
    "from sklearn.preprocessing import StandardScaler, normalize\n",
    "from sklearn.metrics import accuracy_score\n",
    "\n",
    "import numpy as np\n",
    "import matplotlib.pyplot as plt\n",
    "\n",
    "from cv_svm import SVM_smooth\n",
    "\n",
    "#import matplotlib\n",
    "#matplotlib.use(\"pgf\")\n",
    "#matplotlib.rcParams.update({\n",
    "#    \"pgf.texsystem\": \"pdflatex\",\n",
    "#    'font.family': 'serif',\n",
    "#    'text.usetex': True,\n",
    "#    'pgf.rcfonts': False,\n",
    "#})"
   ]
  },
  {
   "cell_type": "code",
   "execution_count": 2,
   "id": "c4086520-17a5-4960-bc9d-403885ee5660",
   "metadata": {},
   "outputs": [],
   "source": [
    "#X, y = load_breast_cancer(return_X_y=True)\n",
    "X, y = make_classification(n_samples=250, n_features=50)\n",
    "n = X.shape[0]\n",
    "p = X.shape[1]\n",
    "y[np.where(y == 0)] = -1"
   ]
  },
  {
   "cell_type": "code",
   "execution_count": 3,
   "id": "11f9681e-efa1-4a21-852e-a347a53aaee0",
   "metadata": {},
   "outputs": [
    {
     "name": "stdout",
     "output_type": "stream",
     "text": [
      "(250, 50)\n"
     ]
    }
   ],
   "source": [
    "X = StandardScaler().fit_transform(X)\n",
    "print(X.shape)"
   ]
  },
  {
   "cell_type": "code",
   "execution_count": 4,
   "id": "68e904eb-5471-4af8-835b-4960f1e68a30",
   "metadata": {},
   "outputs": [
    {
     "name": "stdout",
     "output_type": "stream",
     "text": [
      "[[-0.03580252  0.0538849  -0.41413796  0.13782758 -0.08045537  0.25578288\n",
      "   0.16441577  0.07234894  0.03997236  0.07649082  0.13801625  0.04621733\n",
      "   0.15617996 -0.07805715  0.0880955   0.06432917 -0.18635694  0.31409921\n",
      "   0.11841862  0.12196187  0.28957633  0.93585554  0.26729545  0.23658273\n",
      "  -0.14781746 -0.03936862  0.17181509  0.43683484  0.28172153 -0.3324809\n",
      "  -0.49175585  0.04863838  0.06841735 -0.88860019 -0.06806724 -0.20197403\n",
      "  -0.08915705 -0.45079492  0.29000417  0.0806888  -0.05866046  0.09644375\n",
      "  -0.34502548  0.13634357 -0.14710968  1.13248734  0.26767526  0.00951547\n",
      "   0.040759   -0.15436103]]\n",
      "[0.05971027]\n"
     ]
    }
   ],
   "source": [
    "clf = SVC(kernel='linear')\n",
    "clf.fit(X, y)\n",
    "sk_coef = clf.coef_/np.linalg.norm(clf.coef_)\n",
    "print(clf.coef_)\n",
    "print(clf.intercept_)"
   ]
  },
  {
   "cell_type": "code",
   "execution_count": 5,
   "id": "6165d874-8e27-4943-9dd5-283606193551",
   "metadata": {},
   "outputs": [
    {
     "data": {
      "text/plain": [
       "0.936"
      ]
     },
     "execution_count": 5,
     "metadata": {},
     "output_type": "execute_result"
    }
   ],
   "source": [
    "y_pred = clf.predict(X)\n",
    "accuracy_score(y, y_pred)"
   ]
  },
  {
   "cell_type": "code",
   "execution_count": 6,
   "id": "020e96b9-28ff-4261-a148-c9e6e061716c",
   "metadata": {},
   "outputs": [
    {
     "name": "stdout",
     "output_type": "stream",
     "text": [
      "iter 0 | grad 1.32188 IACV: 0.00000000 | baseline: 0.00500413\n",
      "iter 1 | grad 1.32159 IACV: 0.00000001 | baseline: 0.00498614\n",
      "iter 2 | grad 1.32129 IACV: 0.00000003 | baseline: 0.00497029\n",
      "iter 3 | grad 1.32098 IACV: 0.00000007 | baseline: 0.00495659\n",
      "iter 4 | grad 1.32066 IACV: 0.00000011 | baseline: 0.00494505\n",
      "iter 5 | grad 1.32032 IACV: 0.00000017 | baseline: 0.00493570\n",
      "iter 6 | grad 1.31998 IACV: 0.00000024 | baseline: 0.00492855\n",
      "iter 7 | grad 1.31962 IACV: 0.00000033 | baseline: 0.00492359\n",
      "iter 8 | grad 1.31925 IACV: 0.00000043 | baseline: 0.00492084\n",
      "iter 9 | grad 1.31886 IACV: 0.00000054 | baseline: 0.00492030\n",
      "iter 10 | grad 1.31846 IACV: 0.00000067 | baseline: 0.00492197\n",
      "iter 11 | grad 1.31804 IACV: 0.00000081 | baseline: 0.00492583\n",
      "iter 12 | grad 1.31760 IACV: 0.00000097 | baseline: 0.00493189\n",
      "iter 13 | grad 1.31714 IACV: 0.00000115 | baseline: 0.00494014\n",
      "iter 14 | grad 1.31667 IACV: 0.00000135 | baseline: 0.00495055\n",
      "iter 15 | grad 1.31617 IACV: 0.00000157 | baseline: 0.00496312\n",
      "iter 16 | grad 1.31565 IACV: 0.00000181 | baseline: 0.00497781\n",
      "iter 17 | grad 1.31511 IACV: 0.00000207 | baseline: 0.00499462\n",
      "iter 18 | grad 1.31454 IACV: 0.00000235 | baseline: 0.00501352\n",
      "iter 19 | grad 1.31394 IACV: 0.00000266 | baseline: 0.00503446\n",
      "iter 20 | grad 1.31331 IACV: 0.00000299 | baseline: 0.00505743\n",
      "iter 21 | grad 1.31265 IACV: 0.00000336 | baseline: 0.00508239\n",
      "iter 22 | grad 1.31195 IACV: 0.00000375 | baseline: 0.00510930\n",
      "iter 23 | grad 1.31121 IACV: 0.00000418 | baseline: 0.00513813\n",
      "iter 24 | grad 1.31044 IACV: 0.00000464 | baseline: 0.00516882\n",
      "iter 25 | grad 1.30961 IACV: 0.00000515 | baseline: 0.00520134\n",
      "iter 26 | grad 1.30874 IACV: 0.00000570 | baseline: 0.00523565\n",
      "iter 27 | grad 1.30782 IACV: 0.00000629 | baseline: 0.00527168\n",
      "iter 28 | grad 1.30683 IACV: 0.00000694 | baseline: 0.00530939\n",
      "iter 29 | grad 1.30578 IACV: 0.00000764 | baseline: 0.00534874\n",
      "iter 30 | grad 1.30466 IACV: 0.00000841 | baseline: 0.00538965\n",
      "iter 31 | grad 1.30346 IACV: 0.00000925 | baseline: 0.00543208\n",
      "iter 32 | grad 1.30217 IACV: 0.00001017 | baseline: 0.00547596\n",
      "iter 33 | grad 1.30078 IACV: 0.00001118 | baseline: 0.00552124\n",
      "iter 34 | grad 1.29929 IACV: 0.00001229 | baseline: 0.00556783\n",
      "iter 35 | grad 1.29767 IACV: 0.00001352 | baseline: 0.00561569\n",
      "iter 36 | grad 1.29592 IACV: 0.00001488 | baseline: 0.00566473\n",
      "iter 37 | grad 1.29401 IACV: 0.00001639 | baseline: 0.00571487\n",
      "iter 38 | grad 1.29193 IACV: 0.00001808 | baseline: 0.00576605\n",
      "iter 39 | grad 1.28966 IACV: 0.00001997 | baseline: 0.00581816\n",
      "iter 40 | grad 1.28716 IACV: 0.00002210 | baseline: 0.00587113\n",
      "iter 41 | grad 1.28442 IACV: 0.00002451 | baseline: 0.00592485\n",
      "iter 42 | grad 1.28140 IACV: 0.00002723 | baseline: 0.00597924\n",
      "iter 43 | grad 1.27806 IACV: 0.00003033 | baseline: 0.00603419\n",
      "iter 44 | grad 1.27437 IACV: 0.00003384 | baseline: 0.00608961\n",
      "iter 45 | grad 1.27030 IACV: 0.00003784 | baseline: 0.00614539\n",
      "iter 46 | grad 1.26580 IACV: 0.00004238 | baseline: 0.00620146\n",
      "iter 47 | grad 1.26085 IACV: 0.00004751 | baseline: 0.00625776\n",
      "iter 48 | grad 1.25543 IACV: 0.00005328 | baseline: 0.00631423\n",
      "iter 49 | grad 1.24953 IACV: 0.00005973 | baseline: 0.00637087\n",
      "iter 50 | grad 1.24315 IACV: 0.00006686 | baseline: 0.00642770\n",
      "iter 51 | grad 1.23632 IACV: 0.00007466 | baseline: 0.00648478\n",
      "iter 52 | grad 1.22907 IACV: 0.00008312 | baseline: 0.00654217\n",
      "iter 53 | grad 1.22144 IACV: 0.00009220 | baseline: 0.00659996\n",
      "iter 54 | grad 1.21347 IACV: 0.00010187 | baseline: 0.00665824\n",
      "iter 55 | grad 1.20520 IACV: 0.00011211 | baseline: 0.00671706\n",
      "iter 56 | grad 1.19666 IACV: 0.00012290 | baseline: 0.00677648\n",
      "iter 57 | grad 1.18788 IACV: 0.00013423 | baseline: 0.00683652\n",
      "iter 58 | grad 1.17887 IACV: 0.00014611 | baseline: 0.00689719\n",
      "iter 59 | grad 1.16965 IACV: 0.00015855 | baseline: 0.00695849\n",
      "iter 60 | grad 1.16022 IACV: 0.00017156 | baseline: 0.00702042\n",
      "iter 61 | grad 1.15061 IACV: 0.00018514 | baseline: 0.00708298\n",
      "iter 62 | grad 1.14082 IACV: 0.00019931 | baseline: 0.00714614\n",
      "iter 63 | grad 1.13085 IACV: 0.00021405 | baseline: 0.00720992\n",
      "iter 64 | grad 1.12073 IACV: 0.00022938 | baseline: 0.00727428\n",
      "iter 65 | grad 1.11047 IACV: 0.00024529 | baseline: 0.00733924\n",
      "iter 66 | grad 1.10008 IACV: 0.00026178 | baseline: 0.00740478\n",
      "iter 67 | grad 1.08956 IACV: 0.00027884 | baseline: 0.00747088\n",
      "iter 68 | grad 1.07894 IACV: 0.00029649 | baseline: 0.00753754\n",
      "iter 69 | grad 1.06822 IACV: 0.00031471 | baseline: 0.00760473\n",
      "iter 70 | grad 1.05742 IACV: 0.00033351 | baseline: 0.00767245\n",
      "iter 71 | grad 1.04654 IACV: 0.00035289 | baseline: 0.00774067\n",
      "iter 72 | grad 1.03559 IACV: 0.00037284 | baseline: 0.00780938\n",
      "iter 73 | grad 1.02460 IACV: 0.00039336 | baseline: 0.00787857\n",
      "iter 74 | grad 1.01357 IACV: 0.00041444 | baseline: 0.00794821\n",
      "iter 75 | grad 1.00251 IACV: 0.00043608 | baseline: 0.00801829\n",
      "iter 76 | grad 0.99144 IACV: 0.00045826 | baseline: 0.00808880\n",
      "iter 77 | grad 0.98038 IACV: 0.00048096 | baseline: 0.00815972\n",
      "iter 78 | grad 0.96934 IACV: 0.00050418 | baseline: 0.00823104\n",
      "iter 79 | grad 0.95835 IACV: 0.00052789 | baseline: 0.00830274\n",
      "iter 80 | grad 0.94740 IACV: 0.00055208 | baseline: 0.00837480\n",
      "iter 81 | grad 0.93653 IACV: 0.00057672 | baseline: 0.00844722\n",
      "iter 82 | grad 0.92574 IACV: 0.00060180 | baseline: 0.00851996\n",
      "iter 83 | grad 0.91505 IACV: 0.00062731 | baseline: 0.00859301\n",
      "iter 84 | grad 0.90447 IACV: 0.00065321 | baseline: 0.00866635\n",
      "iter 85 | grad 0.89401 IACV: 0.00067949 | baseline: 0.00873995\n",
      "iter 86 | grad 0.88368 IACV: 0.00070613 | baseline: 0.00881381\n",
      "iter 87 | grad 0.87348 IACV: 0.00073311 | baseline: 0.00888789\n",
      "iter 88 | grad 0.86344 IACV: 0.00076042 | baseline: 0.00896217\n",
      "iter 89 | grad 0.85355 IACV: 0.00078802 | baseline: 0.00903663\n",
      "iter 90 | grad 0.84382 IACV: 0.00081591 | baseline: 0.00911126\n",
      "iter 91 | grad 0.83426 IACV: 0.00084405 | baseline: 0.00918603\n",
      "iter 92 | grad 0.82486 IACV: 0.00087244 | baseline: 0.00926092\n",
      "iter 93 | grad 0.81564 IACV: 0.00090104 | baseline: 0.00933591\n",
      "iter 94 | grad 0.80659 IACV: 0.00092985 | baseline: 0.00941098\n",
      "iter 95 | grad 0.79772 IACV: 0.00095885 | baseline: 0.00948612\n",
      "iter 96 | grad 0.78903 IACV: 0.00098802 | baseline: 0.00956130\n",
      "iter 97 | grad 0.78052 IACV: 0.00101735 | baseline: 0.00963651\n",
      "iter 98 | grad 0.77218 IACV: 0.00104683 | baseline: 0.00971173\n",
      "iter 99 | grad 0.76403 IACV: 0.00107644 | baseline: 0.00978695\n",
      "iter 100 | grad 0.75604 IACV: 0.00110619 | baseline: 0.00986215\n",
      "iter 101 | grad 0.74823 IACV: 0.00113607 | baseline: 0.00993731\n",
      "iter 102 | grad 0.74060 IACV: 0.00116607 | baseline: 0.01001244\n",
      "iter 103 | grad 0.73312 IACV: 0.00119618 | baseline: 0.01008751\n",
      "iter 104 | grad 0.72582 IACV: 0.00122642 | baseline: 0.01016250\n",
      "iter 105 | grad 0.71867 IACV: 0.00125678 | baseline: 0.01023742\n",
      "iter 106 | grad 0.71168 IACV: 0.00128726 | baseline: 0.01031225\n",
      "iter 107 | grad 0.70484 IACV: 0.00131787 | baseline: 0.01038698\n",
      "iter 108 | grad 0.69816 IACV: 0.00134860 | baseline: 0.01046161\n",
      "iter 109 | grad 0.69161 IACV: 0.00137946 | baseline: 0.01053612\n",
      "iter 110 | grad 0.68521 IACV: 0.00141045 | baseline: 0.01061051\n",
      "iter 111 | grad 0.67894 IACV: 0.00144158 | baseline: 0.01068477\n",
      "iter 112 | grad 0.67280 IACV: 0.00147285 | baseline: 0.01075890\n",
      "iter 113 | grad 0.66680 IACV: 0.00150425 | baseline: 0.01083289\n",
      "iter 114 | grad 0.66091 IACV: 0.00153580 | baseline: 0.01090674\n",
      "iter 115 | grad 0.65515 IACV: 0.00156750 | baseline: 0.01098043\n",
      "iter 116 | grad 0.64950 IACV: 0.00159935 | baseline: 0.01105398\n",
      "iter 117 | grad 0.64397 IACV: 0.00163135 | baseline: 0.01112737\n",
      "iter 118 | grad 0.63855 IACV: 0.00166349 | baseline: 0.01120060\n",
      "iter 119 | grad 0.63323 IACV: 0.00169579 | baseline: 0.01127367\n",
      "iter 120 | grad 0.62802 IACV: 0.00172825 | baseline: 0.01134657\n",
      "iter 121 | grad 0.62290 IACV: 0.00176085 | baseline: 0.01141931\n",
      "iter 122 | grad 0.61788 IACV: 0.00179361 | baseline: 0.01149188\n",
      "iter 123 | grad 0.61296 IACV: 0.00182652 | baseline: 0.01156427\n",
      "iter 124 | grad 0.60813 IACV: 0.00185958 | baseline: 0.01163650\n",
      "iter 125 | grad 0.60339 IACV: 0.00189278 | baseline: 0.01170856\n",
      "iter 126 | grad 0.59873 IACV: 0.00192614 | baseline: 0.01178044\n",
      "iter 127 | grad 0.59416 IACV: 0.00195964 | baseline: 0.01185214\n",
      "iter 128 | grad 0.58967 IACV: 0.00199328 | baseline: 0.01192367\n",
      "iter 129 | grad 0.58526 IACV: 0.00202707 | baseline: 0.01199503\n",
      "iter 130 | grad 0.58093 IACV: 0.00206099 | baseline: 0.01206620\n",
      "iter 131 | grad 0.57667 IACV: 0.00209506 | baseline: 0.01213721\n",
      "iter 132 | grad 0.57249 IACV: 0.00212925 | baseline: 0.01220803\n"
     ]
    },
    {
     "ename": "KeyboardInterrupt",
     "evalue": "",
     "output_type": "error",
     "traceback": [
      "\u001b[0;31m---------------------------------------------------------------------------\u001b[0m",
      "\u001b[0;31mKeyboardInterrupt\u001b[0m                         Traceback (most recent call last)",
      "Cell \u001b[0;32mIn[6], line 2\u001b[0m\n\u001b[1;32m      1\u001b[0m clf \u001b[38;5;241m=\u001b[39m SVM_smooth(sigma\u001b[38;5;241m=\u001b[39m\u001b[38;5;241m2e-1\u001b[39m, lbd\u001b[38;5;241m=\u001b[39m\u001b[38;5;241m0\u001b[39m)\n\u001b[0;32m----> 2\u001b[0m \u001b[43mclf\u001b[49m\u001b[38;5;241;43m.\u001b[39;49m\u001b[43mfit\u001b[49m\u001b[43m(\u001b[49m\u001b[43mX\u001b[49m\u001b[43m,\u001b[49m\u001b[43m \u001b[49m\u001b[43my\u001b[49m\u001b[43m,\u001b[49m\u001b[43m \u001b[49m\u001b[43mthresh\u001b[49m\u001b[38;5;241;43m=\u001b[39;49m\u001b[38;5;241;43m1e-3\u001b[39;49m\u001b[43m,\u001b[49m\u001b[43m \u001b[49m\u001b[43mn_iter\u001b[49m\u001b[38;5;241;43m=\u001b[39;49m\u001b[38;5;241;43m2500\u001b[39;49m\u001b[43m,\u001b[49m\u001b[43m \u001b[49m\u001b[43meta\u001b[49m\u001b[38;5;241;43m=\u001b[39;49m\u001b[38;5;241;43m0.95\u001b[39;49m\u001b[38;5;241;43m/\u001b[39;49m\u001b[43mn\u001b[49m\u001b[43m,\u001b[49m\u001b[43m \u001b[49m\u001b[43mapprox_cv\u001b[49m\u001b[38;5;241;43m=\u001b[39;49m\u001b[38;5;28;43;01mTrue\u001b[39;49;00m\u001b[43m,\u001b[49m\u001b[43m \u001b[49m\u001b[43mcv\u001b[49m\u001b[38;5;241;43m=\u001b[39;49m\u001b[38;5;28;43;01mTrue\u001b[39;49;00m\u001b[43m,\u001b[49m\u001b[43m \u001b[49m\u001b[43mlog_iter\u001b[49m\u001b[38;5;241;43m=\u001b[39;49m\u001b[38;5;28;43;01mTrue\u001b[39;49;00m\u001b[43m,\u001b[49m\u001b[43m \u001b[49m\u001b[43mlog_iacv\u001b[49m\u001b[38;5;241;43m=\u001b[39;49m\u001b[38;5;28;43;01mTrue\u001b[39;49;00m\u001b[43m)\u001b[49m\n\u001b[1;32m      3\u001b[0m \u001b[38;5;28mprint\u001b[39m(\u001b[38;5;124mf\u001b[39m\u001b[38;5;124m\"\u001b[39m\u001b[38;5;124mgrad \u001b[39m\u001b[38;5;132;01m{\u001b[39;00mnp\u001b[38;5;241m.\u001b[39mlinalg\u001b[38;5;241m.\u001b[39mnorm(clf\u001b[38;5;241m.\u001b[39mnabla_fgd_(X,\u001b[38;5;250m \u001b[39my,\u001b[38;5;250m \u001b[39mclf\u001b[38;5;241m.\u001b[39mweights_,\u001b[38;5;250m \u001b[39mclf\u001b[38;5;241m.\u001b[39msigma_,\u001b[38;5;250m \u001b[39mclf\u001b[38;5;241m.\u001b[39mlbd_))\u001b[38;5;132;01m}\u001b[39;00m\u001b[38;5;124m\"\u001b[39m)\n\u001b[1;32m      4\u001b[0m coef \u001b[38;5;241m=\u001b[39m clf\u001b[38;5;241m.\u001b[39mweights_\u001b[38;5;241m/\u001b[39mnp\u001b[38;5;241m.\u001b[39mlinalg\u001b[38;5;241m.\u001b[39mnorm(clf\u001b[38;5;241m.\u001b[39mweights_)\n",
      "File \u001b[0;32m~/Projects/thesis/svm/cv_svm.py:193\u001b[0m, in \u001b[0;36mSVM_smooth.fit\u001b[0;34m(self, X, y, eta, cv, approx_cv, n_iter, thresh, init_w, **kwargs)\u001b[0m\n\u001b[1;32m    190\u001b[0m \u001b[38;5;28mself\u001b[39m\u001b[38;5;241m.\u001b[39mloo_true_ \u001b[38;5;241m=\u001b[39m np\u001b[38;5;241m.\u001b[39mzeros((\u001b[38;5;28mself\u001b[39m\u001b[38;5;241m.\u001b[39mn, \u001b[38;5;28mself\u001b[39m\u001b[38;5;241m.\u001b[39mp))\n\u001b[1;32m    191\u001b[0m \u001b[38;5;28mself\u001b[39m\u001b[38;5;241m.\u001b[39mloo_iacv_ \u001b[38;5;241m=\u001b[39m np\u001b[38;5;241m.\u001b[39mzeros((\u001b[38;5;28mself\u001b[39m\u001b[38;5;241m.\u001b[39mn, \u001b[38;5;28mself\u001b[39m\u001b[38;5;241m.\u001b[39mp))\n\u001b[0;32m--> 193\u001b[0m \u001b[38;5;28;43mself\u001b[39;49m\u001b[38;5;241;43m.\u001b[39;49m\u001b[43mfit_gd_\u001b[49m\u001b[43m(\u001b[49m\n\u001b[1;32m    194\u001b[0m \u001b[43m    \u001b[49m\u001b[43mX\u001b[49m\u001b[43m,\u001b[49m\n\u001b[1;32m    195\u001b[0m \u001b[43m    \u001b[49m\u001b[43my\u001b[49m\u001b[43m,\u001b[49m\n\u001b[1;32m    196\u001b[0m \u001b[43m    \u001b[49m\u001b[43meta\u001b[49m\u001b[38;5;241;43m=\u001b[39;49m\u001b[43meta\u001b[49m\u001b[43m,\u001b[49m\n\u001b[1;32m    197\u001b[0m \u001b[43m    \u001b[49m\u001b[43mcv\u001b[49m\u001b[38;5;241;43m=\u001b[39;49m\u001b[43mcv\u001b[49m\u001b[43m,\u001b[49m\n\u001b[1;32m    198\u001b[0m \u001b[43m    \u001b[49m\u001b[43mapprox_cv\u001b[49m\u001b[38;5;241;43m=\u001b[39;49m\u001b[43mapprox_cv\u001b[49m\u001b[43m,\u001b[49m\n\u001b[1;32m    199\u001b[0m \u001b[43m    \u001b[49m\u001b[43mn_iter\u001b[49m\u001b[38;5;241;43m=\u001b[39;49m\u001b[43mn_iter\u001b[49m\u001b[43m,\u001b[49m\n\u001b[1;32m    200\u001b[0m \u001b[43m    \u001b[49m\u001b[43mthresh\u001b[49m\u001b[38;5;241;43m=\u001b[39;49m\u001b[43mthresh\u001b[49m\u001b[43m,\u001b[49m\n\u001b[1;32m    201\u001b[0m \u001b[43m    \u001b[49m\u001b[38;5;241;43m*\u001b[39;49m\u001b[38;5;241;43m*\u001b[39;49m\u001b[43mkwargs\u001b[49m\u001b[43m,\u001b[49m\n\u001b[1;32m    202\u001b[0m \u001b[43m\u001b[49m\u001b[43m)\u001b[49m\n",
      "File \u001b[0;32m~/Projects/thesis/svm/cv_svm.py:143\u001b[0m, in \u001b[0;36mSVM_smooth.fit_gd_\u001b[0;34m(self, X, y, eta, cv, approx_cv, n_iter, thresh, log_iacv, log_iter, save_grads, save_hess)\u001b[0m\n\u001b[1;32m    141\u001b[0m start \u001b[38;5;241m=\u001b[39m time\u001b[38;5;241m.\u001b[39mtime()\n\u001b[1;32m    142\u001b[0m \u001b[38;5;28;01mfor\u001b[39;00m i \u001b[38;5;129;01min\u001b[39;00m \u001b[38;5;28mrange\u001b[39m(\u001b[38;5;28mself\u001b[39m\u001b[38;5;241m.\u001b[39mn):\n\u001b[0;32m--> 143\u001b[0m     X_temp \u001b[38;5;241m=\u001b[39m \u001b[43mnp\u001b[49m\u001b[38;5;241;43m.\u001b[39;49m\u001b[43mdelete\u001b[49m\u001b[43m(\u001b[49m\u001b[43mX\u001b[49m\u001b[43m,\u001b[49m\u001b[43m \u001b[49m\u001b[43m(\u001b[49m\u001b[43mi\u001b[49m\u001b[43m)\u001b[49m\u001b[43m,\u001b[49m\u001b[43m \u001b[49m\u001b[43maxis\u001b[49m\u001b[38;5;241;43m=\u001b[39;49m\u001b[38;5;241;43m0\u001b[39;49m\u001b[43m)\u001b[49m\n\u001b[1;32m    144\u001b[0m     y_temp \u001b[38;5;241m=\u001b[39m np\u001b[38;5;241m.\u001b[39mdelete(y, (i), axis\u001b[38;5;241m=\u001b[39m\u001b[38;5;241m0\u001b[39m)\n\u001b[1;32m    145\u001b[0m     \u001b[38;5;28mself\u001b[39m\u001b[38;5;241m.\u001b[39mloo_true_[i] \u001b[38;5;241m=\u001b[39m \u001b[38;5;28mself\u001b[39m\u001b[38;5;241m.\u001b[39mloo_true_[i] \u001b[38;5;241m-\u001b[39m eta \u001b[38;5;241m*\u001b[39m \u001b[38;5;28mself\u001b[39m\u001b[38;5;241m.\u001b[39mnabla_fgd_(\n\u001b[1;32m    146\u001b[0m         X_temp, y_temp, \u001b[38;5;28mself\u001b[39m\u001b[38;5;241m.\u001b[39mweights_, \u001b[38;5;28mself\u001b[39m\u001b[38;5;241m.\u001b[39msigma_, \u001b[38;5;28mself\u001b[39m\u001b[38;5;241m.\u001b[39mlbd_\n\u001b[1;32m    147\u001b[0m     )\n",
      "File \u001b[0;32m/usr/lib/python3.11/site-packages/numpy/lib/function_base.py:5341\u001b[0m, in \u001b[0;36mdelete\u001b[0;34m(arr, obj, axis)\u001b[0m\n\u001b[1;32m   5339\u001b[0m     slobj2 \u001b[38;5;241m=\u001b[39m [\u001b[38;5;28mslice\u001b[39m(\u001b[38;5;28;01mNone\u001b[39;00m)]\u001b[38;5;241m*\u001b[39mndim\n\u001b[1;32m   5340\u001b[0m     slobj2[axis] \u001b[38;5;241m=\u001b[39m \u001b[38;5;28mslice\u001b[39m(obj\u001b[38;5;241m+\u001b[39m\u001b[38;5;241m1\u001b[39m, \u001b[38;5;28;01mNone\u001b[39;00m)\n\u001b[0;32m-> 5341\u001b[0m     new[\u001b[38;5;28mtuple\u001b[39m(slobj)] \u001b[38;5;241m=\u001b[39m arr[\u001b[38;5;28mtuple\u001b[39m(slobj2)]\n\u001b[1;32m   5342\u001b[0m \u001b[38;5;28;01melse\u001b[39;00m:\n\u001b[1;32m   5343\u001b[0m     \u001b[38;5;28;01mif\u001b[39;00m obj\u001b[38;5;241m.\u001b[39mdtype \u001b[38;5;241m==\u001b[39m \u001b[38;5;28mbool\u001b[39m:\n",
      "\u001b[0;31mKeyboardInterrupt\u001b[0m: "
     ]
    }
   ],
   "source": [
    "clf = SVM_smooth(sigma=2e-1, lbd=0)\n",
    "clf.fit(X, y, thresh=1e-3, n_iter=2500, eta=0.95/n, approx_cv=True, cv=True, log_iter=True, log_iacv=True)\n",
    "print(f\"grad {np.linalg.norm(clf.nabla_fgd_(X, y, clf.weights_, clf.sigma_, clf.lbd_))}\")\n",
    "coef = clf.weights_/np.linalg.norm(clf.weights_)\n",
    "print(f\"diff {np.mean(np.abs(coef - sk_coef))} | pct {np.mean(np.abs(coef - sk_coef))/np.sum(np.abs(coef))}\")\n",
    "\n",
    "y_pred = clf.predict(X)\n",
    "accuracy_score(y, y_pred)"
   ]
  },
  {
   "cell_type": "code",
   "execution_count": null,
   "id": "8c5978e9",
   "metadata": {},
   "outputs": [],
   "source": [
    "iacv_coef = normalize(clf.loo_iacv_, axis=1)\n",
    "true_coef = normalize(clf.loo_true_, axis=1)\n",
    "print(np.mean(np.linalg.norm(iacv_coef - true_coef, 2, axis=1)))\n",
    "print(np.mean(np.linalg.norm(coef - true_coef, 2, axis=1)))"
   ]
  },
  {
   "cell_type": "code",
   "execution_count": null,
   "id": "869e4a92",
   "metadata": {},
   "outputs": [],
   "source": [
    "print(iacv_coef)\n",
    "print(true_coef)"
   ]
  },
  {
   "cell_type": "code",
   "execution_count": null,
   "id": "fce1cc19",
   "metadata": {},
   "outputs": [],
   "source": [
    "print(np.std(clf.loo_iacv_))\n",
    "print(np.std(clf.loo_true_))"
   ]
  },
  {
   "cell_type": "code",
   "execution_count": null,
   "id": "c4248bf7",
   "metadata": {},
   "outputs": [],
   "source": [
    "print(np.mean(clf.loo_iacv_, axis=0))\n",
    "print(np.mean(clf.loo_true_, axis=0))"
   ]
  },
  {
   "cell_type": "code",
   "execution_count": null,
   "id": "6e967fc8-10df-43d6-a5d3-8797efbd8f3f",
   "metadata": {},
   "outputs": [],
   "source": [
    "plt.hist(np.mean(clf.loo_iacv_, axis=0), alpha=0.5, bins=30, label=\"IACV\")\n",
    "plt.hist(np.mean(clf.loo_true_, axis=0), alpha=0.5, bins=30, label=\"true\")\n",
    "plt.legend()"
   ]
  },
  {
   "cell_type": "code",
   "execution_count": null,
   "id": "82840422-3376-4ab8-9826-7b7bd8c5687e",
   "metadata": {},
   "outputs": [],
   "source": [
    "clf.loo_iacv_"
   ]
  },
  {
   "cell_type": "code",
   "execution_count": null,
   "id": "ffe9b6d5-2ffb-4add-8e22-da59aea696ad",
   "metadata": {},
   "outputs": [],
   "source": [
    "clf.loo_true_"
   ]
  },
  {
   "cell_type": "code",
   "execution_count": null,
   "id": "8abf333b-c0f5-4604-a415-85fc609e9d66",
   "metadata": {},
   "outputs": [],
   "source": [
    "iacv_mean = np.mean(clf.loo_iacv_, axis=0)\n",
    "coef = iacv_mean/np.linalg.norm(iacv_mean)\n",
    "print(f\"diff {np.mean(np.abs(coef - sk_coef))} | pct {np.mean(np.abs(coef - sk_coef))/np.sum(np.abs(coef))}\")"
   ]
  },
  {
   "cell_type": "code",
   "execution_count": null,
   "id": "14858532-d33a-4609-8573-facfb9ea915b",
   "metadata": {},
   "outputs": [],
   "source": [
    "true_cv_mean = np.mean(clf.loo_true_, axis=0)\n",
    "coef = true_cv_mean/np.linalg.norm(true_cv_mean)\n",
    "print(f\"diff {np.mean(np.abs(coef - sk_coef))} | pct {np.mean(np.abs(coef - sk_coef))/np.sum(np.abs(coef))}\")"
   ]
  },
  {
   "cell_type": "code",
   "execution_count": null,
   "id": "ac08fcb0-5563-44ba-b790-c61f040a5608",
   "metadata": {},
   "outputs": [],
   "source": [
    "coef = clf.weights_/np.linalg.norm(clf.weights_)\n",
    "nbin = 100\n",
    "plt.hist(coef, bins=nbin, label=\"FGD\", alpha=0.3)\n",
    "plt.hist(sk_coef.flatten(), bins=nbin, label=\"sklearn\", alpha=0.3)\n",
    "plt.legend()\n",
    "plt.show()"
   ]
  },
  {
   "cell_type": "code",
   "execution_count": null,
   "id": "4e860349-18a5-441a-b11d-3cde070c55f0",
   "metadata": {},
   "outputs": [],
   "source": [
    "# test different sigma values\n",
    "import time\n",
    "#sigmas = [2e-30, 2e-25, 2e-15, 2e-10, 2e-5, 2e-1]\n",
    "sigmas = [2e-15, 2e-10, 2e-5, 2e-3, 2e-1, 5e-1, 7e-1, 8e-1, 1, 1.25, 1.5, 2, 2.5, 5]\n",
    "scores = []\n",
    "\n",
    "start = time.time()\n",
    "for s in sigmas:\n",
    "    if s == 0:\n",
    "        continue\n",
    "    clf = SVM_smooth(sigma=s, lbd=1e-35)\n",
    "    #clf.fit(X, y, thresh=5e-3, n_iter=1000, eta=0.5 * s, cv=False, approx_cv=True, log_iacv=False, log_iter=True)\n",
    "    print(f\"running experiment for sigma = {s}\")\n",
    "    clf.fit(X, y, thresh=1e-3, n_iter=3500, eta=0.85/n, approx_cv=True, cv=True, log_iacv=False, log_iter=False)\n",
    "    y_pred = clf.predict(X)\n",
    "    score = accuracy_score(y, y_pred)\n",
    "\n",
    "    coef = clf.weights_/np.linalg.norm(clf.weights_)\n",
    "\n",
    "    #print(clf.weights_)\n",
    "    print(f\"\\tsigma {s} | score {score} | grad {np.linalg.norm(clf.nabla_fgd_(X, y, clf.weights_, clf.sigma_, clf.lbd_))} | sklearn diff {np.mean(np.abs(coef- sk_coef))}\")\n",
    "    print(f\"\\tIACV: {np.mean(np.linalg.norm(clf.loo_iacv_ - clf.loo_true_, 2, axis=1))} | baseline: {np.mean(np.linalg.norm(clf.weights_ - clf.loo_true_, 2, axis=1))}\" )\n",
    "    scores.append([np.mean(np.linalg.norm(clf.loo_iacv_ - clf.loo_true_, 2, axis=1)), np.mean(np.linalg.norm(clf.weights_ - clf.loo_true_, 2, axis=1))])\n",
    "\n",
    "end = time.time()\n",
    "print(end - start)"
   ]
  },
  {
   "cell_type": "code",
   "execution_count": null,
   "id": "b6684278-b1b7-41b0-9647-ebdae87e3040",
   "metadata": {
    "scrolled": true
   },
   "outputs": [],
   "source": [
    "print(scores)\n",
    "scores = np.asarray(scores)"
   ]
  },
  {
   "cell_type": "code",
   "execution_count": null,
   "id": "cfeadbdd-6ff1-4159-90e4-64468572e8e2",
   "metadata": {},
   "outputs": [],
   "source": [
    "fig, ax = plt.subplots()\n",
    "ax.plot(sigmas, scores[:, 0], label=\"IACV\", c='black')\n",
    "ax.plot(sigmas, scores[:, 1], label=\"baseline\", c='green', linestyle=\"--\")\n",
    "ax.set_xscale('log')\n",
    "ax.set_xlabel(\"$\\log(\\sigma)$\")\n",
    "ax.set_ylabel(\"Err Approx\")\n",
    "ax.legend()\n",
    "ws = 1.45 # 1.75\n",
    "hs = 1.35 # 1.25\n",
    "fig.set_size_inches(w=5.73/ws, h=3.5/hs)\n",
    "plt.show()\n",
    "#plt.savefig('svmtest_sigma_err_approx_more_iter.pgf', bbox_inches='tight', pad_inches=0)"
   ]
  },
  {
   "cell_type": "code",
   "execution_count": null,
   "id": "83435a80-a88a-419f-bb5a-3efbafb61fb8",
   "metadata": {},
   "outputs": [],
   "source": [
    "fig, ax = plt.subplots()\n",
    "ax.plot(sigmas, scores[:, 0] - scores[:, 1])\n",
    "plt.show()"
   ]
  },
  {
   "cell_type": "code",
   "execution_count": 9,
   "id": "4bc1f02c",
   "metadata": {},
   "outputs": [
    {
     "name": "stdout",
     "output_type": "stream",
     "text": [
      "running experiment for lambda = 0.0\n",
      "\tlambda 0.0 | score 0.92 | grad 0.08921319718170927 | sklearn diff 0.04628760779484646\n",
      "\tIACV: 5.685872868500854e+21 | baseline: 0.07649341598316504\n",
      "running experiment for lambda = 0.16666666666666666\n",
      "\tlambda 0.16666666666666666 | score 0.904 | grad 0.09508725639044689 | sklearn diff 0.05504062304161712\n",
      "\tIACV: 3745884260088878.5 | baseline: 0.0918429207517787\n",
      "running experiment for lambda = 0.3333333333333333\n",
      "\tlambda 0.3333333333333333 | score 0.904 | grad 0.06411781909474411 | sklearn diff 0.05930458709538307\n",
      "\tIACV: 3.1507656880483866e+29 | baseline: 0.10637958837506639\n",
      "running experiment for lambda = 0.5\n",
      "\tlambda 0.5 | score 0.9 | grad 0.08651504489459884 | sklearn diff 0.06050985802083103\n",
      "\tIACV: 6.981574554199988e+26 | baseline: 0.11587076443584113\n",
      "running experiment for lambda = 0.6666666666666666\n",
      "\tlambda 0.6666666666666666 | score 0.908 | grad 0.04886014436897912 | sklearn diff 0.05985706014669606\n",
      "\tIACV: 1.3172311003404272e+22 | baseline: 0.12467828415086374\n",
      "running experiment for lambda = 0.8333333333333333\n",
      "\tlambda 0.8333333333333333 | score 0.908 | grad 0.07027397359647777 | sklearn diff 0.06248597836893415\n",
      "\tIACV: 123612737704589.44 | baseline: 0.13062305829082704\n",
      "running experiment for lambda = 1.0\n"
     ]
    },
    {
     "ename": "KeyboardInterrupt",
     "evalue": "",
     "output_type": "error",
     "traceback": [
      "\u001b[0;31m---------------------------------------------------------------------------\u001b[0m",
      "\u001b[0;31mKeyboardInterrupt\u001b[0m                         Traceback (most recent call last)",
      "Cell \u001b[0;32mIn[9], line 11\u001b[0m\n\u001b[1;32m      9\u001b[0m \u001b[38;5;66;03m#clf.fit(X, y, thresh=5e-3, n_iter=1000, eta=0.5 * s, cv=False, approx_cv=True, log_iacv=False, log_iter=True)\u001b[39;00m\n\u001b[1;32m     10\u001b[0m \u001b[38;5;28mprint\u001b[39m(\u001b[38;5;124mf\u001b[39m\u001b[38;5;124m\"\u001b[39m\u001b[38;5;124mrunning experiment for lambda = \u001b[39m\u001b[38;5;132;01m{\u001b[39;00ml\u001b[38;5;132;01m}\u001b[39;00m\u001b[38;5;124m\"\u001b[39m)\n\u001b[0;32m---> 11\u001b[0m \u001b[43mclf\u001b[49m\u001b[38;5;241;43m.\u001b[39;49m\u001b[43mfit\u001b[49m\u001b[43m(\u001b[49m\u001b[43mX\u001b[49m\u001b[43m,\u001b[49m\u001b[43m \u001b[49m\u001b[43my\u001b[49m\u001b[43m,\u001b[49m\u001b[43m \u001b[49m\u001b[43mthresh\u001b[49m\u001b[38;5;241;43m=\u001b[39;49m\u001b[38;5;241;43m1e-3\u001b[39;49m\u001b[43m,\u001b[49m\u001b[43m \u001b[49m\u001b[43mn_iter\u001b[49m\u001b[38;5;241;43m=\u001b[39;49m\u001b[38;5;241;43m3500\u001b[39;49m\u001b[43m,\u001b[49m\u001b[43m \u001b[49m\u001b[43meta\u001b[49m\u001b[38;5;241;43m=\u001b[39;49m\u001b[38;5;241;43m0.5\u001b[39;49m\u001b[38;5;241;43m/\u001b[39;49m\u001b[43mn\u001b[49m\u001b[43m,\u001b[49m\u001b[43m \u001b[49m\u001b[43mapprox_cv\u001b[49m\u001b[38;5;241;43m=\u001b[39;49m\u001b[38;5;28;43;01mTrue\u001b[39;49;00m\u001b[43m,\u001b[49m\u001b[43m \u001b[49m\u001b[43mcv\u001b[49m\u001b[38;5;241;43m=\u001b[39;49m\u001b[38;5;28;43;01mTrue\u001b[39;49;00m\u001b[43m,\u001b[49m\u001b[43m \u001b[49m\u001b[43mlog_iacv\u001b[49m\u001b[38;5;241;43m=\u001b[39;49m\u001b[38;5;28;43;01mFalse\u001b[39;49;00m\u001b[43m,\u001b[49m\u001b[43m \u001b[49m\u001b[43mlog_iter\u001b[49m\u001b[38;5;241;43m=\u001b[39;49m\u001b[38;5;28;43;01mFalse\u001b[39;49;00m\u001b[43m)\u001b[49m\n\u001b[1;32m     12\u001b[0m y_pred \u001b[38;5;241m=\u001b[39m clf\u001b[38;5;241m.\u001b[39mpredict(X)\n\u001b[1;32m     13\u001b[0m score \u001b[38;5;241m=\u001b[39m accuracy_score(y, y_pred)\n",
      "File \u001b[0;32m~/Projects/thesis/svm/cv_svm.py:193\u001b[0m, in \u001b[0;36mSVM_smooth.fit\u001b[0;34m(self, X, y, eta, cv, approx_cv, n_iter, thresh, init_w, **kwargs)\u001b[0m\n\u001b[1;32m    190\u001b[0m \u001b[38;5;28mself\u001b[39m\u001b[38;5;241m.\u001b[39mloo_true_ \u001b[38;5;241m=\u001b[39m np\u001b[38;5;241m.\u001b[39mzeros((\u001b[38;5;28mself\u001b[39m\u001b[38;5;241m.\u001b[39mn, \u001b[38;5;28mself\u001b[39m\u001b[38;5;241m.\u001b[39mp))\n\u001b[1;32m    191\u001b[0m \u001b[38;5;28mself\u001b[39m\u001b[38;5;241m.\u001b[39mloo_iacv_ \u001b[38;5;241m=\u001b[39m np\u001b[38;5;241m.\u001b[39mzeros((\u001b[38;5;28mself\u001b[39m\u001b[38;5;241m.\u001b[39mn, \u001b[38;5;28mself\u001b[39m\u001b[38;5;241m.\u001b[39mp))\n\u001b[0;32m--> 193\u001b[0m \u001b[38;5;28;43mself\u001b[39;49m\u001b[38;5;241;43m.\u001b[39;49m\u001b[43mfit_gd_\u001b[49m\u001b[43m(\u001b[49m\n\u001b[1;32m    194\u001b[0m \u001b[43m    \u001b[49m\u001b[43mX\u001b[49m\u001b[43m,\u001b[49m\n\u001b[1;32m    195\u001b[0m \u001b[43m    \u001b[49m\u001b[43my\u001b[49m\u001b[43m,\u001b[49m\n\u001b[1;32m    196\u001b[0m \u001b[43m    \u001b[49m\u001b[43meta\u001b[49m\u001b[38;5;241;43m=\u001b[39;49m\u001b[43meta\u001b[49m\u001b[43m,\u001b[49m\n\u001b[1;32m    197\u001b[0m \u001b[43m    \u001b[49m\u001b[43mcv\u001b[49m\u001b[38;5;241;43m=\u001b[39;49m\u001b[43mcv\u001b[49m\u001b[43m,\u001b[49m\n\u001b[1;32m    198\u001b[0m \u001b[43m    \u001b[49m\u001b[43mapprox_cv\u001b[49m\u001b[38;5;241;43m=\u001b[39;49m\u001b[43mapprox_cv\u001b[49m\u001b[43m,\u001b[49m\n\u001b[1;32m    199\u001b[0m \u001b[43m    \u001b[49m\u001b[43mn_iter\u001b[49m\u001b[38;5;241;43m=\u001b[39;49m\u001b[43mn_iter\u001b[49m\u001b[43m,\u001b[49m\n\u001b[1;32m    200\u001b[0m \u001b[43m    \u001b[49m\u001b[43mthresh\u001b[49m\u001b[38;5;241;43m=\u001b[39;49m\u001b[43mthresh\u001b[49m\u001b[43m,\u001b[49m\n\u001b[1;32m    201\u001b[0m \u001b[43m    \u001b[49m\u001b[38;5;241;43m*\u001b[39;49m\u001b[38;5;241;43m*\u001b[39;49m\u001b[43mkwargs\u001b[49m\u001b[43m,\u001b[49m\n\u001b[1;32m    202\u001b[0m \u001b[43m\u001b[49m\u001b[43m)\u001b[49m\n",
      "File \u001b[0;32m~/Projects/thesis/svm/cv_svm.py:145\u001b[0m, in \u001b[0;36mSVM_smooth.fit_gd_\u001b[0;34m(self, X, y, eta, cv, approx_cv, n_iter, thresh, log_iacv, log_iter, save_grads, save_hess)\u001b[0m\n\u001b[1;32m    143\u001b[0m         X_temp \u001b[38;5;241m=\u001b[39m np\u001b[38;5;241m.\u001b[39mdelete(X, (i), axis\u001b[38;5;241m=\u001b[39m\u001b[38;5;241m0\u001b[39m)\n\u001b[1;32m    144\u001b[0m         y_temp \u001b[38;5;241m=\u001b[39m np\u001b[38;5;241m.\u001b[39mdelete(y, (i), axis\u001b[38;5;241m=\u001b[39m\u001b[38;5;241m0\u001b[39m)\n\u001b[0;32m--> 145\u001b[0m         \u001b[38;5;28mself\u001b[39m\u001b[38;5;241m.\u001b[39mloo_true_[i] \u001b[38;5;241m=\u001b[39m \u001b[38;5;28mself\u001b[39m\u001b[38;5;241m.\u001b[39mloo_true_[i] \u001b[38;5;241m-\u001b[39m eta \u001b[38;5;241m*\u001b[39m \u001b[38;5;28mself\u001b[39m\u001b[38;5;241m.\u001b[39mnabla_fgd_(\n\u001b[1;32m    146\u001b[0m             X_temp, y_temp, \u001b[38;5;28mself\u001b[39m\u001b[38;5;241m.\u001b[39mweights_, \u001b[38;5;28mself\u001b[39m\u001b[38;5;241m.\u001b[39msigma_, \u001b[38;5;28mself\u001b[39m\u001b[38;5;241m.\u001b[39mlbd_\n\u001b[1;32m    147\u001b[0m         )\n\u001b[1;32m    148\u001b[0m     end \u001b[38;5;241m=\u001b[39m time\u001b[38;5;241m.\u001b[39mtime()\n\u001b[1;32m    150\u001b[0m \u001b[38;5;28;01mif\u001b[39;00m log_iter \u001b[38;5;241m==\u001b[39m \u001b[38;5;28;01mTrue\u001b[39;00m:\n",
      "\u001b[0;31mKeyboardInterrupt\u001b[0m: "
     ]
    }
   ],
   "source": [
    "# test different lambda values\n",
    "import time\n",
    "lambdas = np.linspace(0, 1.5, 10)\n",
    "lbd_scores = []\n",
    "\n",
    "start = time.time()\n",
    "for l in lambdas:\n",
    "    clf = SVM_smooth(sigma=2e-5, lbd=l)\n",
    "    #clf.fit(X, y, thresh=5e-3, n_iter=1000, eta=0.5 * s, cv=False, approx_cv=True, log_iacv=False, log_iter=True)\n",
    "    print(f\"running experiment for lambda = {l}\")\n",
    "    clf.fit(X, y, thresh=1e-3, n_iter=3500, eta=0.5/n, approx_cv=True, cv=True, log_iacv=False, log_iter=False)\n",
    "    y_pred = clf.predict(X)\n",
    "    score = accuracy_score(y, y_pred)\n",
    "\n",
    "    coef = clf.weights_/np.linalg.norm(clf.weights_)\n",
    "\n",
    "    #print(clf.weights_)\n",
    "    print(f\"\\tlambda {l} | score {score} | grad {np.linalg.norm(clf.nabla_fgd_(X, y, clf.weights_, clf.sigma_, clf.lbd_))} | sklearn diff {np.mean(np.abs(coef- sk_coef))}\")\n",
    "    print(f\"\\tIACV: {np.mean(np.linalg.norm(clf.loo_iacv_ - clf.loo_true_, 2, axis=1))} | baseline: {np.mean(np.linalg.norm(clf.weights_ - clf.loo_true_, 2, axis=1))}\" )\n",
    "    lbd_scores.append([np.mean(np.linalg.norm(clf.loo_iacv_ - clf.loo_true_, 2, axis=1)), np.mean(np.linalg.norm(clf.weights_ - clf.loo_true_, 2, axis=1))])\n",
    "\n",
    "end = time.time()\n",
    "print(end - start)"
   ]
  },
  {
   "cell_type": "code",
   "execution_count": null,
   "id": "af3d4a6b",
   "metadata": {
    "scrolled": true
   },
   "outputs": [],
   "source": [
    "print(lbd_scores)\n",
    "lbd_scores = np.asarray(lbd_scores)"
   ]
  },
  {
   "cell_type": "code",
   "execution_count": null,
   "id": "2b2aa0e1",
   "metadata": {},
   "outputs": [],
   "source": [
    "fig, ax = plt.subplots()\n",
    "ax.plot(lambdas, lbd_scores[:, 0], label=\"IACV\", c='black')\n",
    "ax.plot(lambdas, lbd_scores[:, 1], label=\"baseline\", c='green', linestyle=\"--\")\n",
    "ax.set_yscale('log')\n",
    "ax.set_xlabel(\"$\\lambda$\")\n",
    "ax.set_ylabel(\"Err Approx (log)\")\n",
    "ax.legend()\n",
    "ws = 1.45 # 1.75\n",
    "hs = 1.35 # 1.25\n",
    "fig.set_size_inches(w=5.73/ws, h=3.5/hs)\n",
    "plt.show()\n",
    "#plt.savefig('svmtest_lambda_err_approx.pgf', bbox_inches='tight', pad_inches=0)"
   ]
  }
 ],
 "metadata": {
  "kernelspec": {
   "display_name": "Python 3 (ipykernel)",
   "language": "python",
   "name": "python3"
  },
  "language_info": {
   "codemirror_mode": {
    "name": "ipython",
    "version": 3
   },
   "file_extension": ".py",
   "mimetype": "text/x-python",
   "name": "python",
   "nbconvert_exporter": "python",
   "pygments_lexer": "ipython3",
   "version": "3.11.6"
  }
 },
 "nbformat": 4,
 "nbformat_minor": 5
}
