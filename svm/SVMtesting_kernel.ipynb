{
 "cells": [
  {
   "cell_type": "code",
   "execution_count": 1,
   "id": "c226d8c4-dd58-49dd-9361-b346df715535",
   "metadata": {},
   "outputs": [],
   "source": [
    "from sklearn.svm import SVC\n",
    "from sklearn.datasets import load_breast_cancer, make_classification\n",
    "from sklearn.preprocessing import StandardScaler, normalize\n",
    "from sklearn.metrics import accuracy_score\n",
    "from sklearn.model_selection import LeaveOneOut\n",
    "\n",
    "from sampler import sample_from_logreg\n",
    "\n",
    "from sklearn.gaussian_process.kernels import RBF\n",
    "from sklearn.metrics.pairwise import rbf_kernel, polynomial_kernel, sigmoid_kernel, laplacian_kernel\n",
    "import seaborn as sns\n",
    "\n",
    "import numpy as np\n",
    "import matplotlib.pyplot as plt\n",
    "\n",
    "from cv_svm import SVM_smooth\n",
    "from kernel_svm import SVM_smooth_kernel\n",
    "\n",
    "import matplotlib\n",
    "#matplotlib.use(\"pgf\")\n",
    "#matplotlib.rcParams.update({\n",
    "#    \"pgf.texsystem\": \"pdflatex\",\n",
    "#    'font.family': 'serif',\n",
    "#    'text.usetex': True,\n",
    "#    'pgf.rcfonts': False,\n",
    "#})"
   ]
  },
  {
   "cell_type": "code",
   "execution_count": 2,
   "id": "c4086520-17a5-4960-bc9d-403885ee5660",
   "metadata": {},
   "outputs": [],
   "source": [
    "#X, y = load_breast_cancer(return_X_y=True)\n",
    "#X, y = make_classification(n_samples=100, n_features=50, n_informative=25, class_sep=0.1)\n",
    "X, _, y = sample_from_logreg(n=100, p=10, seed=120)\n",
    "n = X.shape[0]\n",
    "p = X.shape[1]\n",
    "y[np.where(y == 0)] = -1"
   ]
  },
  {
   "cell_type": "code",
   "execution_count": 3,
   "id": "11f9681e-efa1-4a21-852e-a347a53aaee0",
   "metadata": {},
   "outputs": [
    {
     "name": "stdout",
     "output_type": "stream",
     "text": [
      "(100, 10)\n"
     ]
    }
   ],
   "source": [
    "X_scaled = StandardScaler().fit_transform(X)\n",
    "#X_scaled = X\n",
    "print(X_scaled.shape)"
   ]
  },
  {
   "cell_type": "code",
   "execution_count": 4,
   "id": "68e904eb-5471-4af8-835b-4960f1e68a30",
   "metadata": {},
   "outputs": [
    {
     "name": "stdout",
     "output_type": "stream",
     "text": [
      "(96, 1)\n",
      "(96,)\n"
     ]
    }
   ],
   "source": [
    "gamma = 1/p\n",
    "clf = SVC(kernel='rbf', gamma=gamma, C=0.20)\n",
    "clf.fit(X_scaled, y)\n",
    "true_supports = clf.support_\n",
    "svm_coef = clf.dual_coef_\n",
    "svm_coef = svm_coef.reshape(-1, 1)\n",
    "print(svm_coef.shape)\n",
    "print(true_supports.shape)"
   ]
  },
  {
   "cell_type": "code",
   "execution_count": 5,
   "id": "6165d874-8e27-4943-9dd5-283606193551",
   "metadata": {},
   "outputs": [
    {
     "data": {
      "text/plain": [
       "0.87"
      ]
     },
     "execution_count": 5,
     "metadata": {},
     "output_type": "execute_result"
    }
   ],
   "source": [
    "y_pred = clf.predict(X_scaled)\n",
    "accuracy_score(y, y_pred)"
   ]
  },
  {
   "cell_type": "code",
   "execution_count": 6,
   "id": "758369ba",
   "metadata": {},
   "outputs": [],
   "source": [
    "sigma = 1e-1\n",
    "lbd = 2\n",
    "#length_scale = 1000\n",
    "length_scale = 2.75\n",
    "degree = 6"
   ]
  },
  {
   "cell_type": "code",
   "execution_count": 7,
   "id": "3ab6168c",
   "metadata": {},
   "outputs": [
    {
     "name": "stdout",
     "output_type": "stream",
     "text": [
      "0.0\n",
      "gram norm is 74.89666571196724 | inv norm is 728.6586656478883\n",
      "54574.104499158\n",
      "Bound is 61226.722135598386\n"
     ]
    },
    {
     "data": {
      "text/plain": [
       "1.3305235272880769"
      ]
     },
     "execution_count": 7,
     "metadata": {},
     "output_type": "execute_result"
    }
   ],
   "source": [
    "# calculate maximum bound\n",
    "from sklearn.metrics import pairwise_distances\n",
    "m_max = np.min(pairwise_distances(X))**2\n",
    "print(m_max)\n",
    "m_max = 0\n",
    "#gram = RBF(length_scale)(X, X)\n",
    "#gram = polynomial_kernel(X, X, degree=degree)\n",
    "gram = sigmoid_kernel(X, X, gamma=.3)\n",
    "print(f\"gram norm is {np.linalg.norm(gram)} | inv norm is {np.linalg.norm(np.linalg.inv(gram))}\")\n",
    "gram_inv = np.linalg.inv(gram)\n",
    "\n",
    "C = np.linalg.norm(gram.T @ gram)/(n-1)\n",
    "print(np.linalg.norm(gram_inv) * np.linalg.norm(gram))\n",
    "\n",
    "# what lambda do we have to pick?\n",
    "b = np.linalg.norm(gram_inv) * np.linalg.norm(gram) + 10000\n",
    "big_term = 1/(2 * np.sqrt(1 + (m_max/sigma)**2)**3)\n",
    "\n",
    "bound = np.linalg.norm(gram_inv) * (lbd * np.linalg.norm(gram) + C * big_term)/lbd\n",
    "print(f\"Bound is {bound}\")\n",
    "\n",
    "lbd_pick = (np.linalg.norm(gram_inv) * C * big_term)/(b - np.linalg.norm(gram_inv) * np.linalg.norm(gram))\n",
    "\n",
    "lbd_pick"
   ]
  },
  {
   "cell_type": "code",
   "execution_count": 9,
   "id": "7092ba65-7d9e-46ec-9db3-9fbc31724047",
   "metadata": {},
   "outputs": [
    {
     "name": "stdout",
     "output_type": "stream",
     "text": [
      "| IACV: 0.00009539 | baseline: 0.00011320\n",
      "| IACV: 0.00018780 | baseline: 0.00022283\n",
      "| IACV: 0.00027733 | baseline: 0.00032903\n",
      "| IACV: 0.00036410 | baseline: 0.00043193\n",
      "| IACV: 0.00044822 | baseline: 0.00053166\n",
      "| IACV: 0.00052981 | baseline: 0.00062834\n",
      "| IACV: 0.00060895 | baseline: 0.00072208\n",
      "| IACV: 0.00068575 | baseline: 0.00081300\n",
      "| IACV: 0.00076031 | baseline: 0.00090122\n",
      "| IACV: 0.00083272 | baseline: 0.00098683\n",
      "| IACV: 0.00090307 | baseline: 0.00106994\n",
      "| IACV: 0.00097145 | baseline: 0.00115065\n",
      "| IACV: 0.00103793 | baseline: 0.00122905\n",
      "| IACV: 0.00110261 | baseline: 0.00130524\n",
      "| IACV: 0.00116556 | baseline: 0.00137930\n",
      "| IACV: 0.00122686 | baseline: 0.00145132\n",
      "| IACV: 0.00128658 | baseline: 0.00152138\n",
      "| IACV: 0.00134480 | baseline: 0.00158956\n",
      "| IACV: 0.00140159 | baseline: 0.00165593\n",
      "| IACV: 0.00145701 | baseline: 0.00172058\n",
      "| IACV: 0.00151114 | baseline: 0.00178357\n",
      "| IACV: 0.00156403 | baseline: 0.00184496\n",
      "| IACV: 0.00161576 | baseline: 0.00190484\n",
      "| IACV: 0.00166637 | baseline: 0.00196325\n",
      "| IACV: 0.00171592 | baseline: 0.00202026\n",
      "| IACV: 0.00176446 | baseline: 0.00207594\n",
      "| IACV: 0.00181205 | baseline: 0.00213033\n",
      "| IACV: 0.00185872 | baseline: 0.00218349\n",
      "| IACV: 0.00190452 | baseline: 0.00223548\n",
      "| IACV: 0.00194950 | baseline: 0.00228635\n",
      "| IACV: 0.00199369 | baseline: 0.00233614\n",
      "| IACV: 0.00203713 | baseline: 0.00238490\n",
      "| IACV: 0.00207987 | baseline: 0.00243268\n",
      "| IACV: 0.00212194 | baseline: 0.00247952\n",
      "| IACV: 0.00216338 | baseline: 0.00252547\n",
      "| IACV: 0.00220422 | baseline: 0.00257056\n",
      "| IACV: 0.00224450 | baseline: 0.00261484\n",
      "| IACV: 0.00228425 | baseline: 0.00265834\n",
      "| IACV: 0.00232350 | baseline: 0.00270110\n",
      "| IACV: 0.00236228 | baseline: 0.00274316\n",
      "| IACV: 0.00240060 | baseline: 0.00278454\n",
      "| IACV: 0.00243851 | baseline: 0.00282529\n",
      "| IACV: 0.00247602 | baseline: 0.00286543\n",
      "| IACV: 0.00251315 | baseline: 0.00290499\n",
      "| IACV: 0.00254993 | baseline: 0.00294401\n",
      "| IACV: 0.00258639 | baseline: 0.00298252\n",
      "| IACV: 0.00262254 | baseline: 0.00302053\n",
      "| IACV: 0.00265840 | baseline: 0.00305808\n",
      "| IACV: 0.00269401 | baseline: 0.00309520\n",
      "| IACV: 0.00272937 | baseline: 0.00313190\n",
      "| IACV: 0.00276451 | baseline: 0.00316822\n",
      "| IACV: 0.00279945 | baseline: 0.00320417\n",
      "| IACV: 0.00283420 | baseline: 0.00323979\n",
      "| IACV: 0.00286880 | baseline: 0.00327509\n",
      "| IACV: 0.00290325 | baseline: 0.00331009\n",
      "| IACV: 0.00293758 | baseline: 0.00334482\n",
      "| IACV: 0.00297179 | baseline: 0.00337930\n",
      "| IACV: 0.00300590 | baseline: 0.00341354\n",
      "| IACV: 0.00303994 | baseline: 0.00344757\n",
      "| IACV: 0.00307390 | baseline: 0.00348140\n",
      "| IACV: 0.00310782 | baseline: 0.00351505\n",
      "| IACV: 0.00314169 | baseline: 0.00354855\n",
      "| IACV: 0.00317553 | baseline: 0.00358190\n",
      "| IACV: 0.00320936 | baseline: 0.00361513\n",
      "| IACV: 0.00324318 | baseline: 0.00364826\n",
      "| IACV: 0.00327701 | baseline: 0.00368129\n",
      "| IACV: 0.00331086 | baseline: 0.00371424\n",
      "| IACV: 0.00334474 | baseline: 0.00374714\n",
      "| IACV: 0.00337866 | baseline: 0.00377999\n",
      "| IACV: 0.00341264 | baseline: 0.00381281\n",
      "| IACV: 0.00344667 | baseline: 0.00384561\n",
      "| IACV: 0.00348078 | baseline: 0.00387841\n",
      "| IACV: 0.00351497 | baseline: 0.00391123\n",
      "| IACV: 0.00354926 | baseline: 0.00394407\n",
      "| IACV: 0.00358365 | baseline: 0.00397696\n",
      "| IACV: 0.00361815 | baseline: 0.00400989\n",
      "| IACV: 0.00365277 | baseline: 0.00404289\n",
      "| IACV: 0.00368753 | baseline: 0.00407597\n",
      "| IACV: 0.00372243 | baseline: 0.00410914\n",
      "| IACV: 0.00375747 | baseline: 0.00414242\n",
      "| IACV: 0.00379268 | baseline: 0.00417580\n",
      "| IACV: 0.00382806 | baseline: 0.00420932\n",
      "| IACV: 0.00386361 | baseline: 0.00424297\n",
      "| IACV: 0.00389935 | baseline: 0.00427678\n",
      "| IACV: 0.00393529 | baseline: 0.00431074\n",
      "| IACV: 0.00397142 | baseline: 0.00434488\n",
      "| IACV: 0.00400778 | baseline: 0.00437920\n",
      "| IACV: 0.00404435 | baseline: 0.00441372\n",
      "| IACV: 0.00408116 | baseline: 0.00444844\n",
      "| IACV: 0.00411820 | baseline: 0.00448337\n",
      "| IACV: 0.00415550 | baseline: 0.00451854\n",
      "| IACV: 0.00419305 | baseline: 0.00455394\n",
      "| IACV: 0.00423087 | baseline: 0.00458958\n",
      "| IACV: 0.00426896 | baseline: 0.00462549\n",
      "| IACV: 0.00430734 | baseline: 0.00466166\n",
      "| IACV: 0.00434601 | baseline: 0.00469811\n",
      "| IACV: 0.00438498 | baseline: 0.00473484\n",
      "| IACV: 0.00442426 | baseline: 0.00477188\n",
      "| IACV: 0.00446386 | baseline: 0.00480922\n",
      "| IACV: 0.00450380 | baseline: 0.00484688\n",
      "| IACV: 0.00454407 | baseline: 0.00488487\n",
      "| IACV: 0.00458469 | baseline: 0.00492320\n",
      "| IACV: 0.00462567 | baseline: 0.00496188\n",
      "| IACV: 0.00466701 | baseline: 0.00500092\n",
      "| IACV: 0.00470873 | baseline: 0.00504032\n",
      "| IACV: 0.00475084 | baseline: 0.00508011\n",
      "| IACV: 0.00479334 | baseline: 0.00512028\n",
      "| IACV: 0.00483625 | baseline: 0.00516086\n",
      "| IACV: 0.00487957 | baseline: 0.00520184\n",
      "| IACV: 0.00492332 | baseline: 0.00524324\n",
      "| IACV: 0.00496750 | baseline: 0.00528508\n",
      "| IACV: 0.00501212 | baseline: 0.00532735\n",
      "| IACV: 0.00505720 | baseline: 0.00537008\n",
      "| IACV: 0.00510273 | baseline: 0.00541327\n",
      "| IACV: 0.00514874 | baseline: 0.00545694\n",
      "| IACV: 0.00519523 | baseline: 0.00550109\n",
      "| IACV: 0.00524220 | baseline: 0.00554573\n",
      "| IACV: 0.00528967 | baseline: 0.00559088\n",
      "| IACV: 0.00533764 | baseline: 0.00563655\n",
      "| IACV: 0.00538613 | baseline: 0.00568275\n",
      "| IACV: 0.00543514 | baseline: 0.00572948\n",
      "| IACV: 0.00548467 | baseline: 0.00577677\n",
      "| IACV: 0.00553474 | baseline: 0.00582461\n",
      "| IACV: 0.00558535 | baseline: 0.00587303\n",
      "| IACV: 0.00563652 | baseline: 0.00592203\n",
      "| IACV: 0.00568824 | baseline: 0.00597163\n",
      "| IACV: 0.00574053 | baseline: 0.00602183\n",
      "| IACV: 0.00579339 | baseline: 0.00607264\n",
      "| IACV: 0.00584683 | baseline: 0.00612409\n",
      "| IACV: 0.00590086 | baseline: 0.00617616\n",
      "| IACV: 0.00595549 | baseline: 0.00622889\n",
      "| IACV: 0.00601072 | baseline: 0.00628227\n",
      "| IACV: 0.00606656 | baseline: 0.00633632\n",
      "| IACV: 0.00612302 | baseline: 0.00639105\n",
      "| IACV: 0.00618010 | baseline: 0.00644646\n",
      "| IACV: 0.00623783 | baseline: 0.00650256\n",
      "| IACV: 0.00629619 | baseline: 0.00655938\n",
      "| IACV: 0.00635521 | baseline: 0.00661690\n",
      "| IACV: 0.00641488 | baseline: 0.00667515\n",
      "| IACV: 0.00647522 | baseline: 0.00673412\n",
      "| IACV: 0.00653624 | baseline: 0.00679384\n",
      "| IACV: 0.00659794 | baseline: 0.00685431\n",
      "| IACV: 0.00666034 | baseline: 0.00691553\n",
      "| IACV: 0.00672343 | baseline: 0.00697752\n",
      "| IACV: 0.00678724 | baseline: 0.00704028\n",
      "| IACV: 0.00685176 | baseline: 0.00710383\n",
      "| IACV: 0.00691702 | baseline: 0.00716816\n",
      "| IACV: 0.00698301 | baseline: 0.00723330\n",
      "| IACV: 0.00704974 | baseline: 0.00729924\n",
      "| IACV: 0.00711723 | baseline: 0.00736600\n",
      "| IACV: 0.00718549 | baseline: 0.00743359\n",
      "| IACV: 0.00725451 | baseline: 0.00750201\n",
      "| IACV: 0.00732432 | baseline: 0.00757127\n",
      "| IACV: 0.00739493 | baseline: 0.00764138\n",
      "| IACV: 0.00746633 | baseline: 0.00771236\n",
      "| IACV: 0.00753855 | baseline: 0.00778420\n",
      "| IACV: 0.00761160 | baseline: 0.00785692\n",
      "| IACV: 0.00768547 | baseline: 0.00793053\n",
      "| IACV: 0.00776019 | baseline: 0.00800504\n",
      "| IACV: 0.00783576 | baseline: 0.00808045\n",
      "| IACV: 0.00791219 | baseline: 0.00815678\n",
      "| IACV: 0.00798950 | baseline: 0.00823404\n",
      "| IACV: 0.00806769 | baseline: 0.00831223\n",
      "| IACV: 0.00814677 | baseline: 0.00839136\n",
      "| IACV: 0.00822676 | baseline: 0.00847145\n",
      "| IACV: 0.00830767 | baseline: 0.00855250\n",
      "| IACV: 0.00838951 | baseline: 0.00863453\n",
      "| IACV: 0.00847228 | baseline: 0.00871754\n",
      "| IACV: 0.00855601 | baseline: 0.00880154\n",
      "| IACV: 0.00864069 | baseline: 0.00888656\n",
      "| IACV: 0.00872635 | baseline: 0.00897258\n",
      "| IACV: 0.00881300 | baseline: 0.00905963\n",
      "| IACV: 0.00890064 | baseline: 0.00914772\n",
      "| IACV: 0.00898929 | baseline: 0.00923686\n",
      "| IACV: 0.00907896 | baseline: 0.00932705\n",
      "| IACV: 0.00916967 | baseline: 0.00941831\n",
      "| IACV: 0.00926142 | baseline: 0.00951066\n",
      "| IACV: 0.00935422 | baseline: 0.00960409\n",
      "| IACV: 0.00944810 | baseline: 0.00969863\n",
      "| IACV: 0.00954306 | baseline: 0.00979428\n",
      "| IACV: 0.00963912 | baseline: 0.00989106\n",
      "| IACV: 0.00973629 | baseline: 0.00998897\n",
      "| IACV: 0.00983457 | baseline: 0.01008803\n",
      "| IACV: 0.00993400 | baseline: 0.01018826\n",
      "| IACV: 0.01003457 | baseline: 0.01028966\n",
      "| IACV: 0.01013631 | baseline: 0.01039224\n",
      "| IACV: 0.01023922 | baseline: 0.01049602\n",
      "| IACV: 0.01034333 | baseline: 0.01060102\n",
      "| IACV: 0.01044864 | baseline: 0.01070723\n",
      "| IACV: 0.01055516 | baseline: 0.01081469\n",
      "| IACV: 0.01066293 | baseline: 0.01092339\n",
      "| IACV: 0.01077193 | baseline: 0.01103335\n",
      "| IACV: 0.01088221 | baseline: 0.01114459\n",
      "| IACV: 0.01099376 | baseline: 0.01125712\n",
      "| IACV: 0.01110660 | baseline: 0.01137095\n",
      "| IACV: 0.01122075 | baseline: 0.01148610\n",
      "| IACV: 0.01133623 | baseline: 0.01160258\n",
      "| IACV: 0.01145304 | baseline: 0.01172040\n",
      "| IACV: 0.01157121 | baseline: 0.01183958\n",
      "| IACV: 0.01169075 | baseline: 0.01196013\n",
      "| IACV: 0.01181168 | baseline: 0.01208208\n",
      "| IACV: 0.01193401 | baseline: 0.01220542\n",
      "| IACV: 0.01205777 | baseline: 0.01233019\n",
      "| IACV: 0.01218296 | baseline: 0.01245639\n",
      "| IACV: 0.01230960 | baseline: 0.01258403\n",
      "| IACV: 0.01243772 | baseline: 0.01271314\n",
      "| IACV: 0.01256732 | baseline: 0.01284373\n",
      "| IACV: 0.01269843 | baseline: 0.01297582\n",
      "| IACV: 0.01283106 | baseline: 0.01310942\n",
      "| IACV: 0.01296523 | baseline: 0.01324455\n",
      "| IACV: 0.01310096 | baseline: 0.01338123\n",
      "| IACV: 0.01323827 | baseline: 0.01351947\n",
      "| IACV: 0.01337717 | baseline: 0.01365929\n",
      "| IACV: 0.01351769 | baseline: 0.01380070\n",
      "| IACV: 0.01365984 | baseline: 0.01394374\n",
      "| IACV: 0.01380364 | baseline: 0.01408841\n",
      "| IACV: 0.01394912 | baseline: 0.01423472\n",
      "| IACV: 0.01409628 | baseline: 0.01438271\n",
      "| IACV: 0.01424516 | baseline: 0.01453239\n",
      "| IACV: 0.01439576 | baseline: 0.01468378\n",
      "| IACV: 0.01454811 | baseline: 0.01483690\n",
      "| IACV: 0.01470223 | baseline: 0.01499176\n",
      "| IACV: 0.01485814 | baseline: 0.01514839\n",
      "| IACV: 0.01501587 | baseline: 0.01530681\n",
      "| IACV: 0.01517542 | baseline: 0.01546704\n",
      "| IACV: 0.01533683 | baseline: 0.01562909\n",
      "| IACV: 0.01550011 | baseline: 0.01579300\n",
      "| IACV: 0.01566528 | baseline: 0.01595877\n",
      "| IACV: 0.01583238 | baseline: 0.01612644\n",
      "| IACV: 0.01600141 | baseline: 0.01629603\n",
      "| IACV: 0.01617240 | baseline: 0.01646755\n",
      "| IACV: 0.01634538 | baseline: 0.01664103\n",
      "| IACV: 0.01652036 | baseline: 0.01681649\n",
      "| IACV: 0.01669737 | baseline: 0.01699396\n",
      "| IACV: 0.01687644 | baseline: 0.01717345\n",
      "| IACV: 0.01705758 | baseline: 0.01735500\n",
      "| IACV: 0.01724082 | baseline: 0.01753862\n",
      "| IACV: 0.01742619 | baseline: 0.01772434\n",
      "| IACV: 0.01761370 | baseline: 0.01791218\n",
      "| IACV: 0.01780339 | baseline: 0.01810216\n",
      "| IACV: 0.01799527 | baseline: 0.01829432\n",
      "| IACV: 0.01818938 | baseline: 0.01848868\n",
      "| IACV: 0.01838574 | baseline: 0.01868525\n",
      "| IACV: 0.01858437 | baseline: 0.01888407\n",
      "| IACV: 0.01878530 | baseline: 0.01908516\n",
      "| IACV: 0.01898856 | baseline: 0.01928855\n",
      "| IACV: 0.01919416 | baseline: 0.01949426\n",
      "| IACV: 0.01940216 | baseline: 0.01970232\n",
      "| IACV: 0.01961255 | baseline: 0.01991275\n",
      "| IACV: 0.01982539 | baseline: 0.02012558\n",
      "| IACV: 0.02004068 | baseline: 0.02034084\n"
     ]
    },
    {
     "ename": "KeyboardInterrupt",
     "evalue": "",
     "output_type": "error",
     "traceback": [
      "\u001b[0;31m---------------------------------------------------------------------------\u001b[0m",
      "\u001b[0;31mKeyboardInterrupt\u001b[0m                         Traceback (most recent call last)",
      "Cell \u001b[0;32mIn[9], line 3\u001b[0m\n\u001b[1;32m      1\u001b[0m l \u001b[38;5;241m=\u001b[39m np\u001b[38;5;241m.\u001b[39msqrt(\u001b[38;5;241m1\u001b[39m\u001b[38;5;241m/\u001b[39m(\u001b[38;5;241m2\u001b[39m\u001b[38;5;241m*\u001b[39mgamma))\n\u001b[1;32m      2\u001b[0m clf \u001b[38;5;241m=\u001b[39m SVM_smooth_kernel(sigma\u001b[38;5;241m=\u001b[39msigma, lbd\u001b[38;5;241m=\u001b[39mlbd, kernel\u001b[38;5;241m=\u001b[39msigmoid_kernel, gamma\u001b[38;5;241m=\u001b[39m\u001b[38;5;241m8\u001b[39m)\n\u001b[0;32m----> 3\u001b[0m \u001b[43mclf\u001b[49m\u001b[38;5;241;43m.\u001b[39;49m\u001b[43mfit\u001b[49m\u001b[43m(\u001b[49m\u001b[43mX_scaled\u001b[49m\u001b[43m,\u001b[49m\u001b[43m \u001b[49m\u001b[43my\u001b[49m\u001b[43m,\u001b[49m\u001b[43m \u001b[49m\u001b[43mn_iter\u001b[49m\u001b[38;5;241;43m=\u001b[39;49m\u001b[38;5;241;43m1500\u001b[39;49m\u001b[43m,\u001b[49m\u001b[43m \u001b[49m\u001b[43meta\u001b[49m\u001b[38;5;241;43m=\u001b[39;49m\u001b[38;5;241;43m0.05\u001b[39;49m\u001b[38;5;241;43m/\u001b[39;49m\u001b[43mn\u001b[49m\u001b[43m,\u001b[49m\u001b[43m \u001b[49m\u001b[43mapprox_cv\u001b[49m\u001b[38;5;241;43m=\u001b[39;49m\u001b[38;5;28;43;01mTrue\u001b[39;49;00m\u001b[43m,\u001b[49m\n\u001b[1;32m      4\u001b[0m \u001b[43m        \u001b[49m\u001b[43mcv\u001b[49m\u001b[38;5;241;43m=\u001b[39;49m\u001b[38;5;28;43;01mTrue\u001b[39;49;00m\u001b[43m,\u001b[49m\u001b[43m \u001b[49m\u001b[43mlog_iacv\u001b[49m\u001b[38;5;241;43m=\u001b[39;49m\u001b[38;5;28;43;01mTrue\u001b[39;49;00m\u001b[43m,\u001b[49m\u001b[43m \u001b[49m\u001b[43msave_err_approx\u001b[49m\u001b[38;5;241;43m=\u001b[39;49m\u001b[38;5;28;43;01mTrue\u001b[39;49;00m\u001b[43m,\u001b[49m\u001b[43m \u001b[49m\u001b[43msave_err_cv\u001b[49m\u001b[38;5;241;43m=\u001b[39;49m\u001b[38;5;28;43;01mTrue\u001b[39;49;00m\u001b[43m,\u001b[49m\u001b[43m \u001b[49m\u001b[43msave_cond_num\u001b[49m\u001b[38;5;241;43m=\u001b[39;49m\u001b[38;5;28;43;01mTrue\u001b[39;49;00m\u001b[43m)\u001b[49m\n\u001b[1;32m      6\u001b[0m y_pred \u001b[38;5;241m=\u001b[39m clf\u001b[38;5;241m.\u001b[39mpredict(X_scaled)\n\u001b[1;32m      7\u001b[0m accuracy_score(y, y_pred)\n",
      "File \u001b[0;32m~/Projects/thesis/svm/kernel_svm.py:326\u001b[0m, in \u001b[0;36mSVM_smooth_kernel.fit\u001b[0;34m(self, X, y, eta, n_iter, thresh, init_u, **kwargs)\u001b[0m\n\u001b[1;32m    323\u001b[0m     \u001b[38;5;28mself\u001b[39m\u001b[38;5;241m.\u001b[39mu_ \u001b[38;5;241m=\u001b[39m init_u\n\u001b[1;32m    325\u001b[0m \u001b[38;5;28mself\u001b[39m\u001b[38;5;241m.\u001b[39mfactor \u001b[38;5;241m=\u001b[39m \u001b[38;5;241m1\u001b[39m \u001b[38;5;241m/\u001b[39m (\u001b[38;5;28mself\u001b[39m\u001b[38;5;241m.\u001b[39mn \u001b[38;5;241m-\u001b[39m \u001b[38;5;241m1\u001b[39m)\n\u001b[0;32m--> 326\u001b[0m \u001b[38;5;28;43mself\u001b[39;49m\u001b[38;5;241;43m.\u001b[39;49m\u001b[43mrun_fit_\u001b[49m\u001b[43m(\u001b[49m\n\u001b[1;32m    327\u001b[0m \u001b[43m    \u001b[49m\u001b[43mX\u001b[49m\u001b[43m,\u001b[49m\n\u001b[1;32m    328\u001b[0m \u001b[43m    \u001b[49m\u001b[43my\u001b[49m\u001b[43m,\u001b[49m\n\u001b[1;32m    329\u001b[0m \u001b[43m    \u001b[49m\u001b[43meta\u001b[49m\u001b[38;5;241;43m=\u001b[39;49m\u001b[43meta\u001b[49m\u001b[43m,\u001b[49m\n\u001b[1;32m    330\u001b[0m \u001b[43m    \u001b[49m\u001b[43mn_iter\u001b[49m\u001b[38;5;241;43m=\u001b[39;49m\u001b[43mn_iter\u001b[49m\u001b[43m,\u001b[49m\n\u001b[1;32m    331\u001b[0m \u001b[43m    \u001b[49m\u001b[38;5;241;43m*\u001b[39;49m\u001b[38;5;241;43m*\u001b[39;49m\u001b[43mkwargs\u001b[49m\u001b[43m,\u001b[49m\n\u001b[1;32m    332\u001b[0m \u001b[43m\u001b[49m\u001b[43m)\u001b[49m\n",
      "File \u001b[0;32m~/Projects/thesis/svm/kernel_svm.py:257\u001b[0m, in \u001b[0;36mSVM_smooth_kernel.run_fit_\u001b[0;34m(self, X, y, eta, n_iter, warm_start, cv, approx_cv, log_iacv, log_accuracy, log_iter, save_err_approx, save_cond_num, save_err_cv, sgd, batch_size)\u001b[0m\n\u001b[1;32m    255\u001b[0m         \u001b[38;5;28mself\u001b[39m\u001b[38;5;241m.\u001b[39mtrue_cv_obj\u001b[38;5;241m.\u001b[39mstep_gd_kernel(sparse_gram, sparse_y)\n\u001b[1;32m    256\u001b[0m     \u001b[38;5;28;01melse\u001b[39;00m:\n\u001b[0;32m--> 257\u001b[0m         \u001b[38;5;28;43mself\u001b[39;49m\u001b[38;5;241;43m.\u001b[39;49m\u001b[43mtrue_cv_obj\u001b[49m\u001b[38;5;241;43m.\u001b[39;49m\u001b[43mstep_gd_kernel\u001b[49m\u001b[43m(\u001b[49m\u001b[38;5;28;43mself\u001b[39;49m\u001b[38;5;241;43m.\u001b[39;49m\u001b[43mgram_\u001b[49m\u001b[43m,\u001b[49m\u001b[43m \u001b[49m\u001b[43my\u001b[49m\u001b[43m)\u001b[49m\n\u001b[1;32m    259\u001b[0m \u001b[38;5;28;01mif\u001b[39;00m sgd:\n\u001b[1;32m    260\u001b[0m     f_grad \u001b[38;5;241m=\u001b[39m \u001b[38;5;28mself\u001b[39m\u001b[38;5;241m.\u001b[39mnabla_fgd_(\n\u001b[1;32m    261\u001b[0m         \u001b[38;5;28mself\u001b[39m\u001b[38;5;241m.\u001b[39mu_, \u001b[38;5;28mself\u001b[39m\u001b[38;5;241m.\u001b[39mgram_, y[idxs], \u001b[38;5;28mself\u001b[39m\u001b[38;5;241m.\u001b[39msigma_, \u001b[38;5;28mself\u001b[39m\u001b[38;5;241m.\u001b[39mlbd_\n\u001b[1;32m    262\u001b[0m     )\n",
      "File \u001b[0;32m~/Projects/thesis/svm/true_cv.py:52\u001b[0m, in \u001b[0;36mTrueCV.step_gd_kernel\u001b[0;34m(self, gram, y)\u001b[0m\n\u001b[1;32m     50\u001b[0m gram[i, :] \u001b[38;5;241m=\u001b[39m gram_temp\n\u001b[1;32m     51\u001b[0m gram[:, i] \u001b[38;5;241m=\u001b[39m gram_temp\u001b[38;5;241m.\u001b[39mT\n\u001b[0;32m---> 52\u001b[0m y[i] \u001b[38;5;241m=\u001b[39m y_temp\n",
      "\u001b[0;31mKeyboardInterrupt\u001b[0m: "
     ]
    }
   ],
   "source": [
    "l = np.sqrt(1/(2*gamma))\n",
    "clf = SVM_smooth_kernel(sigma=sigma, lbd=lbd, kernel=sigmoid_kernel, gamma=8)\n",
    "clf.fit(X_scaled, y, n_iter=1500, eta=0.05/n, approx_cv=True,\n",
    "        cv=True, log_iacv=True, save_err_approx=True, save_err_cv=True, save_cond_num=True)\n",
    "\n",
    "y_pred = clf.predict(X_scaled)\n",
    "accuracy_score(y, y_pred)"
   ]
  },
  {
   "cell_type": "code",
   "execution_count": null,
   "id": "8c5978e9",
   "metadata": {},
   "outputs": [],
   "source": [
    "coef = clf.u_/np.linalg.norm(clf.u_)\n",
    "iacv_coef = normalize(clf.approx_cv_obj.iterates, axis=1)\n",
    "true_coef = normalize(clf.true_cv_obj.iterates, axis=1)\n",
    "print(np.mean(np.linalg.norm(iacv_coef - true_coef, 2, axis=1)))\n",
    "print(np.mean(np.linalg.norm(coef - true_coef, 2, axis=1)))"
   ]
  },
  {
   "cell_type": "raw",
   "id": "b5fd013e",
   "metadata": {},
   "source": [
    "print(iacv_coef)\n",
    "print(true_coef)\n",
    "print(clf.weights_)"
   ]
  },
  {
   "cell_type": "code",
   "execution_count": null,
   "id": "fce1cc19",
   "metadata": {},
   "outputs": [],
   "source": [
    "print(np.std(clf.approx_cv_obj.iterates))\n",
    "print(np.std(clf.true_cv_obj.iterates))"
   ]
  },
  {
   "cell_type": "code",
   "execution_count": null,
   "id": "c4248bf7",
   "metadata": {},
   "outputs": [],
   "source": [
    "print(np.mean(clf.approx_cv_obj.iterates, axis=0))\n",
    "print(np.mean(clf.true_cv_obj.iterates, axis=0))"
   ]
  },
  {
   "cell_type": "code",
   "execution_count": null,
   "id": "6e967fc8-10df-43d6-a5d3-8797efbd8f3f",
   "metadata": {
    "scrolled": true
   },
   "outputs": [],
   "source": [
    "plt.hist(np.mean(clf.approx_cv_obj.iterates, axis=0), alpha=0.5, bins=40, label=\"IACV\")\n",
    "plt.hist(np.mean(clf.true_cv_obj.iterates, axis=0), alpha=0.5, bins=40, label=\"true\")\n",
    "plt.legend()"
   ]
  },
  {
   "cell_type": "code",
   "execution_count": null,
   "id": "acb89b80-67e8-46af-bb63-50492f1fd7a5",
   "metadata": {
    "scrolled": true
   },
   "outputs": [],
   "source": [
    "plt.stem(svm_coef/np.linalg.norm(svm_coef))\n",
    "plt.show()\n",
    "plt.stem(coef[true_supports]/np.linalg.norm(coef[true_supports]))\n",
    "plt.show()"
   ]
  },
  {
   "cell_type": "code",
   "execution_count": null,
   "id": "08a3d401-55b0-410a-ac0e-bd80bab192b7",
   "metadata": {
    "scrolled": true
   },
   "outputs": [],
   "source": [
    "print(svm_coef.shape)\n",
    "print(coef[true_supports].shape)\n",
    "print((svm_coef.ravel() - coef[true_supports]).shape)\n",
    "plt.stem(svm_coef.ravel()/np.linalg.norm(svm_coef) - coef[true_supports]/np.linalg.norm(coef[true_supports]))\n",
    "print(np.abs(svm_coef.ravel()/np.linalg.norm(svm_coef) - coef[true_supports]/np.linalg.norm(coef[true_supports])).mean())\n",
    "print(np.median(np.abs(svm_coef.ravel()/np.linalg.norm(svm_coef) - coef[true_supports]/np.linalg.norm(coef[true_supports]))))\n",
    "plt.show()"
   ]
  },
  {
   "cell_type": "code",
   "execution_count": null,
   "id": "5587965f",
   "metadata": {
    "scrolled": true
   },
   "outputs": [],
   "source": [
    "plt.hist(np.linalg.norm(clf.approx_cv_obj.iterates - clf.true_cv_obj.iterates, axis=1), bins=60, label=\"diffs\")\n",
    "plt.legend()"
   ]
  },
  {
   "cell_type": "code",
   "execution_count": null,
   "id": "5dbb799e",
   "metadata": {},
   "outputs": [],
   "source": [
    "fig, ax = plt.subplots()\n",
    "ax.plot(clf.err_approx_[\"IACV\"], label=\"IACV\", c='black')\n",
    "#ax.plot(clf.err_approx_[\"NS\"], label=\"NS\", c='red', linestyle=\"--\")\n",
    "ax.plot(clf.err_approx_[\"baseline\"], label=\"Baseline\", c='green', linestyle=\"--\")\n",
    "ax.set_yscale('log')\n",
    "ax.set_xscale('log')\n",
    "ax.set_xlabel(\"Iterations (log)\")\n",
    "ax.set_ylabel(\"Err Approx (log)\")\n",
    "ax.legend()\n",
    "ws = 1.45 # 1.75\n",
    "hs = 1.35 # 1.25\n",
    "fig.set_size_inches(w=5.73/ws, h=3.5/hs)\n",
    "plt.show()\n",
    "#plt.savefig('kernel_svm_convergence_err_approx_cont.pgf', bbox_inches='tight', pad_inches=0)"
   ]
  },
  {
   "cell_type": "code",
   "execution_count": null,
   "id": "1e39a2f1",
   "metadata": {},
   "outputs": [],
   "source": [
    "fig, ax = plt.subplots()\n",
    "ax.plot(clf.err_cv_[\"IACV\"], label=\"IACV\", c='black')\n",
    "ax.plot(clf.err_cv_[\"baseline\"], label=\"Baseline\", c='green', linestyle=\"--\")\n",
    "ax.set_yscale('log')\n",
    "ax.set_xscale('log')\n",
    "ax.set_xlabel(\"Iterations (log)\")\n",
    "ax.set_ylabel(\"Err CV (log)\")\n",
    "ax.legend()\n",
    "ws = 1.45 # 1.75\n",
    "hs = 1.35 # 1.25\n",
    "fig.set_size_inches(w=5.73/ws, h=3.5/hs)\n",
    "plt.show()\n",
    "#plt.savefig('kernel_svm_convergence_err_cv_cont.pgf', bbox_inches='tight', pad_inches=0)"
   ]
  },
  {
   "cell_type": "code",
   "execution_count": null,
   "id": "2a1d3c6f",
   "metadata": {},
   "outputs": [],
   "source": [
    "fig, ax = plt.subplots()\n",
    "cond_nums = np.asarray(clf.approx_cv_obj.cond_nums)\n",
    "ax.plot(np.mean(cond_nums, axis=1), label=\"Mean Cond no.\", c='black')\n",
    "ax.set_xlabel(\"Iterations\")\n",
    "ax.set_ylabel(\"Condition No\")\n",
    "ax.legend()\n",
    "ws = 1.45 # 1.75\n",
    "hs = 1.35 # 1.25\n",
    "fig.set_size_inches(w=5.73/ws, h=3.5/hs)\n",
    "plt.show()\n",
    "plt.savefig('kernel_svm_convergence_cond_no_fail.pgf', bbox_inches='tight', pad_inches=0)"
   ]
  },
  {
   "cell_type": "raw",
   "id": "f2096161-071e-4dfc-9b75-95dd55049d45",
   "metadata": {},
   "source": [
    "# test different sigma values\n",
    "import time\n",
    "#sigmas = [2e-30, 2e-25, 2e-15, 2e-10, 2e-5, 2e-1]\n",
    "#sigmas = [2e-15, 2e-10, 2e-5, 2e-3, 2e-1, 5e-1, 7e-1, 8e-1, 1, 1.25, 1.5, 2]\n",
    "sigmas = [2e-15, 2e-12, 2e-10, 2e-8, 2e-5, 2e-3, 2e-1, 5e-1, 8e-1, 1]\n",
    "last_err_approx = np.empty((len(sigmas), 2))\n",
    "last_err_cv = np.empty((len(sigmas), 2))\n",
    "cond_nums = np.empty(len(sigmas))\n",
    "\n",
    "start = time.time()\n",
    "for i, s in enumerate(sigmas):\n",
    "    if s == 0:\n",
    "        continue\n",
    "    #clf = SVM_smooth(sigma=s, lbd=1)\n",
    "    clf = SVM_smooth_kernel(sigma=s, lbd=1, kernel=RBF(2.75))\n",
    "    print(f\"running experiment for sigma = {s}\")\n",
    "    clf.fit(X_scaled, y, n_iter=200, eta=0.5/n, approx_cv=True, cv=True, log_iacv=False, log_iter=False,\n",
    "           save_err_cv=True, save_err_approx=True, save_cond_num=True)\n",
    "    y_pred = clf.predict(X_scaled)\n",
    "    score = accuracy_score(y, y_pred)\n",
    "    print(f\"\\tsigma {s} | score {score}\")\n",
    "    #print(clf.weights_)\n",
    "    print(f\"\\tErr_Approx IACV: {clf.err_approx_['IACV'][-1]} | baseline: {clf.err_approx_['baseline'][-1]}\" )\n",
    "    print(f\"\\tErr_CV     IACV: {clf.err_cv_['IACV'][-1]} | baseline: {clf.err_cv_['baseline'][-1]}\" )\n",
    "    last_err_approx[i] = [clf.err_approx_[\"IACV\"][-1], clf.err_approx_[\"baseline\"][-1]]\n",
    "    last_err_cv[i] = [clf.err_cv_[\"IACV\"][-1], clf.err_cv_[\"baseline\"][-1]]\n",
    "    cond_nums[i] = np.mean(clf.approx_cv_obj.cond_nums)\n",
    "\n",
    "end = time.time()\n",
    "print(end - start)"
   ]
  },
  {
   "cell_type": "raw",
   "id": "7c6ea35b-5c93-4ba1-9c07-676d3ab7f0d9",
   "metadata": {},
   "source": [
    "last_err_cv = np.asarray(last_err_cv)\n",
    "last_err_approx = np.asarray(last_err_approx)\n",
    "\n",
    "last_err_cv = np.nan_to_num(last_err_cv, nan=1e2)\n",
    "last_err_approx = np.nan_to_num(last_err_approx, nan=1e2)\n",
    "\n",
    "last_err_cv = np.clip(last_err_cv, 0, 1e2)\n",
    "last_err_approx = np.clip(last_err_approx, 0, 1e2)"
   ]
  },
  {
   "cell_type": "raw",
   "id": "c905b386-42f8-445a-a161-d49d88a95038",
   "metadata": {},
   "source": [
    "fig, ax = plt.subplots()\n",
    "ax.plot(sigmas, last_err_approx[:, 0], label=\"IACV\", c='black')\n",
    "ax.plot(sigmas, last_err_approx[:, 1], label=\"Baseline\", c='green', linestyle=\"--\")\n",
    "ax.set_xscale('log')\n",
    "#ax.set_yscale('log')\n",
    "ax.set_xlabel(\"$\\log(\\sigma)$\")\n",
    "ax.set_ylabel(\"Err Approx\")\n",
    "ax.legend()\n",
    "ws = 1.45 # 1.75\n",
    "hs = 1.35 # 1.25\n",
    "fig.set_size_inches(w=5.73/ws, h=3.5/hs)\n",
    "plt.show()\n",
    "plt.savefig('kernel_svmtest_sigma_err_approx_mod.pgf', bbox_inches='tight', pad_inches=0)"
   ]
  },
  {
   "cell_type": "raw",
   "id": "57b58b0e-440d-4f4b-a4f0-15fd0deb13ff",
   "metadata": {},
   "source": [
    "fig, ax = plt.subplots()\n",
    "ax.plot(sigmas, last_err_cv[:, 0], label=\"IACV\", c='black')\n",
    "ax.plot(sigmas, last_err_cv[:, 1], label=\"Baseline\", c='green', linestyle=\"--\")\n",
    "ax.set_xscale('log')\n",
    "#ax.set_yscale('log')\n",
    "ax.set_xlabel(\"$\\log(\\sigma)$\")\n",
    "ax.set_ylabel(\"Err CV\")\n",
    "ax.legend()\n",
    "ws = 1.45 # 1.75\n",
    "hs = 1.35 # 1.25\n",
    "fig.set_size_inches(w=5.73/ws, h=3.5/hs)\n",
    "plt.show()\n",
    "plt.savefig('kernel_svmtest_sigma_err_cv_mod.pgf', bbox_inches='tight', pad_inches=0)"
   ]
  },
  {
   "cell_type": "raw",
   "id": "b03d4637-5fc4-46dc-a99d-918568a22bef",
   "metadata": {},
   "source": [
    "fig, ax = plt.subplots()\n",
    "ax.plot(sigmas, cond_nums)\n",
    "#ax.set_xscale('log')\n",
    "#ax.set_yscale('log')\n",
    "ax.set_xlabel(\"$\\sigma$\")\n",
    "ax.set_ylabel(\"Condition Number\")\n",
    "ws = 1.45 # 1.75\n",
    "hs = 1.35 # 1.25\n",
    "fig.set_size_inches(w=5.73/ws, h=3.5/hs)\n",
    "plt.show()\n",
    "#plt.savefig('svmtest_sigma_err_cv_mod.pgf', bbox_inches='tight', pad_inches=0)"
   ]
  },
  {
   "cell_type": "raw",
   "id": "900bc723-bf3f-4e9f-85d4-f8bbf248fa5c",
   "metadata": {},
   "source": [
    "# test different lambda values\n",
    "import time\n",
    "lambdas = np.linspace(0, 2.5, 12)\n",
    "print(lambdas)\n",
    "last_err_approx = []\n",
    "last_err_cv = []\n",
    "condition_nos = []\n",
    "iacv_iterates = []\n",
    "true_iterates = []\n",
    "\n",
    "start = time.time()\n",
    "for l in lambdas:\n",
    "    print(f\"running experiment for lambda = {l}\")\n",
    "    clf = SVM_smooth_kernel(sigma=0.25, lbd=l, kernel=RBF(2.75))\n",
    "    clf.fit(X_scaled, y, n_iter=400, eta=0.5/n, approx_cv=True, cv=True,\n",
    "            save_err_approx=True, save_err_cv=True, log_iacv=False, log_iter=False, save_cond_num=True)\n",
    "    y_pred = clf.predict(X_scaled)\n",
    "    score = accuracy_score(y, y_pred)\n",
    "    \n",
    "    condition_nos.append(clf.approx_cv_obj.cond_nums)\n",
    "    iacv_iterates.append(clf.approx_cv_obj.iterates)\n",
    "    true_iterates.append(clf.true_cv_obj.iterates)\n",
    "\n",
    "    #coef = clf.weights_/np.linalg.norm(clf.weights_)\n",
    "\n",
    "    #print(clf.weights_)\n",
    "    #print(f\"\\tlambda {l} | score {score} | grad {np.linalg.norm(clf.nabla_fgd_(clf.weights_, X_scaled, y, clf.sigma_, clf.lbd_))} | sklearn diff {np.mean(np.abs(coef- sk_coef))}\")\n",
    "    print(f\"\\tlambda {l} | score {score}\")\n",
    "    print(f\"\\tIACV: {clf.err_approx_['IACV'][-1]} | baseline: {clf.err_approx_['baseline'][-1]}\" )\n",
    "    last_err_approx.append([clf.err_approx_[\"IACV\"][-1], clf.err_approx_[\"baseline\"][-1]])\n",
    "    last_err_cv.append([clf.err_cv_[\"IACV\"][-1], clf.err_cv_[\"baseline\"][-1]])\n",
    "\n",
    "end = time.time()\n",
    "print(end - start)"
   ]
  },
  {
   "cell_type": "raw",
   "id": "745261d1-3192-4243-8514-1f261770d90c",
   "metadata": {},
   "source": [
    "last_err_approx = np.asarray(last_err_approx)\n",
    "last_err_cv = np.asarray(last_err_cv)\n",
    "condition_nos = np.asarray(condition_nos)\n",
    "iacv_iterates = np.asarray(iacv_iterates)\n",
    "true_iterates = np.asarray(true_iterates)"
   ]
  },
  {
   "cell_type": "raw",
   "id": "89dfdf7d-cb1b-4b53-a436-0a71d2a45350",
   "metadata": {},
   "source": [
    "fig, ax = plt.subplots()\n",
    "ax.plot(lambdas, last_err_approx[:, 0], label=\"IACV\", c='black')\n",
    "ax.plot(lambdas, last_err_approx[:, 1], label=\"Baseline\", c='green', linestyle=\"--\")\n",
    "ax.set_yscale('log')\n",
    "ax.set_xlabel(\"$\\lambda$\")\n",
    "ax.set_ylabel(\"Err Approx\")\n",
    "ax.legend()\n",
    "ws = 1.45 # 1.75\n",
    "hs = 1.35 # 1.25\n",
    "fig.set_size_inches(w=5.73/ws, h=3.5/hs)\n",
    "plt.show()\n",
    "#plt.savefig('kernel_svmtest_lambda_err_approx_mod.pgf', bbox_inches='tight', pad_inches=0)"
   ]
  },
  {
   "cell_type": "raw",
   "id": "dff7513b-48f6-4930-87f0-b014c02ccc53",
   "metadata": {},
   "source": [
    "fig, ax = plt.subplots()\n",
    "ax.plot(lambdas, last_err_cv[:, 0], label=\"IACV\", c='black')\n",
    "ax.plot(lambdas, last_err_cv[:, 1], label=\"Baseline\", c='green', linestyle=\"--\")\n",
    "ax.set_yscale('log')\n",
    "ax.set_xlabel(\"$\\lambda$\")\n",
    "ax.set_ylabel(\"Err CV\")\n",
    "ax.legend()\n",
    "ws = 1.45 # 1.75\n",
    "hs = 1.35 # 1.25\n",
    "fig.set_size_inches(w=5.73/ws, h=3.5/hs)\n",
    "plt.show()\n",
    "#plt.savefig('kernel_svmtest_lambda_err_cv_mod.pgf', bbox_inches='tight', pad_inches=0)"
   ]
  },
  {
   "cell_type": "raw",
   "id": "32266189-21e7-405a-a42e-f4ad96d1ec32",
   "metadata": {},
   "source": [
    "mean_cond = np.asarray(condition_nos)\n",
    "mean_cond = np.mean(np.mean(condition_nos, axis=1), axis=1)"
   ]
  },
  {
   "cell_type": "raw",
   "id": "0402fbbb-fcf5-443e-a991-7413040b0a46",
   "metadata": {},
   "source": [
    "fig, ax = plt.subplots()\n",
    "ax.plot(lambdas[1:], mean_cond[1:])\n",
    "ax.set_xlabel(\"$\\lambda$\")\n",
    "ax.set_ylabel(\"Mean Condition Number\")\n",
    "ws = 1.45 # 1.75\n",
    "hs = 1.35 # 1.25\n",
    "fig.set_size_inches(w=5.73/ws, h=3.5/hs)\n",
    "plt.show()\n",
    "plt.savefig('svmtest_lambda_cond_no_mod.pgf', bbox_inches='tight', pad_inches=0)"
   ]
  },
  {
   "cell_type": "raw",
   "id": "e0d4a086",
   "metadata": {},
   "source": [
    "np.mean(np.mean(iacv_iterates, axis=1), axis=1).shape\n",
    "iacv_means = np.mean(np.mean(iacv_iterates, axis=1), axis=1)\n",
    "true_means = np.mean(np.mean(true_iterates, axis=1), axis=1)"
   ]
  },
  {
   "cell_type": "markdown",
   "id": "aac187e3",
   "metadata": {},
   "source": [
    "## fig, ax = plt.subplots()\n",
    "start = 0\n",
    "ax.plot(lambdas[start:], iacv_means[start:], label=\"IACV\")\n",
    "ax.plot(lambdas[start:], true_means[start:], label=\"true\", linestyle=\"--\")\n",
    "ax.set_xlabel(\"$\\lambda$\")\n",
    "ax.set_ylabel(\"Mean of CV Iterates\")\n",
    "ax.legend()\n",
    "ws = 1.45 # 1.75\n",
    "hs = 1.35 # 1.25\n",
    "fig.set_size_inches(w=5.73/ws, h=3.5/hs)\n",
    "plt.show()\n",
    "#plt.savefig('svmtest_lambda_coef_mod.pgf', bbox_inches='tight', pad_inches=0)"
   ]
  }
 ],
 "metadata": {
  "kernelspec": {
   "display_name": "Python 3 (ipykernel)",
   "language": "python",
   "name": "python3"
  },
  "language_info": {
   "codemirror_mode": {
    "name": "ipython",
    "version": 3
   },
   "file_extension": ".py",
   "mimetype": "text/x-python",
   "name": "python",
   "nbconvert_exporter": "python",
   "pygments_lexer": "ipython3",
   "version": "3.11.7"
  }
 },
 "nbformat": 4,
 "nbformat_minor": 5
}
