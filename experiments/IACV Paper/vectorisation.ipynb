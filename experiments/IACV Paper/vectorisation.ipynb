{
 "cells": [
  {
   "cell_type": "code",
   "execution_count": 1,
   "id": "6fba3b2b",
   "metadata": {},
   "outputs": [],
   "source": [
    "from sampler import sample_from_logreg\n",
    "import numpy as np\n",
    "import matplotlib.pyplot as plt\n",
    "from og_gd import run_sim\n",
    "import time"
   ]
  },
  {
   "cell_type": "code",
   "execution_count": 2,
   "id": "2b88e998",
   "metadata": {},
   "outputs": [],
   "source": [
    "def pi(theta):\n",
    "    return np.linalg.norm(theta, 2)\n",
    "\n",
    "\n",
    "def F(X, y, theta, lbd=1e-6):\n",
    "    return np.sum(l(X, y, theta)) + lbd * pi(theta)\n",
    "\n",
    "\n",
    "def nabla_F(X, y, theta=None, lbd=1e-6):\n",
    "    if y.shape[0] == 1 or y.shape[0] == 0:\n",
    "        return (\n",
    "            -(X.T * y) + X.T * ((np.exp(X @ theta)) / (1 + np.exp(X @ theta))) + lbd * theta\n",
    "        )\n",
    "        \n",
    "    return (\n",
    "        -(X.T @ y) + X.T @ ((np.exp(X @ theta)) / (1 + np.exp(X @ theta))) + lbd * theta\n",
    "    )\n",
    "\n",
    "def hess_F(X, theta=None, lbd=1e-6):\n",
    "    expy = np.exp(X @ theta) / (1 + np.exp(X @ theta)) ** 2\n",
    "    if len(X.shape) < 2:\n",
    "        X = X.reshape(-1, 1)\n",
    "        return X @ X.T * expy + lbd\n",
    "    return X.T * expy @ X + lbd * np.eye(theta.shape[0])"
   ]
  },
  {
   "cell_type": "code",
   "execution_count": 3,
   "id": "6eaac976",
   "metadata": {},
   "outputs": [
    {
     "name": "stdout",
     "output_type": "stream",
     "text": [
      "0.0002772612244955063\n",
      "0.003732731115163448\n",
      "0.00607059717145864\n",
      "7.662547826766968\n"
     ]
    }
   ],
   "source": [
    "start = time.time()\n",
    "res = run_sim(250, 20, n_iter=250)\n",
    "print(np.mean(res[\"IACV\"]))\n",
    "print(np.mean(res[\"NS\"]))\n",
    "print(np.mean(res[\"IJ\"]))\n",
    "end = time.time()\n",
    "print(end - start)"
   ]
  },
  {
   "cell_type": "code",
   "execution_count": 6,
   "id": "1cf76ee7",
   "metadata": {},
   "outputs": [
    {
     "name": "stdout",
     "output_type": "stream",
     "text": [
      "0.00027726070745688055\n",
      "0.00373273162848995\n",
      "0.00607059717145864\n",
      "4.340312719345093\n"
     ]
    }
   ],
   "source": [
    "start = time.time()\n",
    "p = 20\n",
    "n = 250\n",
    "n_iter = 250\n",
    "X, _, y = sample_from_logreg(p=p, n=n)\n",
    "\n",
    "lbd_v = 1e-6 * n\n",
    "\n",
    "theta = np.zeros(p)\n",
    "alpha = 0.5 / n\n",
    "alpha_t = alpha\n",
    "\n",
    "theta_cv = np.zeros((n, p))\n",
    "theta_true = np.zeros((n, p))\n",
    "theta_ns = np.zeros((n, p))\n",
    "theta_ij = np.zeros((n, p))\n",
    "\n",
    "err_approx = {\n",
    "    \"IACV\": np.zeros(n_iter),\n",
    "    \"NS\": np.zeros(n_iter),\n",
    "    \"IJ\": np.zeros(n_iter),\n",
    "    \"hat\": np.zeros(n_iter),\n",
    "}\n",
    "\n",
    "for t in range(0, n_iter):\n",
    "    f_grad = nabla_F(X, y, theta, lbd=lbd_v)\n",
    "    f_hess = hess_F(X, theta, lbd=lbd_v)\n",
    "    \n",
    "    hess_per_sample = np.vectorize(hess_F, excluded={\"theta\", \"lbd\"}, signature='(p)->(p, p)')(X, theta=theta, lbd=lbd_v)\n",
    "    grad_per_sample = np.vectorize(nabla_F, excluded={\"theta\", \"lbd\"}, signature='(p),(0)->(p)')(X, y.reshape(-1, 1), theta=theta, lbd=lbd_v)\n",
    "    \n",
    "    hess_minus_i = f_hess - hess_per_sample\n",
    "    grad_minus_i = f_grad - grad_per_sample\n",
    "\n",
    "    theta_cv = theta_cv - alpha_t * grad_minus_i - alpha_t * np.vectorize(np.matmul, signature='(p, p),(p)->(p)')(hess_minus_i, (theta_cv - theta))\n",
    "    \n",
    "    theta_ns = theta + np.vectorize(np.matmul, signature='(p, p),(p)->(p)')(np.linalg.inv(hess_minus_i), grad_per_sample)\n",
    "    theta_ij = theta + np.vectorize(np.matmul, signature='(p, p),(p)->(p)')(np.linalg.inv(f_hess), grad_per_sample)\n",
    "\n",
    "    for i in range(0, n):\n",
    "        theta_true[i] = theta_true[i] - alpha * nabla_F(\n",
    "            np.delete(X, (i), axis=0),\n",
    "            np.delete(y, (i), axis=0),\n",
    "            theta=theta_true[i],\n",
    "            lbd=lbd_v,\n",
    "        )\n",
    "\n",
    "    # actually update theta\n",
    "    theta = theta - alpha * f_grad\n",
    "\n",
    "    err_approx[\"IACV\"][t] = np.mean(np.linalg.norm(theta_cv - theta_true, 2, axis=1))\n",
    "    err_approx[\"NS\"][t] = np.mean(np.linalg.norm(theta_ns - theta_true, 2, axis=1))\n",
    "    err_approx[\"IJ\"][t] = np.mean(np.linalg.norm(theta_ij - theta_true, 2, axis=1))\n",
    "    err_approx[\"hat\"][t] = np.mean(np.linalg.norm(theta - theta_true, 2, axis=1))\n",
    "\n",
    "\n",
    "print(np.mean(err_approx[\"IACV\"]))\n",
    "print(np.mean(err_approx[\"NS\"]))\n",
    "print(np.mean(err_approx[\"IJ\"]))\n",
    "end = time.time()\n",
    "print(end - start)"
   ]
  }
 ],
 "metadata": {
  "kernelspec": {
   "display_name": "Python 3 (ipykernel)",
   "language": "python",
   "name": "python3"
  },
  "language_info": {
   "codemirror_mode": {
    "name": "ipython",
    "version": 3
   },
   "file_extension": ".py",
   "mimetype": "text/x-python",
   "name": "python",
   "nbconvert_exporter": "python",
   "pygments_lexer": "ipython3",
   "version": "3.11.6"
  }
 },
 "nbformat": 4,
 "nbformat_minor": 5
}
