{
 "cells": [
  {
   "cell_type": "code",
   "execution_count": 9,
   "id": "902ed3da",
   "metadata": {},
   "outputs": [],
   "source": [
    "import og_gd\n",
    "import og_fista\n",
    "import og_ista\n",
    "import jax_gd\n",
    "import jax_ista\n",
    "import jax_ista_sparse\n",
    "import pytorch_gd\n",
    "import matplotlib.pyplot as plt\n",
    "import matplotlib.ticker as ticker\n",
    "import numpy as np\n",
    "import time\n",
    "\n",
    "import jax\n",
    "jax.config.update(\"jax_platform_name\", \"cpu\")\n",
    "\n",
    "\n",
    "import matplotlib\n",
    "matplotlib.use(\"pgf\")\n",
    "matplotlib.rcParams.update({\n",
    "    \"pgf.texsystem\": \"pdflatex\",\n",
    "    'font.family': 'serif',\n",
    "    'text.usetex': True,\n",
    "    'pgf.rcfonts': False,\n",
    "})"
   ]
  },
  {
   "cell_type": "raw",
   "id": "6c8eb7e9",
   "metadata": {},
   "source": [
    "start = time.time()\n",
    "n_iter = 250\n",
    "err_approx = og_gd.run_sim(250, 20, n_iter=n_iter)\n",
    "print(err_approx.keys())\n",
    "end = time.time()\n",
    "print(end - start)"
   ]
  },
  {
   "cell_type": "raw",
   "id": "7c0f8608",
   "metadata": {},
   "source": [
    "ax = plt.subplot()\n",
    "start_offset = 5\n",
    "xx = np.arange(1, n_iter - start_offset + 1)\n",
    "ax.plot(xx, err_approx['IACV'][start_offset:], c='black', label='IACV')\n",
    "ax.plot(xx, err_approx['NS'][start_offset:], c='red', label='NS')\n",
    "ax.plot(xx, err_approx['IJ'][start_offset:], c='blue', label='IJ')\n",
    "ax.plot(xx, err_approx['hat'][start_offset:], c='green', linestyle='dashed', label='CV')\n",
    "ax.set_xscale('log')\n",
    "ax.set_yscale('log')\n",
    "ax.set_xlabel('Number of Iterations (Log Scale)')\n",
    "ax.set_ylabel('$Err_{Approx}$ (Log Scale)')\n",
    "ax.legend()"
   ]
  },
  {
   "cell_type": "code",
   "execution_count": 2,
   "id": "befce56f-36b6-4acf-bc27-475aab8a69dd",
   "metadata": {},
   "outputs": [
    {
     "name": "stdout",
     "output_type": "stream",
     "text": [
      "special_lambda is 0.07587135646925731\n",
      "iter: 0 | support size: 100\n",
      "iter: 1 | support size: 100\n",
      "iter: 2 | support size: 100\n",
      "iter: 3 | support size: 100\n",
      "iter: 4 | support size: 100\n",
      "iter: 5 | support size: 100\n",
      "iter: 6 | support size: 94\n",
      "iter: 7 | support size: 90\n",
      "iter: 8 | support size: 78\n",
      "iter: 9 | support size: 66\n",
      "iter: 10 | support size: 57\n",
      "iter: 11 | support size: 47\n",
      "iter: 12 | support size: 36\n",
      "iter: 13 | support size: 27\n",
      "iter: 14 | support size: 21\n",
      "iter: 15 | support size: 19\n",
      "iter: 16 | support size: 14\n",
      "iter: 17 | support size: 12\n",
      "iter: 18 | support size: 11\n",
      "iter: 19 | support size: 11\n",
      "iter: 20 | support size: 9\n",
      "iter: 21 | support size: 8\n",
      "iter: 22 | support size: 9\n",
      "iter: 23 | support size: 8\n",
      "iter: 24 | support size: 7\n",
      "iter: 25 | support size: 7\n",
      "iter: 26 | support size: 6\n",
      "iter: 27 | support size: 6\n",
      "iter: 28 | support size: 6\n",
      "iter: 29 | support size: 6\n",
      "iter: 30 | support size: 7\n",
      "iter: 31 | support size: 7\n",
      "iter: 32 | support size: 7\n",
      "iter: 33 | support size: 7\n",
      "iter: 34 | support size: 7\n",
      "iter: 35 | support size: 6\n",
      "iter: 36 | support size: 6\n",
      "iter: 37 | support size: 6\n",
      "iter: 38 | support size: 6\n",
      "iter: 39 | support size: 6\n",
      "iter: 40 | support size: 6\n",
      "iter: 41 | support size: 6\n",
      "iter: 42 | support size: 6\n",
      "iter: 43 | support size: 6\n",
      "iter: 44 | support size: 6\n",
      "iter: 45 | support size: 5\n",
      "iter: 46 | support size: 5\n",
      "iter: 47 | support size: 5\n",
      "iter: 48 | support size: 5\n",
      "iter: 49 | support size: 5\n",
      "iter: 50 | support size: 5\n",
      "iter: 51 | support size: 5\n",
      "iter: 52 | support size: 5\n",
      "iter: 53 | support size: 5\n",
      "iter: 54 | support size: 5\n",
      "iter: 55 | support size: 5\n",
      "iter: 56 | support size: 5\n",
      "iter: 57 | support size: 5\n",
      "iter: 58 | support size: 5\n",
      "iter: 59 | support size: 5\n",
      "iter: 60 | support size: 5\n",
      "iter: 61 | support size: 5\n",
      "iter: 62 | support size: 4\n",
      "iter: 63 | support size: 4\n",
      "iter: 64 | support size: 4\n",
      "iter: 65 | support size: 4\n",
      "iter: 66 | support size: 4\n",
      "iter: 67 | support size: 4\n",
      "iter: 68 | support size: 4\n",
      "iter: 69 | support size: 4\n",
      "iter: 70 | support size: 4\n",
      "iter: 71 | support size: 4\n",
      "iter: 72 | support size: 4\n",
      "iter: 73 | support size: 4\n",
      "iter: 74 | support size: 4\n",
      "iter: 75 | support size: 4\n",
      "iter: 76 | support size: 4\n",
      "iter: 77 | support size: 4\n",
      "iter: 78 | support size: 4\n",
      "iter: 79 | support size: 4\n",
      "iter: 80 | support size: 4\n",
      "iter: 81 | support size: 4\n",
      "iter: 82 | support size: 4\n",
      "iter: 83 | support size: 4\n",
      "iter: 84 | support size: 4\n",
      "iter: 85 | support size: 4\n",
      "iter: 86 | support size: 4\n",
      "iter: 87 | support size: 4\n",
      "iter: 88 | support size: 4\n",
      "iter: 89 | support size: 4\n",
      "iter: 90 | support size: 4\n",
      "iter: 91 | support size: 4\n",
      "iter: 92 | support size: 4\n",
      "iter: 93 | support size: 4\n",
      "iter: 94 | support size: 4\n",
      "iter: 95 | support size: 4\n",
      "iter: 96 | support size: 4\n",
      "iter: 97 | support size: 4\n",
      "iter: 98 | support size: 4\n",
      "iter: 99 | support size: 4\n",
      "iter: 100 | support size: 4\n",
      "iter: 101 | support size: 4\n",
      "iter: 102 | support size: 4\n",
      "iter: 103 | support size: 4\n",
      "iter: 104 | support size: 4\n",
      "iter: 105 | support size: 4\n",
      "iter: 106 | support size: 4\n",
      "iter: 107 | support size: 4\n",
      "iter: 108 | support size: 4\n",
      "iter: 109 | support size: 4\n",
      "iter: 110 | support size: 4\n",
      "iter: 111 | support size: 4\n",
      "iter: 112 | support size: 4\n",
      "iter: 113 | support size: 4\n",
      "iter: 114 | support size: 4\n",
      "iter: 115 | support size: 4\n",
      "iter: 116 | support size: 4\n",
      "iter: 117 | support size: 4\n",
      "iter: 118 | support size: 4\n",
      "iter: 119 | support size: 4\n",
      "iter: 120 | support size: 4\n",
      "iter: 121 | support size: 4\n",
      "iter: 122 | support size: 4\n",
      "iter: 123 | support size: 4\n",
      "iter: 124 | support size: 4\n",
      "iter: 125 | support size: 4\n",
      "iter: 126 | support size: 4\n",
      "iter: 127 | support size: 4\n",
      "iter: 128 | support size: 4\n",
      "iter: 129 | support size: 4\n",
      "iter: 130 | support size: 4\n",
      "iter: 131 | support size: 4\n",
      "iter: 132 | support size: 4\n",
      "iter: 133 | support size: 4\n",
      "iter: 134 | support size: 4\n",
      "iter: 135 | support size: 4\n",
      "iter: 136 | support size: 4\n",
      "iter: 137 | support size: 4\n",
      "iter: 138 | support size: 4\n",
      "iter: 139 | support size: 4\n",
      "iter: 140 | support size: 4\n",
      "iter: 141 | support size: 4\n",
      "iter: 142 | support size: 4\n",
      "iter: 143 | support size: 4\n",
      "iter: 144 | support size: 4\n",
      "iter: 145 | support size: 4\n",
      "iter: 146 | support size: 4\n",
      "iter: 147 | support size: 4\n",
      "iter: 148 | support size: 4\n",
      "iter: 149 | support size: 4\n",
      "iter: 150 | support size: 4\n",
      "iter: 151 | support size: 4\n",
      "iter: 152 | support size: 4\n",
      "iter: 153 | support size: 4\n",
      "iter: 154 | support size: 4\n",
      "iter: 155 | support size: 4\n",
      "iter: 156 | support size: 4\n",
      "iter: 157 | support size: 4\n",
      "iter: 158 | support size: 4\n",
      "iter: 159 | support size: 4\n",
      "iter: 160 | support size: 4\n",
      "iter: 161 | support size: 4\n",
      "iter: 162 | support size: 4\n",
      "iter: 163 | support size: 4\n",
      "iter: 164 | support size: 4\n",
      "iter: 165 | support size: 4\n",
      "iter: 166 | support size: 4\n",
      "iter: 167 | support size: 4\n",
      "iter: 168 | support size: 4\n",
      "iter: 169 | support size: 4\n",
      "iter: 170 | support size: 4\n",
      "iter: 171 | support size: 4\n",
      "iter: 172 | support size: 4\n",
      "iter: 173 | support size: 4\n",
      "iter: 174 | support size: 4\n",
      "iter: 175 | support size: 4\n",
      "iter: 176 | support size: 4\n",
      "iter: 177 | support size: 4\n",
      "iter: 178 | support size: 4\n",
      "iter: 179 | support size: 4\n",
      "iter: 180 | support size: 4\n",
      "iter: 181 | support size: 4\n",
      "iter: 182 | support size: 4\n",
      "iter: 183 | support size: 4\n",
      "iter: 184 | support size: 4\n",
      "iter: 185 | support size: 4\n",
      "iter: 186 | support size: 4\n",
      "iter: 187 | support size: 4\n",
      "iter: 188 | support size: 4\n",
      "iter: 189 | support size: 4\n",
      "iter: 190 | support size: 4\n",
      "iter: 191 | support size: 4\n",
      "iter: 192 | support size: 4\n",
      "iter: 193 | support size: 4\n",
      "iter: 194 | support size: 4\n",
      "iter: 195 | support size: 4\n",
      "iter: 196 | support size: 4\n",
      "iter: 197 | support size: 4\n",
      "iter: 198 | support size: 4\n",
      "iter: 199 | support size: 4\n",
      "dict_keys(['IACV', 'IACV sparse', 'NS', 'IJ', 'hat'])\n",
      "10.969094038009644\n"
     ]
    }
   ],
   "source": [
    "start = time.time()\n",
    "n_iter = 200\n",
    "#err_approx, cv_err, runtime = jax_gd.run_sim(250, 20, n_iter=n_iter)\n",
    "n = 50\n",
    "p = 100\n",
    "# prev was 200, 200\n",
    "special_lambda = 0.25 * np.sqrt(np.log(p) / n)\n",
    "print(f\"special_lambda is {special_lambda}\")\n",
    "err_approx, err_loo, runtime, supports, params = jax_ista_sparse.run_sim(\n",
    "    n=n, p=p, n_iter=n_iter, lbd_v=special_lambda\n",
    ")\n",
    "\n",
    "print(err_approx.keys())\n",
    "end = time.time()\n",
    "print(end - start)"
   ]
  },
  {
   "cell_type": "code",
   "execution_count": 3,
   "id": "6524d2e6-57f2-496e-8c1f-99b80fb20338",
   "metadata": {
    "scrolled": true
   },
   "outputs": [
    {
     "data": {
      "text/plain": [
       "[<matplotlib.lines.Line2D at 0x73be8f7c65d0>]"
      ]
     },
     "execution_count": 3,
     "metadata": {},
     "output_type": "execute_result"
    },
    {
     "data": {
      "image/png": "[encoded data removed]",
      "text/plain": [
       "<Figure size 640x480 with 1 Axes>"
      ]
     },
     "metadata": {},
     "output_type": "display_data"
    }
   ],
   "source": [
    "sup_sizes = list(map(len, supports))\n",
    "plt.plot(sup_sizes)"
   ]
  },
  {
   "cell_type": "code",
   "execution_count": 10,
   "id": "0fc91276",
   "metadata": {},
   "outputs": [
    {
     "name": "stderr",
     "output_type": "stream",
     "text": [
      "/tmp/ipykernel_12745/1855179147.py:18: UserWarning: FigureCanvasPgf is non-interactive, and thus cannot be shown\n",
      "  plt.show()\n"
     ]
    }
   ],
   "source": [
    "fig, ax = plt.subplots()\n",
    "start_offset = 5\n",
    "xx = np.arange(1, n_iter - start_offset + 1)\n",
    "ax.plot(xx, err_approx['IACV'][start_offset:], c='black', label='IACV')\n",
    "ax.plot(xx, err_approx['IACV sparse'][start_offset:], c='plum', label='IACVs')\n",
    "ax.plot(xx, err_approx['NS'][start_offset:], c='red', label='NS')\n",
    "ax.plot(xx, err_approx['IJ'][start_offset:], c='blue', label='IJ')\n",
    "ax.plot(xx, err_approx['hat'][start_offset:], c='green', linestyle='dashed', label='CV')\n",
    "ax.set_xscale('log')\n",
    "ax.set_yscale('log')\n",
    "ax.set_xlabel('Number of Iterations (Log Scale)')\n",
    "ax.set_ylabel('$Err_{Approx}$ (Log Scale)')\n",
    "ax.legend()\n",
    "ws = 1.45 # 1.75\n",
    "hs = 1.35 # 1.25\n",
    "fig.set_size_inches(w=5.73/ws, h=3.5/hs)\n",
    "plt.tight_layout()\n",
    "plt.show()\n",
    "plt.savefig('sparse_err_approx_100.pgf', bbox_inches='tight', pad_inches=0)"
   ]
  },
  {
   "cell_type": "code",
   "execution_count": 5,
   "id": "03569f7e-9551-4917-a327-6df4d8493f14",
   "metadata": {
    "scrolled": true
   },
   "outputs": [
    {
     "data": {
      "image/png": "[encoded data removed]",
      "text/plain": [
       "<Figure size 395.172x259.259 with 1 Axes>"
      ]
     },
     "metadata": {},
     "output_type": "display_data"
    }
   ],
   "source": [
    "fig, ax = plt.subplots()\n",
    "start_offset = 5\n",
    "xx = np.arange(1, n_iter - start_offset + 1)\n",
    "ax.plot(xx, err_loo['IACV'][start_offset:], c='black', label='IACV')\n",
    "ax.plot(xx, err_loo['IACV sparse'][start_offset:], c='plum', label='IACVs')\n",
    "ax.plot(xx, err_loo['NS'][start_offset:], c='red', label='NS')\n",
    "ax.plot(xx, err_loo['IJ'][start_offset:], c='blue', label='IJ')\n",
    "ax.plot(xx, err_loo['hat'][start_offset:], c='green', linestyle='dashed', label='CV')\n",
    "ax.set_xscale('log')\n",
    "ax.set_yscale('log')\n",
    "ax.set_xlabel('Number of Iterations (Log Scale)')\n",
    "ax.set_ylabel('$Err_{LOO}$ (Log Scale)')\n",
    "ax.legend()\n",
    "ws = 1.45 # 1.75\n",
    "hs = 1.35 # 1.25\n",
    "fig.set_size_inches(w=5.73/ws, h=3.5/hs)\n",
    "plt.tight_layout()\n",
    "plt.show()\n",
    "#plt.savefig('sparse_err_loo.pgf', bbox_inches='tight', pad_inches=0)"
   ]
  },
  {
   "cell_type": "code",
   "execution_count": 6,
   "id": "67c98872-026b-4f1c-9201-d7af7b21f216",
   "metadata": {},
   "outputs": [
    {
     "data": {
      "image/png": "[encoded data removed]",
      "text/plain": [
       "<Figure size 640x480 with 1 Axes>"
      ]
     },
     "metadata": {},
     "output_type": "display_data"
    }
   ],
   "source": [
    "plt.hist(np.asarray(params[\"true\"]).ravel(), bins=100, alpha=0.9, color='black')\n",
    "plt.hist(params[\"IACV\"].ravel(), bins=100, alpha=0.3, color='magenta')\n",
    "plt.hist(params[\"IACV sparse\"].ravel(), bins=100, alpha=0.3, color='green')\n",
    "plt.hist(params[\"IJ\"].ravel(), bins=100, alpha=0.3, color='plum')\n",
    "plt.ylim(0, 400)\n",
    "plt.show()"
   ]
  },
  {
   "cell_type": "markdown",
   "id": "2c6b613d-a124-4461-8ae0-da454e39654c",
   "metadata": {},
   "source": [
    "## print(np.mean(np.asarray(params[\"true\"])))\n",
    "print(np.mean(params[\"IACV\"]))\n",
    "print(np.mean(params[\"IJ\"]))"
   ]
  },
  {
   "cell_type": "raw",
   "id": "cc9aea8d-ef04-4b78-beb7-87159cc14a83",
   "metadata": {},
   "source": [
    "fig, ax = plt.subplots(1, 2)\n",
    "start_offset = 1\n",
    "xx = np.arange(1, n_iter - start_offset + 1)\n",
    "\n",
    "for i, (dat, title) in enumerate(zip([err_approx, cv_err], [\"$Err_{Approx}$\", \"$Err_{CV}$\"])):\n",
    "    ax[i].plot(xx, dat['IACV'][start_offset:], c='black', label='IACV')\n",
    "    ax[i].plot(xx, dat['NS'][start_offset:], c='red', label='NS')\n",
    "    ax[i].plot(xx, dat['IJ'][start_offset:], c='blue', label='IJ')\n",
    "    ax[i].plot(xx, dat['hat'][start_offset:], c='green', linestyle='dashed', label='Baseline')\n",
    "    ax[i].set_xscale('log')\n",
    "    ax[i].set_yscale('log')\n",
    "    ax[i].set_xlabel('Number of Iterations (Log Scale)')\n",
    "    ax[i].set_ylabel(f'{title} (Log Scale)')\n",
    "    #ax.legend()\n",
    "fig.legend([\"IACV\", \"NS\", \"IJ\", \"Baseline\"], loc=\"outside center right\", bbox_to_anchor=(1.175, 0.6))\n",
    "ws = 1.00 * 1.025 # 1.75\n",
    "hs = 1.65 * 1.025 # 1.25\n",
    "fig.set_size_inches(w=5.73/ws, h=3.5/hs)\n",
    "plt.tight_layout()\n",
    "plt.show()\n",
    "#plt.savefig('exp1_errs_250.pgf', bbox_inches='tight', pad_inches=0)"
   ]
  },
  {
   "cell_type": "code",
   "execution_count": 7,
   "id": "15dcb19d",
   "metadata": {},
   "outputs": [
    {
     "data": {
      "image/png": "[encoded data removed]",
      "text/plain": [
       "<Figure size 395.172x259.259 with 1 Axes>"
      ]
     },
     "metadata": {},
     "output_type": "display_data"
    }
   ],
   "source": [
    "fig, ax = plt.subplots()\n",
    "start_offset = 2\n",
    "ax.plot(runtime['IACV'][start_offset:], c='black', label='IACV')\n",
    "ax.plot(runtime['IACV sparse'][start_offset:], c='plum', linestyle='dashed', label='IACV sparse')\n",
    "ax.plot(runtime['NS'][start_offset:], c='red', label='NS')\n",
    "ax.plot(runtime['IJ'][start_offset:], c='blue', label='IJ')\n",
    "ax.plot(runtime['true'][start_offset:], c='purple', label='True', linestyle='dashed')\n",
    "ax.set_xlabel('Number of Iterations')\n",
    "ax.set_ylabel('Runtime')\n",
    "ax.legend()\n",
    "ws = 1.45 # 1.75\n",
    "hs = 1.35 # 1.25\n",
    "fig.set_size_inches(w=5.73/ws, h=3.5/hs)\n",
    "plt.tight_layout()\n",
    "plt.show()\n",
    "#plt.savefig('true_runtime.pgf', bbox_inches='tight', pad_inches=0)"
   ]
  },
  {
   "cell_type": "code",
   "execution_count": 11,
   "id": "99213341",
   "metadata": {},
   "outputs": [
    {
     "name": "stderr",
     "output_type": "stream",
     "text": [
      "/tmp/ipykernel_12745/1232492163.py:24: UserWarning: FigureCanvasPgf is non-interactive, and thus cannot be shown\n",
      "  plt.show()\n"
     ]
    }
   ],
   "source": [
    "fig, ax = plt.subplots(1, 2)\n",
    "start_offset = 30\n",
    "ax[0].plot(runtime['IACV'][start_offset:], c='black', label='IACV')\n",
    "ax[0].plot(runtime['IACV sparse'][start_offset:], c='plum', linestyle='dashed', label='IACV')\n",
    "#ax[0].plot(runtime['NS'][start_offset:], c='red', label='NS')\n",
    "ax[0].plot(runtime['IJ'][start_offset:], c='blue', label='IJ')\n",
    "ax[0].plot(runtime['true'][start_offset:], c='purple', label='Exact CV', linestyle='dashed')\n",
    "ax[0].set_xlabel('Number of Iterations')\n",
    "ax[0].set_ylabel('Runtime (s)')\n",
    "#ax[0].legend()\n",
    "ax[1].plot(runtime['IACV'][start_offset:], c='black', label='IACV')\n",
    "ax[1].plot(runtime['IACV sparse'][start_offset:], c='plum', linestyle='dashed', label='IACV')\n",
    "ax[1].plot(runtime['IJ'][start_offset:], c='blue', label='IJ')\n",
    "#ax[1].plot(runtime['NS'][start_offset:], c='red', label='NS')\n",
    "ax[1].set_xlabel('Number of Iterations')\n",
    "ax[1].set_ylabel('Runtime (s)')\n",
    "#ax[1].legend()\n",
    "#ax.legend()\n",
    "ws = 1.05 # 1.75\n",
    "hs = 1.65 # 1.25\n",
    "fig.set_size_inches(w=5.73/ws, h=3.5/hs)\n",
    "fig.legend([\"IACV\", \"IACV Sparse\", \"IJ\", \"Exact CV\"], loc=\"outside center right\", bbox_to_anchor=(1.25, 0.5))\n",
    "plt.tight_layout()\n",
    "plt.show()\n",
    "plt.savefig('sparse_combined_runtime.pgf', bbox_inches='tight', pad_inches=0)"
   ]
  },
  {
   "cell_type": "raw",
   "id": "c753d03d",
   "metadata": {},
   "source": [
    "start = time.time()\n",
    "n_iter = 250\n",
    "err_approx = og_ista.run_sim(250, 20, n_iter=n_iter)\n",
    "end = time.time()\n",
    "print(end - start)"
   ]
  },
  {
   "cell_type": "markdown",
   "id": "e5a4c675-187c-4560-a11b-e3f7ceca100d",
   "metadata": {},
   "source": [
    "## markerline, _, _ = plt.stem(theta, label=\"$\\\\theta_{IACV}$\", linefmt='black', markerfmt='D')\n",
    "markerline.set_markerfacecolor('none')\n",
    "plt.stem(theta_star, label=\"$\\\\theta^*$\")\n",
    "plt.legend()"
   ]
  }
 ],
 "metadata": {
  "kernelspec": {
   "display_name": "Python 3 (ipykernel)",
   "language": "python",
   "name": "python3"
  },
  "language_info": {
   "codemirror_mode": {
    "name": "ipython",
    "version": 3
   },
   "file_extension": ".py",
   "mimetype": "text/x-python",
   "name": "python",
   "nbconvert_exporter": "python",
   "pygments_lexer": "ipython3",
   "version": "3.11.7"
  }
 },
 "nbformat": 4,
 "nbformat_minor": 5
}
