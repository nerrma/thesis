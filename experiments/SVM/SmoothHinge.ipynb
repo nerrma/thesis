{
 "cells": [
  {
   "cell_type": "code",
   "execution_count": 1,
   "id": "a8d7d1aa-855e-4038-9c04-882609b81c81",
   "metadata": {},
   "outputs": [],
   "source": [
    "import numpy as np\n",
    "#from jax import grad, jacrev, jacfwd, jit, vmap\n",
    "#import jax.numpy as jnp\n",
    "#import jax.scipy as jscp\n",
    "\n",
    "import matplotlib.pyplot as plt\n",
    "from sklearn.datasets import make_blobs, make_moons\n",
    "from sklearn.svm import SVC\n",
    "\n",
    "import seaborn as sns\n",
    "import scipy as scp\n",
    "\n",
    "import jax\n",
    "jax.config.update(\"jax_platform_name\", \"cpu\")\n",
    "\n",
    "#import matplotlib\n",
    "#matplotlib.use(\"pgf\")\n",
    "#matplotlib.rcParams.update({\n",
    "#    \"pgf.texsystem\": \"pdflatex\",\n",
    "#    'font.family': 'serif',\n",
    "#    'text.usetex': True,\n",
    "#    'pgf.rcfonts': False,\n",
    "#})\n",
    "\n",
    "\n",
    "np.random.seed(32)"
   ]
  },
  {
   "cell_type": "code",
   "execution_count": 2,
   "id": "a95a190a-4ed0-4326-8dd8-5477baba080d",
   "metadata": {},
   "outputs": [],
   "source": [
    "Phi_g = lambda v: scp.stats.norm.cdf(v, loc=0, scale=1)\n",
    "phi_g = lambda v: scp.stats.norm.pdf(v, loc=0, scale=1)"
   ]
  },
  {
   "cell_type": "code",
   "execution_count": 3,
   "id": "47a458b6-0026-4a67-a111-b56eda4c60af",
   "metadata": {},
   "outputs": [],
   "source": [
    "def psi_g(alpha, sigma):\n",
    "    return Phi_g((1- alpha)/sigma) * (1 - alpha) + phi_g((1- alpha)/sigma) * sigma"
   ]
  },
  {
   "cell_type": "code",
   "execution_count": 4,
   "id": "96c666a9",
   "metadata": {},
   "outputs": [],
   "source": [
    "Phi_m = lambda v: (1 + v/np.sqrt(1 + v**2))/2\n",
    "Phi_m_prime = lambda v: (1/np.sqrt(1 + v**2)**3)/2\n",
    "phi_m = lambda v: 1/(2 * np.sqrt(1 + v**2))"
   ]
  },
  {
   "cell_type": "markdown",
   "id": "08b752c1-85f7-4d7e-8e00-c0c4e566f574",
   "metadata": {},
   "source": [
    "The two terms which make up the smooth hinge loss are,\n",
    "\\begin{align*}\n",
    "    \\Phi_m(v) = (1 + v/\\sqrt{(1 + v^2)})/2 \\\\\n",
    "    \\phi_m(v) = 1/(2 \\cdot \\sqrt{(1 + v^2)}).\n",
    "\\end{align*}\n",
    "\n",
    "Where the final form is,\n",
    "\\begin{align*}\n",
    "    \\psi_m(v) = \\Phi_m(v/\\sigma) \\cdot v + \\phi_m(v/\\sigma) \\cdot \\sigma,\n",
    "\\end{align*}\n",
    "for $v = 1 - \\alpha$ and we use $\\alpha = yXw$ for the SVM."
   ]
  },
  {
   "cell_type": "markdown",
   "id": "b670087d-2f2c-41f9-a399-32684dd633c8",
   "metadata": {},
   "source": [
    "Now, the derivative for the individual terms wrt $v$ is,\n",
    "\n",
    "\\begin{align*}\n",
    "    \\frac{\\partial \\Phi_m(v)}{\\partial v} = \\frac{1}{2(v^2+1)^{\\frac{3}{2}}} \\\\\n",
    "    \\frac{\\partial \\phi_m(v)}{\\partial v} = -\\frac{v}{2 (v^2 + 1)^{\\frac{3}{2}}}\n",
    "\\end{align*}"
   ]
  },
  {
   "cell_type": "markdown",
   "id": "d8f62dce-0d85-48f4-9811-7268e2048f87",
   "metadata": {},
   "source": [
    "$(1 + (v/\\sigma)/(\\sqrt{1+(v/\\sigma)^2}))*v/2 + 1/(2\\sqrt{(1+(v/\\sigma)^2})) * \\sigma$\n",
    "$(1 + (1-\\alpha/\\sigma)/(\\sqrt{1+(1-\\alpha/\\sigma)^2}))*1-\\alpha/2 + 1/(2\\sqrt{(1+(1-\\alpha/\\sigma)^2})) * \\sigma$\n",
    "$(1 + (1-yXw/\\sigma)/(\\sqrt{1+(1-yXw/\\sigma)^2}))*1-yXw/2 + 1/(2\\sqrt{(1+(1-yXw/\\sigma)^2})) * \\sigma$"
   ]
  },
  {
   "cell_type": "markdown",
   "id": "b61b81e8",
   "metadata": {},
   "source": [
    "So, the derivative of the smooth hinge loss for $v = 1 - \\alpha$ is,\n",
    "\\begin{align*}\n",
    "    \\frac{\\partial \\psi_m(v)}{\\partial v} &= \\left(\\frac{\\partial \\Phi_m(v)}{\\partial v} \\cdot v + \\Phi_m(v) \\cdot \\frac{\\partial v}{\\partial \\alpha} \\right) + \\frac{\\partial \\phi_m(v)}{\\partial v} \\cdot \\sigma \\\\\n",
    "    &= \\frac{1}{2(v^2+1)^{\\frac{3}{2}}} \\cdot v - \\frac{1}{2}\\left(1 + \\frac{v}{\\sqrt{(1 + v^2)}}\\right) -\\frac{v}{2 (v^2 + 1)^{\\frac{3}{2}}} \\cdot \\sigma \\\\\n",
    "    &= \\frac{v(1 - \\sigma)}{2(v^2+1)^{\\frac{3}{2}}} - \\frac{1}{2} - \\frac{v}{2(1 + v^2)^{\\frac{1}{2}}} \\\\\n",
    "    &= \\frac{v(1 - \\sigma - (1 + v^2))}{2(v^2+1)^{\\frac{3}{2}}} - \\frac{1}{2}.\n",
    "\\end{align*}"
   ]
  },
  {
   "cell_type": "markdown",
   "id": "5281408d-dd27-4515-95f3-b23e5dd808ca",
   "metadata": {},
   "source": [
    "## Gradient descent on derivative by hand\n",
    "$$\n",
    "    = -\\frac{1}{2} y_i x_i - \\frac{1}{2} \\left[(1 - y_i w^t x_i)^2 + \\sigma^2\\right]^{-1/2} (1 - y_i w^T x_i) (-y_i x_i)\n",
    "$$"
   ]
  },
  {
   "cell_type": "code",
   "execution_count": 5,
   "id": "d370c7f9",
   "metadata": {},
   "outputs": [],
   "source": [
    "def nabla_psi(alpha, sigma):\n",
    "    v = 1 - alpha\n",
    "    return (v * (1 - sigma + (1 + v**2)))/(2 * np.sqrt((v**2 + 1))**3) - 1/2"
   ]
  },
  {
   "cell_type": "code",
   "execution_count": 6,
   "id": "c4dcb5d9",
   "metadata": {},
   "outputs": [],
   "source": [
    "def psi_m(alpha, sigma):\n",
    "    return Phi_m((1 - alpha)/sigma) * (1 - alpha) + phi_m((1 - alpha)/sigma) * sigma"
   ]
  },
  {
   "cell_type": "code",
   "execution_count": 7,
   "id": "d701e641-6f0f-44a6-9287-04bda241af3e",
   "metadata": {},
   "outputs": [],
   "source": [
    "def hinge_loss(alpha):\n",
    "    mx = lambda v: max(0, 1 - v)\n",
    "    return list(map(mx, alpha))\n",
    "\n",
    "def hinge_loss_grad(alpha):\n",
    "    piece_wise = lambda v: -1 if v < 1 else 0\n",
    "    return list(map(piece_wise, alpha))"
   ]
  },
  {
   "cell_type": "code",
   "execution_count": 14,
   "id": "67518da4-140c-4e43-a09f-24032210ab08",
   "metadata": {},
   "outputs": [
    {
     "data": {
      "image/png": "[encoded data removed]",
      "text/plain": [
       "<Figure size 545.714x212.121 with 2 Axes>"
      ]
     },
     "metadata": {},
     "output_type": "display_data"
    },
    {
     "data": {
      "text/plain": [
       "<Figure size 640x480 with 0 Axes>"
      ]
     },
     "metadata": {},
     "output_type": "display_data"
    }
   ],
   "source": [
    "fig, axs = plt.subplots(1, 2)\n",
    "xx = np.linspace(0, 2, 50)\n",
    "sigmas = [2e-5, 2e-1, 5e-1, 1]\n",
    "for s in sigmas:\n",
    "    axs[0].plot(xx, psi_m(xx, s), label=f\"$\\sigma$={s}\")\n",
    "    axs[1].plot(xx, -Phi_m((1 - xx)/s), label=f\"$\\sigma$={s}\")\n",
    "\n",
    "axs[0].plot(xx, hinge_loss(xx), label=\"True Hinge\", linestyle='--', c='black')\n",
    "axs[1].plot(xx, hinge_loss_grad(xx), label=\"True Hinge\", linestyle='--', c='black')\n",
    "axs[0].set_xlabel(\"$z$\")\n",
    "axs[0].set_ylabel(\"$\\psi_M(z; \\sigma)$\")\n",
    "axs[0].set_title(\"Smooth Hinge\")\n",
    "\n",
    "axs[1].set_title(\"Smooth Hinge 1st Derivative\")\n",
    "axs[1].set_xlabel(\"$z$\")\n",
    "axs[1].set_ylabel(\"$-\\Phi_M(v; \\sigma)$\")\n",
    "\n",
    "axs[0].set_xlim(0, 2)\n",
    "axs[1].set_xlim(0, 2)\n",
    "\n",
    "ws = 1.05 # 1.75\n",
    "hs = 1.65 # 1.25\n",
    "fig.set_size_inches(w=5.73/ws, h=3.5/hs)\n",
    "\n",
    "labels = [*[f\"$\\sigma$={s}\" for s in sigmas], \"True Hinge\"]\n",
    "fig.legend(labels, loc=\"outside center right\", bbox_to_anchor=(1.2, 0.55))\n",
    "\n",
    "plt.tight_layout()\n",
    "plt.show()\n",
    "plt.savefig('smoothhinge_sigma_comb.pgf', bbox_inches='tight', pad_inches=0)"
   ]
  },
  {
   "cell_type": "raw",
   "id": "f52acd41-fd45-4435-a316-bf23d884ca79",
   "metadata": {},
   "source": [
    "fig, ax = plt.subplots()\n",
    "xx = np.linspace(0, 2, 50)\n",
    "sigmas = [2e-5, 2e-1, 5e-1, 1]\n",
    "for s in sigmas:\n",
    "    ax.plot(xx, -Phi_m((1 - xx)/s), label=f\"$\\sigma$={s}\")\n",
    "\n",
    "ax.plot(xx, hinge_loss_grad(xx), label=\"True Hinge\", linestyle='--', c='black')\n",
    "ax.legend()\n",
    "ax.set_xlabel(\"$v$\")\n",
    "#ax.set_title(\"Smooth Hinge 1st Derivative\")\n",
    "ax.set_ylabel(\"$-\\Phi_M(v; \\sigma)$\")\n",
    "\n",
    "ws = 1.45 # 1.75\n",
    "hs = 1.35 # 1.25\n",
    "fig.set_size_inches(w=5.73/ws, h=3.5/hs)\n",
    "ax.set_xlim(0, 2)\n",
    "#ax.set_ylim(-1, 1)\n",
    "plt.tight_layout()\n",
    "plt.show()\n",
    "plt.savefig('smoothhinge_sigma_jacobian.pgf', bbox_inches='tight', pad_inches=0)"
   ]
  },
  {
   "cell_type": "code",
   "execution_count": 13,
   "id": "405b536b-1c5b-4930-b379-fc7543ac7bfe",
   "metadata": {},
   "outputs": [
    {
     "data": {
      "image/png": "[encoded data removed]",
      "text/plain": [
       "<Figure size 395.172x259.259 with 1 Axes>"
      ]
     },
     "metadata": {},
     "output_type": "display_data"
    },
    {
     "data": {
      "text/plain": [
       "<Figure size 640x480 with 0 Axes>"
      ]
     },
     "metadata": {},
     "output_type": "display_data"
    }
   ],
   "source": [
    "fig, ax = plt.subplots()\n",
    "xx = np.linspace(0, 2, 50)\n",
    "sigmas = [2e-5, 2e-1, 5e-1, 1]\n",
    "for s in sigmas:\n",
    "    ax.plot(xx, Phi_m_prime((1 - xx)/s)/s, label=f\"$\\sigma$={s}\")\n",
    "\n",
    "ax.legend()\n",
    "ax.set_title(\"Smooth Hinge 2nd Derivative\")\n",
    "ax.set_xlabel(\"$z$\")\n",
    "ax.set_ylabel(\"$\\Phi_M^{\\prime}(v; \\sigma)/\\sigma$\")\n",
    "\n",
    "ws = 1.45 # 1.75\n",
    "hs = 1.35 # 1.25\n",
    "fig.set_size_inches(w=5.73/ws, h=3.5/hs)\n",
    "ax.set_xlim(0, 2)\n",
    "#ax.set_ylim(-1, 1)\n",
    "plt.tight_layout()\n",
    "plt.show()\n",
    "plt.savefig('smoothhinge_sigma_hessian.pgf', bbox_inches='tight', pad_inches=0)"
   ]
  },
  {
   "cell_type": "code",
   "execution_count": 10,
   "id": "1656e3c5-aaee-445c-a2d0-1f0dae60fb92",
   "metadata": {},
   "outputs": [],
   "source": [
    "def L(w, X, y, sigma, lbd=0.3):\n",
    "    return 1/2 * lbd *  np.linalg.norm(w, ord=2)**2 + np.mean(psi_m(y * (X @ w), sigma))"
   ]
  },
  {
   "cell_type": "code",
   "execution_count": 11,
   "id": "4107635f",
   "metadata": {},
   "outputs": [],
   "source": [
    "def L_alt(w, X, y, sigma, lbd=0.3):\n",
    "    return np.mean(psi_m(y * (X @ w), sigma))"
   ]
  },
  {
   "cell_type": "raw",
   "id": "eab5891d-3e62-4ee3-b3d6-f64df0059a5b",
   "metadata": {},
   "source": [
    "#X, y = make_blobs(n_samples=200, n_features=2, centers=[[-1,-1], [1,1]], cluster_std=1.5)\n",
    "X, y = make_blobs(n_samples=150, n_features=2, centers=[[-0.15,0], [0.15,0]], cluster_std=0.1)\n",
    "#X, y = make_blobs(n_samples=250, n_features=2, centers=[[0,-1], [0,1]])\n",
    "#X, y = make_moons(n_samples=100, noise=0.2, random_state=13)\n",
    "y[np.where(y == 0)] = -1"
   ]
  },
  {
   "cell_type": "raw",
   "id": "302f2757-3815-4c70-b87e-90834a454d23",
   "metadata": {},
   "source": [
    "from sklearn.datasets import load_breast_cancer\n",
    "data = load_breast_cancer()\n",
    "X = data.data\n",
    "y = data.target\n",
    "y[np.where(y == 0)] = -1\n",
    "print(X)\n",
    "print(y)"
   ]
  },
  {
   "cell_type": "code",
   "execution_count": 12,
   "id": "1dfbfbb9-4bd8-4c86-8e47-d06231bef4d1",
   "metadata": {},
   "outputs": [
    {
     "ename": "NameError",
     "evalue": "name 'X' is not defined",
     "output_type": "error",
     "traceback": [
      "\u001b[0;31m---------------------------------------------------------------------------\u001b[0m",
      "\u001b[0;31mNameError\u001b[0m                                 Traceback (most recent call last)",
      "Cell \u001b[0;32mIn[12], line 2\u001b[0m\n\u001b[1;32m      1\u001b[0m \u001b[38;5;28;01mfrom\u001b[39;00m \u001b[38;5;21;01msklearn\u001b[39;00m\u001b[38;5;21;01m.\u001b[39;00m\u001b[38;5;21;01mpreprocessing\u001b[39;00m \u001b[38;5;28;01mimport\u001b[39;00m StandardScaler\n\u001b[0;32m----> 2\u001b[0m X \u001b[38;5;241m=\u001b[39m StandardScaler()\u001b[38;5;241m.\u001b[39mfit_transform(\u001b[43mX\u001b[49m)\n",
      "\u001b[0;31mNameError\u001b[0m: name 'X' is not defined"
     ]
    }
   ],
   "source": [
    "from sklearn.preprocessing import StandardScaler\n",
    "X = StandardScaler().fit_transform(X)"
   ]
  },
  {
   "cell_type": "code",
   "execution_count": null,
   "id": "277c8636-e2ea-467d-a695-0391139499b3",
   "metadata": {},
   "outputs": [],
   "source": [
    "clf = SVC(kernel='linear').fit(X, y)\n",
    "print(clf.coef_)\n",
    "print(clf.intercept_)"
   ]
  },
  {
   "cell_type": "code",
   "execution_count": null,
   "id": "2987c2c2-4335-421b-ad63-5ad3f2c5d637",
   "metadata": {},
   "outputs": [],
   "source": [
    "#X = np.c_[X, np.ones(X.shape[0])]"
   ]
  },
  {
   "cell_type": "code",
   "execution_count": null,
   "id": "076c05ee-3ae1-4be4-a050-d406a02a96b6",
   "metadata": {},
   "outputs": [],
   "source": [
    "print(X.shape)\n",
    "print(y.shape)\n",
    "\n",
    "n = X.shape[0]\n",
    "p = X.shape[1]"
   ]
  },
  {
   "cell_type": "code",
   "execution_count": null,
   "id": "28d600ed-4478-45b3-bb65-64b69dd3a3d1",
   "metadata": {},
   "outputs": [],
   "source": [
    "def nabla_psi_X(X, y, w, sigma):\n",
    "    #numerator = y @ X * (sigma * np.sqrt((1 - y @ X * w/sigma)**2 + 1)**3 + y @ X * w - sigma + 2)\n",
    "    numerator = (sigma * np.sqrt((1 - y @ X * w/sigma)**2 + 1)**3 + y @ X * w - sigma + 2)\n",
    "    denom = 2 * sigma * np.sqrt((1 - y @ X * w/sigma)**2 + 1)**3\n",
    "    return -numerator/denom"
   ]
  },
  {
   "cell_type": "code",
   "execution_count": null,
   "id": "73ad6570",
   "metadata": {},
   "outputs": [],
   "source": [
    "def nabla_fgd(X, y, w, sigma, lbd):\n",
    "    return (lbd * w - 1/n * y @ X * Phi_m((1 - y @ X * w)/sigma))\n",
    "    #return (1/2 * y @ X - 1/2 * 1/np.sqrt((1 - y @ X * w)**2 + sigma**2) @ (1 - y @ X * w) * (y @ X))\n",
    "\n",
    "def nabla_fgd_single(X, y, w, sigma, lbd):\n",
    "    return (lbd * w - 1/n * y * X * Phi_m((1 - y * X * w)/sigma))\n",
    "    #return (1/2 * y * X - 1/2 * 1/np.sqrt((1 - y * X * w)**2 + sigma**2) * (1 - y * X * w) * (y * X))"
   ]
  },
  {
   "cell_type": "code",
   "execution_count": null,
   "id": "9ffacf5d",
   "metadata": {},
   "outputs": [],
   "source": [
    "def hess_fgd(X, y, w, sigma, lbd):\n",
    "    d = phi_m((1 - y @ X * w)/sigma)\n",
    "    D = np.eye(n)\n",
    "    for i in range(n):\n",
    "        D[i, i] = d[i]\n",
    "        \n",
    "    hess = lbd * np.eye(p) + 1/n * (X @ D).T @ X\n",
    "    return hess"
   ]
  },
  {
   "cell_type": "code",
   "execution_count": null,
   "id": "d5d98c5c",
   "metadata": {},
   "outputs": [],
   "source": [
    "def hess_fgd_single(X, y, w, sigma, lbd):\n",
    "    d = phi_m((1 - y * X * w)/sigma)\n",
    "    D = np.eye(n)\n",
    "    for i in range(n):\n",
    "        D[i, i] = d[i]\n",
    "        \n",
    "    hess = lbd * np.eye(p) + 1/n * (X @ D).T @ X\n",
    "    return hess"
   ]
  },
  {
   "cell_type": "raw",
   "id": "940fa004-48a3-4142-a658-ed36cc10e543",
   "metadata": {},
   "source": [
    "# gradient testing\n",
    "w_og = np.zeros(p)\n",
    "n_iter = 2250\n",
    "eta = 1e-2\n",
    "sigma = 0.01\n",
    "lbd = 0.95\n",
    "\n",
    "alpha_t = 2.5 * eta * p/n\n",
    "#alpha_t = 7e-3/n\n",
    "\n",
    "w_true_og = np.zeros((n, p))\n",
    "w_cv_og = np.zeros((n, p))\n",
    "\n",
    "thresh = 1e-5\n",
    "\n",
    "for t in range(n_iter):\n",
    "    f_grad = nabla_fgd(X, y, w_og, sigma, lbd)\n",
    "    f_hess = hess_fgd(X, y, w_og, sigma, lbd)\n",
    "    \n",
    "    if np.linalg.norm(f_grad) < thresh:\n",
    "        print(f\"stopping early at iteration {t}\")\n",
    "        break\n",
    "    \n",
    "    hess_per_sample = np.zeros((n, p, p))\n",
    "    for i in range(n):\n",
    "        hess_per_sample[i] = hess_fgd_single(X[i], y[i], w_og, sigma, lbd)\n",
    "        \n",
    "    grad_per_sample = np.zeros((n, p))\n",
    "    for i in range(n):\n",
    "        grad_per_sample[i] = nabla_fgd_single(X[i], y[i], w_og, sigma, lbd)\n",
    "        \n",
    "    hess_minus_i = f_hess - hess_per_sample\n",
    "    grad_minus_i = f_grad - grad_per_sample\n",
    "    \n",
    "    #print(f_hess)\n",
    "    w_cv_og = w_cv_og - alpha_t * grad_minus_i - alpha_t * np.vectorize(np.matmul, signature='(p, p),(p)->(p)')(hess_minus_i, (w_cv_og - w_og))\n",
    "    #w_cv_og /= np.asarray([np.linalg.norm(w_cv_og, axis=1)] * p).T\n",
    "    \n",
    "    for i in range(n):\n",
    "        X_temp = np.delete(X, (i), axis=0)\n",
    "        y_temp = np.delete(y, (i), axis=0)\n",
    "        w_true_og[i] = w_true_og[i] - eta * nabla_fgd(X_temp, y_temp, w_true_og[i], sigma, lbd)\n",
    "        #w_true_og[i] = w_true_og[i] - eta * (lbd * w_true_og[i] - y @ X * Phi_m((1 - y_temp @ X_temp * w_true_og[i])/sigma))\n",
    "        \n",
    "    #w_true_og /= np.asarray([np.linalg.norm(w_true_og, axis=1)] * p).T\n",
    "    w_og = w_og - eta * f_grad\n",
    "    #w_og /= np.linalg.norm(w_og)\n",
    "    print(f\"{w_og} | IACV: {np.mean(np.linalg.norm(w_true_og - w_cv_og, 2, axis=1))} | baseline: {np.mean(np.linalg.norm(w_true_og - w_og, 2, axis=1))}\")\n",
    "\n",
    "\n",
    "#w_og /= np.linalg.norm(w_og)\n",
    "print(np.mean(w_true_og, axis=0))\n",
    "print(np.mean(w_cv_og, axis=0))\n",
    "#w_og = w_og/np.linalg.norm(w_og)\n",
    "#print(w_og/np.linalg.norm(w_og))"
   ]
  },
  {
   "cell_type": "raw",
   "id": "86883998-eb08-404c-98c4-39612d1f4b58",
   "metadata": {},
   "source": [
    "print(np.mean(np.linalg.norm(w_true_og - w_cv_og, 2, axis=1)))\n",
    "print(np.mean(np.linalg.norm(w_true_og - w_og, 2, axis=1)))"
   ]
  },
  {
   "cell_type": "raw",
   "id": "f06e25a4-9673-45fd-885e-0367934369a9",
   "metadata": {},
   "source": [
    "# compute FG accuracy\n",
    "\n",
    "fg_correct = 0\n",
    "for i, x_i in enumerate(X):\n",
    "    fg_correct += (np.sign(x_i @ w_og) == y[i])\n",
    "    \n",
    "print(fg_correct/X.shape[0])"
   ]
  },
  {
   "cell_type": "raw",
   "id": "6b75bb47-8d07-43d2-b536-065452800ca7",
   "metadata": {},
   "source": [
    "# compute base SVM accuracy\n",
    "from sklearn.metrics import accuracy_score\n",
    "\n",
    "y_pred = clf.predict(X)\n",
    "print(accuracy_score(y, y_pred))"
   ]
  },
  {
   "cell_type": "raw",
   "id": "8b97e20c-9c95-40b0-9178-3422ff6be4c9",
   "metadata": {},
   "source": [
    "def plot_line(ax, theta, label, color, **kwargs):\n",
    "    #theta[:2] /= np.linalg.norm(theta[:2], 2) ## probably get rid of this\n",
    "    a = -theta[0] / theta[1]\n",
    "    #yy = a * xx - theta[2] / theta[1]\n",
    "    yy = a * xx\n",
    "    ax.plot(xx, yy, label=label, c=color, **kwargs)\n",
    "\n",
    "fig, ax = plt.subplots()\n",
    "xx = np.linspace(np.min(X[:, 0]), np.max(X[:, 0]))\n",
    "ax.scatter(*X.T, c=y, cmap=plt.cm.bwr, linewidths=3)\n",
    "\n",
    "#mins = np.argsort(np.sum(w_cv, axis=1), axis=0)[:50]\n",
    "#print(np.sum(w_cv, axis=1)[mins])\n",
    "#ax.scatter(*X[mins].T, c=\"black\", linewidths=10)\n",
    "\n",
    "#plot_line(ax, [*clf.coef_[0], clf.intercept_[0]], \"sklearn\", \"plum\")\n",
    "#plot_line(ax, w, f\"SmoothHinge ($\\sigma$={sigma})\", \"purple\")\n",
    "plot_line(ax, w_og, f\"FGD\", \"green\")\n",
    "\n",
    "ax.set_xlim(np.min(X[:, 0]), np.max(X[:, 0]))\n",
    "ax.set_ylim(np.min(X[:, 1]), np.max(X[:, 1]))\n",
    "ax.legend()\n",
    "\n",
    "#ws = 1.45 # 1.75\n",
    "#hs = 1.35 # 1.25\n",
    "#fig.set_size_inches(w=5.73/ws, h=3.5/hs)\n",
    "plt.tight_layout()\n",
    "plt.show()\n",
    "#plt.savefig('smoothhinge_comp.pgf', bbox_inches='tight', pad_inches=0)"
   ]
  },
  {
   "cell_type": "raw",
   "id": "c19e4353-9ca0-49a9-b790-14410e480ba3",
   "metadata": {},
   "source": [
    "fig, ax = plt.subplots()\n",
    "xx = np.linspace(np.min(X[:, 0]), np.max(X[:, 0]))\n",
    "ax.scatter(*X.T, c=y, cmap=plt.cm.bwr, linewidths=3)\n",
    "\n",
    "#median_w = np.median(np.abs(w_cv_og), axis=0)\n",
    "median_w = np.median(w_cv_og, axis=0)\n",
    "#median_w /= np.linalg.norm(median_w, 2)\n",
    "plot_line(ax, median_w, \"IACV median\", \"black\", linestyle='--')\n",
    "\n",
    "#mean_w = np.mean(np.abs(w_cv_og), axis=0)\n",
    "mean_w = np.mean(w_cv_og, axis=0)\n",
    "#mean_w /= np.linalg.norm(mean_w, 2)\n",
    "plot_line(ax, mean_w, \"IACV mean\", \"purple\")\n",
    "\n",
    "#w_true_mean = np.mean(np.abs(w_true_og), axis=0)\n",
    "w_true_mean = np.mean(w_true_og, axis=0)\n",
    "w_true_mean /= np.linalg.norm(w_true_mean, 2)\n",
    "\n",
    "plot_line(ax, w_true_mean, f\"True CV Mean\", \"blue\")\n",
    "plot_line(ax, w_og, f\"SmoothHinge\", \"green\")\n",
    "\n",
    "plot_line(ax, [*clf.coef_[0], clf.intercept_[0]], \"sklearn\", \"red\", alpha=0.8)\n",
    "\n",
    "ax.set_xlim(np.min(X[:, 0]), np.max(X[:, 0]))\n",
    "ax.set_ylim(np.min(X[:, 1]), np.max(X[:, 1]))\n",
    "fig.legend()\n",
    "\n",
    "#ws = 1.45 # 1.75\n",
    "#hs = 1.35 # 1.25\n",
    "#fig.set_size_inches(w=5.73/ws, h=3.5/hs)\n",
    "plt.tight_layout()\n",
    "plt.show()\n",
    "#plt.savefig('smoothhinge_stats.pgf', bbox_inches='tight', pad_inches=0)"
   ]
  },
  {
   "cell_type": "raw",
   "id": "fc743f1c-3259-4612-8ffe-a70a008f8af4",
   "metadata": {},
   "source": [
    "fig, ax = plt.subplots()\n",
    "xx = np.linspace(np.min(X[:, 0]), np.max(X[:, 0]))\n",
    "ax.scatter(*X.T, c=y, cmap=plt.cm.bwr, linewidths=3)\n",
    "\n",
    "t_percentile = 85\n",
    "l_percentile = 100 - t_percentile\n",
    "top_w = np.asarray([np.percentile(w_cv_og[:, i], t_percentile) for i in range(w_cv_og.shape[1])])\n",
    "#top_w = np.abs(top_w)\n",
    "#top_w /= np.linalg.norm(top_w, 2)\n",
    "print(top_w)\n",
    "plot_line(ax, top_w, f\"{t_percentile}th Percentile\", \"black\", linestyle='--')\n",
    "\n",
    "bottom_w = np.asarray([np.percentile(w_cv_og[:, i], l_percentile) for i in range(w_cv_og.shape[1])])\n",
    "#bottom_w = np.abs(bottom_w)\n",
    "#bottom_w /= np.linalg.norm(bottom_w, 2)\n",
    "print(bottom_w)\n",
    "plot_line(ax, bottom_w, f\"{l_percentile}th Percentile\", \"black\")\n",
    "\n",
    "#mid_p = (np.abs(bottom_w) + np.abs(top_w))/2\n",
    "#mid_p = (bottom_w + top_w)/2\n",
    "#print(mid_p)\n",
    "#mid_p /= np.linalg.norm(mid_p, 2)\n",
    "#plot_line(ax, median_w, \"Median\", \"plum\")\n",
    "plot_line(ax, mean_w, \"Mean\", \"plum\")\n",
    "\n",
    "ax.set_xlim(np.min(X[:, 0]), np.max(X[:, 0]))\n",
    "ax.set_ylim(np.min(X[:, 1]), np.max(X[:, 1]))\n",
    "ax.legend()\n",
    "plt.show()"
   ]
  },
  {
   "cell_type": "raw",
   "id": "c31585d6-2d7a-40c9-9f25-551be61e1313",
   "metadata": {},
   "source": [
    "fig, ax = plt.subplots()\n",
    "xx = np.linspace(np.min(X[:, 0]), np.max(X[:, 0]))\n",
    "plt.scatter(X[:, 0], X[:, 1], c=np.sum(w_cv_og, axis=1))\n",
    "plt.colorbar()\n",
    "plt.plot()\n",
    "plt.tight_layout()\n",
    "#plt.savefig('smoothhinge_colorbar.png', dpi=400, bbox_inches='tight', pad_inches=0)"
   ]
  },
  {
   "cell_type": "raw",
   "id": "2e8c8bfd-f5ef-459a-83ec-6cb2efb0524b",
   "metadata": {},
   "source": [
    "fig, ax = plt.subplots()\n",
    "xx = np.linspace(np.min(X[:, 0]), np.max(X[:, 0]))\n",
    "plt.scatter(X[:, 0], X[:, 1], c=np.sum(w_true_og, axis=1))\n",
    "plt.colorbar()\n",
    "plt.plot()\n",
    "plt.tight_layout()\n",
    "#plt.savefig('smoothhinge_colorbar.png', dpi=400, bbox_inches='tight', pad_inches=0)"
   ]
  }
 ],
 "metadata": {
  "kernelspec": {
   "display_name": "Python 3 (ipykernel)",
   "language": "python",
   "name": "python3"
  },
  "language_info": {
   "codemirror_mode": {
    "name": "ipython",
    "version": 3
   },
   "file_extension": ".py",
   "mimetype": "text/x-python",
   "name": "python",
   "nbconvert_exporter": "python",
   "pygments_lexer": "ipython3",
   "version": "3.11.6"
  }
 },
 "nbformat": 4,
 "nbformat_minor": 5
}
