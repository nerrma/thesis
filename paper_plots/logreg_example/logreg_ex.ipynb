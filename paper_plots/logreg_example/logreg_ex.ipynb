{
 "cells": [
  {
   "cell_type": "code",
   "execution_count": 1,
   "id": "0e075a7b",
   "metadata": {},
   "outputs": [],
   "source": [
    "import numpy as np\n",
    "import matplotlib\n",
    "from matplotlib import pyplot as plt\n",
    "import time\n",
    "\n",
    "#matplotlib.use(\"pgf\")\n",
    "#matplotlib.rcParams.update({\n",
    "#    \"pgf.texsystem\": \"pdflatex\",\n",
    "#    'font.family': 'serif',\n",
    "#    'text.usetex': True,\n",
    "#    'pgf.rcfonts': False,\n",
    "#})"
   ]
  },
  {
   "cell_type": "code",
   "execution_count": 2,
   "id": "92949687",
   "metadata": {},
   "outputs": [],
   "source": [
    "def sigmoid(z):\n",
    "    return 1/(1 + np.exp(-z))"
   ]
  },
  {
   "cell_type": "code",
   "execution_count": 3,
   "id": "8eb4ff73",
   "metadata": {},
   "outputs": [],
   "source": [
    "def sample_from_logreg(p=20, n=500, seed=984):\n",
    "    np.random.seed(seed)\n",
    "    X = np.random.normal(0, 1, size=(n, p))  # sample (n, p) from standard normal\n",
    "\n",
    "    theta_star = np.zeros(p).reshape(-1, 1)\n",
    "    non_zero = p//5\n",
    "    #non_zero = p//2\n",
    "    for i in np.random.choice(p, non_zero):\n",
    "        theta_star[i] = np.random.normal(0, 1)\n",
    "\n",
    "    probs = np.exp(X @ theta_star) / (np.exp(X @ theta_star) + 1)\n",
    "    y = np.zeros(n)\n",
    "\n",
    "    for i in range(0, n):\n",
    "        y[i] = np.random.binomial(1, *probs[i])\n",
    "\n",
    "    return (X, theta_star, y)"
   ]
  },
  {
   "cell_type": "code",
   "execution_count": 4,
   "id": "ec9f6224",
   "metadata": {},
   "outputs": [],
   "source": [
    "def l(X, y, theta):\n",
    "    return -y @ np.log(sigmoid(X @ theta)) - (1 - y) @ np.log(1 - sigmoid(X @ theta)) + np.linalg.norm(theta, 1)"
   ]
  },
  {
   "cell_type": "code",
   "execution_count": 5,
   "id": "a7d8171b",
   "metadata": {},
   "outputs": [],
   "source": [
    "def nabla_l(X, y, theta):\n",
    "    return -X.T @ y + (X.T @ sigmoid(X @ theta)).ravel()"
   ]
  },
  {
   "cell_type": "code",
   "execution_count": 6,
   "id": "9885ad64",
   "metadata": {},
   "outputs": [],
   "source": [
    "def nabla_l_i(X, y, theta):\n",
    "    return -X * y + X * sigmoid(X @ theta)"
   ]
  },
  {
   "cell_type": "code",
   "execution_count": 7,
   "id": "60dcfc31",
   "metadata": {},
   "outputs": [],
   "source": [
    "def hess_l(X, y, theta):\n",
    "    return (X.T * (sigmoid(X @ theta) * (1 - sigmoid(X @ theta))) @ X)"
   ]
  },
  {
   "cell_type": "code",
   "execution_count": 8,
   "id": "adae47f7",
   "metadata": {},
   "outputs": [],
   "source": [
    "n = 500\n",
    "p = 50\n",
    "X, theta_star, y = sample_from_logreg(p=p, n=n)"
   ]
  },
  {
   "cell_type": "code",
   "execution_count": 9,
   "id": "c4f1aa7b",
   "metadata": {},
   "outputs": [],
   "source": [
    "def experiment(update_rule, n_iter=50, **kwargs):\n",
    "    theta = np.zeros(p)\n",
    "    losses = np.zeros(n_iter)\n",
    "    grad = np.zeros(n_iter)\n",
    "    losses[0] = l(X, y, theta)\n",
    "    for i in range(n_iter):\n",
    "        losses[i] = l(X, y, theta)\n",
    "        grad[i] = np.linalg.norm(nabla_l(X, y, theta), 2)\n",
    "        theta = update_rule(X, y, theta, **kwargs)\n",
    "    return (losses, theta)"
   ]
  },
  {
   "cell_type": "code",
   "execution_count": 10,
   "id": "f672f30a",
   "metadata": {},
   "outputs": [],
   "source": [
    "n_iter = 50"
   ]
  },
  {
   "cell_type": "code",
   "execution_count": 11,
   "id": "b9e700bc",
   "metadata": {},
   "outputs": [
    {
     "name": "stdout",
     "output_type": "stream",
     "text": [
      "0.008607625961303711\n"
     ]
    }
   ],
   "source": [
    "def gd_update(X, y, theta, eta=0.01):\n",
    "    return theta - eta * nabla_l(X, y, theta)\n",
    "\n",
    "t1 = time.time()\n",
    "gd_loss, gd_theta = experiment(gd_update, n_iter=n_iter)\n",
    "t2 = time.time()\n",
    "print(t2 - t1)"
   ]
  },
  {
   "cell_type": "code",
   "execution_count": 12,
   "id": "353dd125",
   "metadata": {},
   "outputs": [],
   "source": [
    "def ns_update(X, y, theta):\n",
    "    return theta - (np.linalg.inv(hess_l(X, y, theta)) @ nabla_l(X, y, theta))\n",
    "\n",
    "ns_loss, ns_theta = experiment(ns_update, n_iter=n_iter)"
   ]
  },
  {
   "cell_type": "code",
   "execution_count": 13,
   "id": "0bf635db",
   "metadata": {},
   "outputs": [
    {
     "name": "stdout",
     "output_type": "stream",
     "text": [
      "0.008568286895751953\n"
     ]
    }
   ],
   "source": [
    "def sgd_update(X, y, theta, eta=0.01, batch_size=100):\n",
    "    i = np.random.choice(X.shape[0], size=batch_size)\n",
    "    theta -= eta * nabla_l(X[i], y[i], theta)\n",
    "    return theta \n",
    "\n",
    "\n",
    "t1 = time.time()\n",
    "sgd_loss, sgd_theta = experiment(sgd_update, n_iter=n_iter)\n",
    "t2 = time.time()\n",
    "print(t2 - t1)"
   ]
  },
  {
   "cell_type": "code",
   "execution_count": 14,
   "id": "8f3de91a",
   "metadata": {},
   "outputs": [
    {
     "name": "stdout",
     "output_type": "stream",
     "text": [
      "[ 0.00000000e+00  1.05869729e-01 -0.00000000e+00 -1.13012274e+00\n",
      "  0.00000000e+00  1.15888843e+00 -2.09630325e-01 -0.00000000e+00\n",
      "  0.00000000e+00  0.00000000e+00  3.11990608e-01  1.94359380e-02\n",
      "  0.00000000e+00  7.55338289e-04  6.02883236e-02  0.00000000e+00\n",
      " -0.00000000e+00 -0.00000000e+00  0.00000000e+00  3.70882427e-02\n",
      "  0.00000000e+00 -1.77769223e-02  6.02813732e-02 -0.00000000e+00\n",
      " -0.00000000e+00 -1.00801323e-01  0.00000000e+00  0.00000000e+00\n",
      "  1.83073041e+00  3.86385276e-02  1.46063411e-02 -8.47273658e-03\n",
      "  0.00000000e+00 -2.61552006e-01  0.00000000e+00 -0.00000000e+00\n",
      " -0.00000000e+00  2.59286747e-01 -1.35367489e-02 -7.45724633e-02\n",
      " -1.91407322e-01 -6.71227935e-02 -2.96510871e-03  4.11383499e-01\n",
      "  6.17940598e-02  0.00000000e+00  0.00000000e+00 -0.00000000e+00\n",
      " -0.00000000e+00 -0.00000000e+00]\n"
     ]
    }
   ],
   "source": [
    "#def soft_thresholding(theta, lbd):\n",
    "#    theta[np.where(np.abs(theta) <= lbd)] = 0\n",
    "#    theta[np.where(theta > lbd)] -= lbd\n",
    "#    theta[np.where(theta < -lbd)] += lbd\n",
    "#    return theta\n",
    "\n",
    "soft_thresholding = lambda theta, lbd: np.sign(theta) * np.fmax(np.zeros(theta.shape[0]), np.abs(theta) - lbd)\n",
    "    \n",
    "def proxgd_update(X, y, theta, eta=0.01, lbd=0.05):\n",
    "    return soft_thresholding(theta - eta * nabla_l(X, y, theta), lbd)\n",
    "\n",
    "proxgd_loss, lasso_theta = experiment(proxgd_update, n_iter=n_iter)\n",
    "print(lasso_theta)"
   ]
  },
  {
   "cell_type": "code",
   "execution_count": 14,
   "id": "cb46229b",
   "metadata": {},
   "outputs": [
    {
     "name": "stdout",
     "output_type": "stream",
     "text": [
      "[ 0.00000000e+00  1.05869729e-01 -0.00000000e+00 -1.13012274e+00\n",
      "  0.00000000e+00  1.15888843e+00 -2.09630325e-01 -0.00000000e+00\n",
      "  0.00000000e+00  0.00000000e+00  3.11990608e-01  1.94359380e-02\n",
      "  0.00000000e+00  7.55338289e-04  6.02883236e-02  0.00000000e+00\n",
      " -0.00000000e+00 -0.00000000e+00  0.00000000e+00  3.70882427e-02\n",
      "  0.00000000e+00 -1.77769223e-02  6.02813732e-02 -0.00000000e+00\n",
      " -0.00000000e+00 -1.00801323e-01  0.00000000e+00  0.00000000e+00\n",
      "  1.83073041e+00  3.86385276e-02  1.46063411e-02 -8.47273658e-03\n",
      "  0.00000000e+00 -2.61552006e-01  0.00000000e+00 -0.00000000e+00\n",
      " -0.00000000e+00  2.59286747e-01 -1.35367489e-02 -7.45724633e-02\n",
      " -1.91407322e-01 -6.71227935e-02 -2.96510871e-03  4.11383499e-01\n",
      "  6.17940598e-02  0.00000000e+00  0.00000000e+00 -0.00000000e+00\n",
      " -0.00000000e+00 -0.00000000e+00]\n"
     ]
    }
   ],
   "source": [
    "def proxgd_update(X, y, theta, eta=0.01, lbd=0.05):\n",
    "    for i in range(X.shape[1]):\n",
    "        theta[i] = soft_thresholding(, lbd/np.linalg.norm(X, 2)**2)\n",
    "    return theta\n",
    "\n",
    "proxgd_loss, lasso_theta = experiment(proxgd_update, n_iter=n_iter)\n",
    "print(lasso_theta)"
   ]
  },
  {
   "cell_type": "code",
   "execution_count": 15,
   "id": "a590faa9",
   "metadata": {},
   "outputs": [
    {
     "data": {
      "image/png": "[encoded data removed]",
      "text/plain": [
       "<Figure size 458.4x259.259 with 1 Axes>"
      ]
     },
     "metadata": {},
     "output_type": "display_data"
    }
   ],
   "source": [
    "fig, ax = plt.subplots()\n",
    "ax.stem(theta_star, linefmt='grey', markerfmt='D', label=\"$\\\\theta^*$\")\n",
    "ax.stem(lasso_theta, label=\"$\\hat{\\\\theta}_{LASSO}$\")\n",
    "ax.set_xlabel(\"Feature Number\")\n",
    "ax.set_ylabel(\"Coefficient Value\")\n",
    "ax.legend()\n",
    "ws = 1.25\n",
    "hs = 1.35\n",
    "fig.set_size_inches(w=5.73/ws, h=3.5/hs)\n",
    "#plt.savefig('theta_lasso_sparsity.pgf', bbox_inches='tight', pad_inches=0)"
   ]
  },
  {
   "cell_type": "code",
   "execution_count": 16,
   "id": "4b5915ac",
   "metadata": {},
   "outputs": [
    {
     "data": {
      "image/png": "[encoded data removed]",
      "text/plain": [
       "<Figure size 458.4x259.259 with 1 Axes>"
      ]
     },
     "metadata": {},
     "output_type": "display_data"
    }
   ],
   "source": [
    "fig, ax = plt.subplots()\n",
    "ax.stem(theta_star, linefmt='grey', markerfmt='D', label=\"$\\\\theta^*$\")\n",
    "ax.stem(gd_theta, label=\"$\\hat{\\\\theta}_{MLE}$\")\n",
    "ax.set_xlabel(\"Feature Number\")\n",
    "ax.set_ylabel(\"Coefficient Value\")\n",
    "ax.legend()\n",
    "ws = 1.25\n",
    "hs = 1.35\n",
    "fig.set_size_inches(w=5.73/ws, h=3.5/hs)\n",
    "#plt.savefig('theta_mle_sparsity.pgf', bbox_inches='tight', pad_inches=0)"
   ]
  },
  {
   "cell_type": "code",
   "execution_count": 17,
   "id": "41d904ce",
   "metadata": {},
   "outputs": [
    {
     "data": {
      "image/png": "[encoded data removed]",
      "text/plain": [
       "<Figure size 327.429x259.259 with 1 Axes>"
      ]
     },
     "metadata": {},
     "output_type": "display_data"
    }
   ],
   "source": [
    "fig, ax = plt.subplots()\n",
    "ax.plot(proxgd_loss, label=\"ISTA\", c='g')\n",
    "#ax.set_ylabel('$\\ell(\\\\theta; D)$', rotation=0, labelpad=20)\n",
    "ax.set_ylabel('$\\ell(\\\\theta; D)$')\n",
    "ax.set_xlabel('Iteration Number')\n",
    "ws = 1.75\n",
    "hs = 1.35\n",
    "fig.set_size_inches(w=5.73/ws, h=3.5/hs)\n",
    "#plt.savefig('ista_loss.pgf', bbox_inches='tight', pad_inches=0)"
   ]
  },
  {
   "cell_type": "code",
   "execution_count": 18,
   "id": "469c5909",
   "metadata": {},
   "outputs": [
    {
     "data": {
      "image/png": "[encoded data removed]",
      "text/plain": [
       "<Figure size 327.429x259.259 with 1 Axes>"
      ]
     },
     "metadata": {},
     "output_type": "display_data"
    }
   ],
   "source": [
    "fig, ax = plt.subplots()\n",
    "ax.plot(gd_loss, label=\"GD\", c='b')\n",
    "ax.plot(ns_loss, label=\"NM\", c='purple')\n",
    "ax.plot(sgd_loss, label=\"SGD\", c='r')\n",
    "#ax.set_ylabel('$\\ell(\\\\theta; D)$', rotation=0, labelpad=20)\n",
    "ax.set_ylabel('$\\ell(\\\\theta; D)$')\n",
    "ax.set_xlabel('Iteration Number')\n",
    "ax.legend()\n",
    "ws = 1.75\n",
    "hs = 1.35\n",
    "fig.set_size_inches(w=5.73/ws, h=3.5/hs)\n",
    "#plt.savefig('all_loss.pgf', bbox_inches='tight', pad_inches=0)"
   ]
  },
  {
   "cell_type": "raw",
   "id": "6ccae577",
   "metadata": {},
   "source": [
    "fig, ax = plt.subplots()\n",
    "ax.plot(sgd_loss, label=\"SGD\", c='r')\n",
    "ax.set_ylabel('$\\ell(\\\\theta; D)$')\n",
    "ax.set_xlabel('Iteration Number')\n",
    "ws = 1.95\n",
    "hs = 1.65\n",
    "fig.set_size_inches(w=5.73/ws, h=3.5/hs)\n",
    "plt.savefig('sgd_loss.pgf', bbox_inches='tight', pad_inches=0)"
   ]
  },
  {
   "cell_type": "raw",
   "id": "be6e9d5c",
   "metadata": {},
   "source": [
    "fig, ax = plt.subplots()\n",
    "ax.plot(gd_loss, label=\"GD\", c='b')\n",
    "#ax.set_ylabel('$\\\\nabla_{\\\\theta}\\ell(\\\\theta)$', rotation=0, labelpad=20)\n",
    "ax.set_ylabel('$\\ell(\\\\theta)$')\n",
    "ax.set_xlabel('Iteration Number')\n",
    "ws = 1.95\n",
    "hs = 1.65\n",
    "fig.set_size_inches(w=5.73/ws, h=3.5/hs)\n",
    "plt.savefig('gd_loss.pgf', bbox_inches='tight', pad_inches=0)"
   ]
  },
  {
   "cell_type": "raw",
   "id": "5e7a6b54",
   "metadata": {},
   "source": [
    "fig, ax = plt.subplots()\n",
    "ax.plot(ns_loss, label=\"NM\", c='purple')\n",
    "ax.set_ylabel('$\\ell(\\\\theta)$')\n",
    "ax.set_xlabel('Iteration Number')\n",
    "ws = 1.95\n",
    "hs = 1.65\n",
    "fig.set_size_inches(w=5.73/ws, h=3.5/hs)\n",
    "plt.savefig('ns_loss.pgf', bbox_inches='tight', pad_inches=0)"
   ]
  }
 ],
 "metadata": {
  "kernelspec": {
   "display_name": "Python 3 (ipykernel)",
   "language": "python",
   "name": "python3"
  },
  "language_info": {
   "codemirror_mode": {
    "name": "ipython",
    "version": 3
   },
   "file_extension": ".py",
   "mimetype": "text/x-python",
   "name": "python",
   "nbconvert_exporter": "python",
   "pygments_lexer": "ipython3",
   "version": "3.11.3"
  }
 },
 "nbformat": 4,
 "nbformat_minor": 5
}
