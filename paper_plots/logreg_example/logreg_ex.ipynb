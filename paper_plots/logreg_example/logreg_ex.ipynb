{
 "cells": [
  {
   "cell_type": "code",
   "execution_count": 1,
   "id": "0e075a7b",
   "metadata": {},
   "outputs": [],
   "source": [
    "import numpy as np\n",
    "import matplotlib\n",
    "from matplotlib import pyplot as plt\n",
    "\n",
    "#matplotlib.use(\"pgf\")\n",
    "#matplotlib.rcParams.update({\n",
    "#    \"pgf.texsystem\": \"pdflatex\",\n",
    "#    'font.family': 'serif',\n",
    "#    'text.usetex': True,\n",
    "#    'pgf.rcfonts': False,\n",
    "#})"
   ]
  },
  {
   "cell_type": "code",
   "execution_count": 2,
   "id": "92949687",
   "metadata": {},
   "outputs": [],
   "source": [
    "def sigmoid(z):\n",
    "    return 1/(1 + np.exp(-z))"
   ]
  },
  {
   "cell_type": "code",
   "execution_count": 3,
   "id": "8eb4ff73",
   "metadata": {},
   "outputs": [],
   "source": [
    "def sample_from_logreg(p=20, n=500, seed=984):\n",
    "    np.random.seed(seed)\n",
    "    X = np.random.normal(0, 1, size=(n, p))  # sample (n, p) from standard normal\n",
    "\n",
    "    theta_star = np.zeros(p).reshape(-1, 1)\n",
    "    non_zero = p//2\n",
    "    for i in np.random.choice(p, non_zero):\n",
    "        theta_star[i] = np.random.normal(0, 1)\n",
    "\n",
    "    probs = np.exp(X @ theta_star) / (np.exp(X @ theta_star) + 1)\n",
    "    y = np.zeros(n)\n",
    "\n",
    "    for i in range(0, n):\n",
    "        y[i] = np.random.binomial(1, probs[i])\n",
    "\n",
    "    return (X, theta_star, y)"
   ]
  },
  {
   "cell_type": "code",
   "execution_count": 4,
   "id": "ec9f6224",
   "metadata": {},
   "outputs": [],
   "source": [
    "def l(X, y, theta):\n",
    "    return -y @ np.log(sigmoid(X @ theta)) - (1 - y) @ np.log(1 - sigmoid(X @ theta))"
   ]
  },
  {
   "cell_type": "code",
   "execution_count": 5,
   "id": "a7d8171b",
   "metadata": {},
   "outputs": [],
   "source": [
    "def nabla_l(X, y, theta):\n",
    "    return -X.T @ y + (X.T @ sigmoid(X @ theta)).ravel()"
   ]
  },
  {
   "cell_type": "code",
   "execution_count": 6,
   "id": "9885ad64",
   "metadata": {},
   "outputs": [],
   "source": [
    "def nabla_l_i(X, y, theta):\n",
    "    return -X * y + X * sigmoid(X @ theta)"
   ]
  },
  {
   "cell_type": "code",
   "execution_count": 7,
   "id": "60dcfc31",
   "metadata": {},
   "outputs": [],
   "source": [
    "def hess_l(X, y, theta):\n",
    "    return (X.T * (sigmoid(X @ theta) * (1 - sigmoid(X @ theta))) @ X)"
   ]
  },
  {
   "cell_type": "code",
   "execution_count": 8,
   "id": "adae47f7",
   "metadata": {},
   "outputs": [],
   "source": [
    "n = 300\n",
    "p = 50\n",
    "X, theta_star, y = sample_from_logreg(p=p, n=n)"
   ]
  },
  {
   "cell_type": "code",
   "execution_count": 9,
   "id": "c4f1aa7b",
   "metadata": {},
   "outputs": [],
   "source": [
    "def experiment(update_rule, n_iter=50, **kwargs):\n",
    "    theta = np.zeros(p)\n",
    "    losses = np.zeros(n_iter)\n",
    "    losses[0] = l(X, y, theta)\n",
    "    for i in range(n_iter):\n",
    "        losses[i] = l(X, y, theta)\n",
    "        theta = update_rule(X, y, theta, **kwargs)\n",
    "    return losses"
   ]
  },
  {
   "cell_type": "code",
   "execution_count": 10,
   "id": "f672f30a",
   "metadata": {},
   "outputs": [],
   "source": [
    "n_iter = 50"
   ]
  },
  {
   "cell_type": "code",
   "execution_count": 11,
   "id": "b9e700bc",
   "metadata": {},
   "outputs": [],
   "source": [
    "def gd_update(X, y, theta, eta=0.01):\n",
    "    return theta - eta * nabla_l(X, y, theta)\n",
    "\n",
    "gd_loss = experiment(gd_update, n_iter=n_iter)"
   ]
  },
  {
   "cell_type": "code",
   "execution_count": 12,
   "id": "353dd125",
   "metadata": {},
   "outputs": [],
   "source": [
    "def ns_update(X, y, theta):\n",
    "    return theta - (np.linalg.inv(hess_l(X, y, theta)) @ nabla_l(X, y, theta))\n",
    "\n",
    "ns_loss = experiment(ns_update, n_iter=n_iter)"
   ]
  },
  {
   "cell_type": "code",
   "execution_count": 13,
   "id": "0bf635db",
   "metadata": {},
   "outputs": [],
   "source": [
    "def sgd_update(X, y, theta, eta=0.01):\n",
    "    idxs = np.random.choice(X.shape[0], size=X.shape[0])\n",
    "    for i in idxs:\n",
    "        theta -= eta * nabla_l_i(X[i], y[i], theta)\n",
    "    return theta \n",
    "\n",
    "sgd_loss = experiment(sgd_update, n_iter=n_iter)"
   ]
  },
  {
   "cell_type": "code",
   "execution_count": 16,
   "id": "83d7718c",
   "metadata": {},
   "outputs": [
    {
     "data": {
      "image/png": "[encoded data removed]",
      "text/plain": [
       "<Figure size 395.172x304.348 with 1 Axes>"
      ]
     },
     "metadata": {},
     "output_type": "display_data"
    }
   ],
   "source": [
    "fig, ax = plt.subplots()\n",
    "ax.plot(gd_loss, label=\"Gradient Descent\")\n",
    "ax.plot(ns_loss, label=\"Newton's Method\")\n",
    "ax.plot(sgd_loss, label=\"Stochastic Gradient Descent\")\n",
    "ax.set_ylabel('$\\ell(\\\\theta)$', rotation=0, labelpad=20)\n",
    "ax.set_xlabel('Iteration Number')\n",
    "#ax.set_xscale('log')\n",
    "ax.legend()\n",
    "ws = 1.45\n",
    "hs = 1.15\n",
    "fig.set_size_inches(w=5.73/ws, h=3.5/hs)"
   ]
  }
 ],
 "metadata": {
  "kernelspec": {
   "display_name": "Python 3 (ipykernel)",
   "language": "python",
   "name": "python3"
  },
  "language_info": {
   "codemirror_mode": {
    "name": "ipython",
    "version": 3
   },
   "file_extension": ".py",
   "mimetype": "text/x-python",
   "name": "python",
   "nbconvert_exporter": "python",
   "pygments_lexer": "ipython3",
   "version": "3.11.3"
  }
 },
 "nbformat": 4,
 "nbformat_minor": 5
}
