{
 "cells": [
  {
   "cell_type": "code",
   "execution_count": 1,
   "id": "e8b31a19",
   "metadata": {},
   "outputs": [],
   "source": [
    "from sklearn.datasets import make_regression, make_friedman2, fetch_california_housing\n",
    "from sklearn.linear_model import Lasso\n",
    "from sklearn.model_selection import GridSearchCV\n",
    "import sklearn\n",
    "import numpy as np\n",
    "import matplotlib.pyplot as plt\n",
    "import matplotlib\n",
    "matplotlib.use(\"pgf\")\n",
    "matplotlib.rcParams.update({\n",
    "    \"pgf.texsystem\": \"pdflatex\",\n",
    "    'font.family': 'serif',\n",
    "    'text.usetex': True,\n",
    "    'pgf.rcfonts': False,\n",
    "})\n"
   ]
  },
  {
   "cell_type": "code",
   "execution_count": 2,
   "id": "4fe69177",
   "metadata": {},
   "outputs": [],
   "source": [
    "X, y = make_regression(n_samples=3000, n_features=800, n_informative=4, noise=1, random_state=42)"
   ]
  },
  {
   "cell_type": "code",
   "execution_count": 3,
   "id": "958723e0",
   "metadata": {},
   "outputs": [],
   "source": [
    "lambdas = np.linspace(0.0001, 0.4, 30)"
   ]
  },
  {
   "cell_type": "code",
   "execution_count": 4,
   "id": "cb9212b5",
   "metadata": {},
   "outputs": [],
   "source": [
    "gs = GridSearchCV(Lasso(), {\"alpha\": lambdas}, cv=10, scoring='neg_mean_squared_error')"
   ]
  },
  {
   "cell_type": "code",
   "execution_count": 5,
   "id": "aa09be54",
   "metadata": {},
   "outputs": [],
   "source": [
    "gs.fit(X, y)\n",
    "scores = -gs.cv_results_['mean_test_score']\n",
    "std_error = -gs.cv_results_['std_test_score']"
   ]
  },
  {
   "cell_type": "code",
   "execution_count": 6,
   "id": "6a804b0d",
   "metadata": {},
   "outputs": [],
   "source": [
    "fig, ax = plt.subplots()\n",
    "ax.semilogx(lambdas, scores, color='blue')\n",
    "ax.fill_between(lambdas, scores + std_error, scores - std_error, alpha=0.1)\n",
    "ax.axvline(gs.best_params_['alpha'], color='r', linestyle='--')\n",
    "ax.set_xlabel(\"$\\log(\\lambda)$\")\n",
    "ax.set_ylabel(\"$\\log(MSE)$\")\n",
    "ax.set_xlim([lambdas[0], lambdas[-1]])\n",
    "ax.plot()\n",
    "ws = 1.45 \n",
    "hs = 1.25\n",
    "fig.set_size_inches(w=5.73/ws, h=3.5/hs)\n",
    "plt.tight_layout()\n",
    "plt.savefig('lasso_cv.pgf', bbox_inches='tight', pad_inches=0)"
   ]
  }
 ],
 "metadata": {
  "kernelspec": {
   "display_name": "Python 3 (ipykernel)",
   "language": "python",
   "name": "python3"
  },
  "language_info": {
   "codemirror_mode": {
    "name": "ipython",
    "version": 3
   },
   "file_extension": ".py",
   "mimetype": "text/x-python",
   "name": "python",
   "nbconvert_exporter": "python",
   "pygments_lexer": "ipython3",
   "version": "3.11.3"
  }
 },
 "nbformat": 4,
 "nbformat_minor": 5
}
